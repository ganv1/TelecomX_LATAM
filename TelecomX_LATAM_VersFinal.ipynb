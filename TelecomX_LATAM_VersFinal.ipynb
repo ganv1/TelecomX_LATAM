{
  "cells": [
    {
      "cell_type": "markdown",
      "metadata": {},
      "source": [
        "## El Problema\n",
        "### Has sido contratado como asistente de análisis de datos en Telecom X y formarás parte del proyecto \"Churn de Clientes\". La empresa enfrenta una alta tasa de cancelaciones y necesita comprender los factores que llevan a la pérdida de clientes.\n",
        "\n",
        "### Tu desafío será recopilar, procesar y analizar los datos, utilizando Python y sus principales bibliotecas para extraer información valiosa. A partir de tu análisis, el equipo de Data Science podrá avanzar en modelos predictivos y desarrollar estrategias para reducir la evasión."
      ]
    },
    {
      "cell_type": "markdown",
      "metadata": {},
      "source": [
        "#📌 Extracción"
      ]
    },
    {
      "cell_type": "code",
      "execution_count": 1,
      "metadata": {},
      "outputs": [],
      "source": [
        "# Importamos las librerias necesarias para nuestro proyecto \n",
        "import numpy as np\n",
        "import os\n",
        "import pandas as pd\n",
        "import seaborn as sns\n",
        "import matplotlib.pyplot as plt\n",
        "import plotly.express as px\n",
        "import warnings"
      ]
    },
    {
      "cell_type": "code",
      "execution_count": 2,
      "metadata": {},
      "outputs": [
        {
          "data": {
            "text/html": [
              "<div>\n",
              "<style scoped>\n",
              "    .dataframe tbody tr th:only-of-type {\n",
              "        vertical-align: middle;\n",
              "    }\n",
              "\n",
              "    .dataframe tbody tr th {\n",
              "        vertical-align: top;\n",
              "    }\n",
              "\n",
              "    .dataframe thead th {\n",
              "        text-align: right;\n",
              "    }\n",
              "</style>\n",
              "<table border=\"1\" class=\"dataframe\">\n",
              "  <thead>\n",
              "    <tr style=\"text-align: right;\">\n",
              "      <th></th>\n",
              "      <th>customerID</th>\n",
              "      <th>Churn</th>\n",
              "      <th>customer</th>\n",
              "      <th>phone</th>\n",
              "      <th>internet</th>\n",
              "      <th>account</th>\n",
              "    </tr>\n",
              "  </thead>\n",
              "  <tbody>\n",
              "    <tr>\n",
              "      <th>0</th>\n",
              "      <td>0002-ORFBO</td>\n",
              "      <td>No</td>\n",
              "      <td>{'gender': 'Female', 'SeniorCitizen': 0, 'Part...</td>\n",
              "      <td>{'PhoneService': 'Yes', 'MultipleLines': 'No'}</td>\n",
              "      <td>{'InternetService': 'DSL', 'OnlineSecurity': '...</td>\n",
              "      <td>{'Contract': 'One year', 'PaperlessBilling': '...</td>\n",
              "    </tr>\n",
              "    <tr>\n",
              "      <th>1</th>\n",
              "      <td>0003-MKNFE</td>\n",
              "      <td>No</td>\n",
              "      <td>{'gender': 'Male', 'SeniorCitizen': 0, 'Partne...</td>\n",
              "      <td>{'PhoneService': 'Yes', 'MultipleLines': 'Yes'}</td>\n",
              "      <td>{'InternetService': 'DSL', 'OnlineSecurity': '...</td>\n",
              "      <td>{'Contract': 'Month-to-month', 'PaperlessBilli...</td>\n",
              "    </tr>\n",
              "    <tr>\n",
              "      <th>2</th>\n",
              "      <td>0004-TLHLJ</td>\n",
              "      <td>Yes</td>\n",
              "      <td>{'gender': 'Male', 'SeniorCitizen': 0, 'Partne...</td>\n",
              "      <td>{'PhoneService': 'Yes', 'MultipleLines': 'No'}</td>\n",
              "      <td>{'InternetService': 'Fiber optic', 'OnlineSecu...</td>\n",
              "      <td>{'Contract': 'Month-to-month', 'PaperlessBilli...</td>\n",
              "    </tr>\n",
              "    <tr>\n",
              "      <th>3</th>\n",
              "      <td>0011-IGKFF</td>\n",
              "      <td>Yes</td>\n",
              "      <td>{'gender': 'Male', 'SeniorCitizen': 1, 'Partne...</td>\n",
              "      <td>{'PhoneService': 'Yes', 'MultipleLines': 'No'}</td>\n",
              "      <td>{'InternetService': 'Fiber optic', 'OnlineSecu...</td>\n",
              "      <td>{'Contract': 'Month-to-month', 'PaperlessBilli...</td>\n",
              "    </tr>\n",
              "    <tr>\n",
              "      <th>4</th>\n",
              "      <td>0013-EXCHZ</td>\n",
              "      <td>Yes</td>\n",
              "      <td>{'gender': 'Female', 'SeniorCitizen': 1, 'Part...</td>\n",
              "      <td>{'PhoneService': 'Yes', 'MultipleLines': 'No'}</td>\n",
              "      <td>{'InternetService': 'Fiber optic', 'OnlineSecu...</td>\n",
              "      <td>{'Contract': 'Month-to-month', 'PaperlessBilli...</td>\n",
              "    </tr>\n",
              "  </tbody>\n",
              "</table>\n",
              "</div>"
            ],
            "text/plain": [
              "   customerID Churn                                           customer  \\\n",
              "0  0002-ORFBO    No  {'gender': 'Female', 'SeniorCitizen': 0, 'Part...   \n",
              "1  0003-MKNFE    No  {'gender': 'Male', 'SeniorCitizen': 0, 'Partne...   \n",
              "2  0004-TLHLJ   Yes  {'gender': 'Male', 'SeniorCitizen': 0, 'Partne...   \n",
              "3  0011-IGKFF   Yes  {'gender': 'Male', 'SeniorCitizen': 1, 'Partne...   \n",
              "4  0013-EXCHZ   Yes  {'gender': 'Female', 'SeniorCitizen': 1, 'Part...   \n",
              "\n",
              "                                             phone  \\\n",
              "0   {'PhoneService': 'Yes', 'MultipleLines': 'No'}   \n",
              "1  {'PhoneService': 'Yes', 'MultipleLines': 'Yes'}   \n",
              "2   {'PhoneService': 'Yes', 'MultipleLines': 'No'}   \n",
              "3   {'PhoneService': 'Yes', 'MultipleLines': 'No'}   \n",
              "4   {'PhoneService': 'Yes', 'MultipleLines': 'No'}   \n",
              "\n",
              "                                            internet  \\\n",
              "0  {'InternetService': 'DSL', 'OnlineSecurity': '...   \n",
              "1  {'InternetService': 'DSL', 'OnlineSecurity': '...   \n",
              "2  {'InternetService': 'Fiber optic', 'OnlineSecu...   \n",
              "3  {'InternetService': 'Fiber optic', 'OnlineSecu...   \n",
              "4  {'InternetService': 'Fiber optic', 'OnlineSecu...   \n",
              "\n",
              "                                             account  \n",
              "0  {'Contract': 'One year', 'PaperlessBilling': '...  \n",
              "1  {'Contract': 'Month-to-month', 'PaperlessBilli...  \n",
              "2  {'Contract': 'Month-to-month', 'PaperlessBilli...  \n",
              "3  {'Contract': 'Month-to-month', 'PaperlessBilli...  \n",
              "4  {'Contract': 'Month-to-month', 'PaperlessBilli...  "
            ]
          },
          "execution_count": 2,
          "metadata": {},
          "output_type": "execute_result"
        }
      ],
      "source": [
        "# Conociendo el df, recopilamos los datos de una fuente externa en este caso un archivo .json desde github\n",
        "df = pd.read_json(r\"https://raw.githubusercontent.com/ganv1/TelecomX_LATAM/refs/heads/main/TelecomX_Data.json\")\n",
        "df.head()"
      ]
    },
    {
      "cell_type": "code",
      "execution_count": 3,
      "metadata": {
        "id": "1--uPM88l7JH"
      },
      "outputs": [
        {
          "name": "stdout",
          "output_type": "stream",
          "text": [
            "<class 'pandas.core.frame.DataFrame'>\n",
            "RangeIndex: 7267 entries, 0 to 7266\n",
            "Data columns (total 6 columns):\n",
            " #   Column      Non-Null Count  Dtype \n",
            "---  ------      --------------  ----- \n",
            " 0   customerID  7267 non-null   object\n",
            " 1   Churn       7267 non-null   object\n",
            " 2   customer    7267 non-null   object\n",
            " 3   phone       7267 non-null   object\n",
            " 4   internet    7267 non-null   object\n",
            " 5   account     7267 non-null   object\n",
            "dtypes: object(6)\n",
            "memory usage: 340.8+ KB\n",
            "None\n"
          ]
        }
      ],
      "source": [
        "# Exploración inicial, antes de transformar los datos, revisemos su estructura y la información general del dataframe\n",
        "print(df.info())  \n"
      ]
    },
    {
      "cell_type": "code",
      "execution_count": 4,
      "metadata": {},
      "outputs": [
        {
          "name": "stdout",
          "output_type": "stream",
          "text": [
            "[\n",
            "    {\n",
            "        \"customerID\": \"0002-ORFBO\",\n",
            "        \"Churn\": \"No\",\n",
            "        \"customer\": {\n",
            "            \"gender\": \"Female\",\n",
            "            \"SeniorCitizen\": 0,\n",
            "            \"Partner\": \"Yes\",\n",
            "            \"Dependents\": \"Yes\",\n",
            "            \"tenure\": 9\n",
            "        },\n",
            "        \"phone\": {\n",
            "            \"PhoneService\": \"Yes\",\n",
            "            \"MultipleLines\": \"No\"\n",
            "        },\n",
            "        \"internet\": {\n",
            "            \"InternetService\": \"DSL\",\n",
            "            \"OnlineSecurity\": \"No\",\n",
            "            \"OnlineBackup\": \"Yes\",\n",
            "            \"DeviceProtection\": \"No\",\n",
            "            \"TechSupport\": \"Yes\",\n",
            "            \"StreamingTV\": \"Yes\",\n",
            "            \"StreamingMovies\": \"No\"\n",
            "        },\n",
            "        \"account\": {\n",
            "            \"Contract\": \"One year\",\n",
            "            \"PaperlessBilling\": \"Yes\",\n",
            "            \"PaymentMethod\": \"Mailed check\",\n",
            "            \"Charges\": {\n",
            "                \"Monthly\": 65.6,\n",
            "                \"Total\": \"593.3\"\n",
            "            }\n",
            "        }\n",
            "    },\n",
            "    {\n",
            "        \"customerID\": \"0003-MKNFE\",\n",
            "        \"Churn\": \"No\",\n",
            "        \"customer\": {\n",
            "            \"gender\": \"Male\",\n",
            "            \"SeniorCitizen\": 0,\n",
            "            \"Partner\": \"No\",\n",
            "            \"Dependents\": \"No\",\n",
            "            \"tenure\": 9\n",
            "        },\n",
            "        \"phone\": {\n",
            "            \"PhoneService\": \"Yes\",\n",
            "            \"MultipleLines\": \"Yes\"\n",
            "        },\n",
            "        \"internet\": {\n",
            "            \"InternetService\": \"DSL\",\n",
            "            \"OnlineSecurity\": \"No\",\n",
            "            \"OnlineBackup\": \"No\",\n",
            "            \"DeviceProtection\": \"No\",\n",
            "            \"TechSupport\": \"No\",\n",
            "            \"StreamingTV\": \"No\",\n",
            "            \"StreamingMovies\": \"Yes\"\n",
            "        },\n",
            "        \"account\": {\n",
            "            \"Contract\": \"Month-to-month\",\n",
            "            \"PaperlessBilling\": \"No\",\n",
            "            \"PaymentMethod\": \"Mailed check\",\n",
            "            \"Charges\": {\n",
            "                \"Monthly\": 59.9,\n",
            "                \"Total\": \"542.4\"\n",
            "            }\n",
            "        }\n",
            "    }\n",
            "]\n"
          ]
        }
      ],
      "source": [
        "# Verificamos la estructura del archivo json\n",
        "import json\n",
        "warnings.filterwarnings(\"ignore\")\n",
        "# Ver la estructura del JSON\n",
        "with open(r\"TelecomX_Data.json\") as f:\n",
        "    data = json.load(f)\n",
        "\n",
        "# Mostramos  los 2 primeros registros con formato json con sangria  de 4 espacios para explorar la data de forma legible.\n",
        "\n",
        "print(json.dumps(data[:2], indent=4))  "
      ]
    },
    {
      "cell_type": "code",
      "execution_count": null,
      "metadata": {},
      "outputs": [
        {
          "name": "stdout",
          "output_type": "stream",
          "text": [
            "<class 'pandas.core.frame.DataFrame'>\n",
            "RangeIndex: 7267 entries, 0 to 7266\n",
            "Data columns (total 21 columns):\n",
            " #   Column                     Non-Null Count  Dtype  \n",
            "---  ------                     --------------  -----  \n",
            " 0   customerID                 7267 non-null   object \n",
            " 1   Churn                      7267 non-null   object \n",
            " 2   customer.gender            7267 non-null   object \n",
            " 3   customer.SeniorCitizen     7267 non-null   int64  \n",
            " 4   customer.Partner           7267 non-null   object \n",
            " 5   customer.Dependents        7267 non-null   object \n",
            " 6   customer.tenure            7267 non-null   int64  \n",
            " 7   phone.PhoneService         7267 non-null   object \n",
            " 8   phone.MultipleLines        7267 non-null   object \n",
            " 9   internet.InternetService   7267 non-null   object \n",
            " 10  internet.OnlineSecurity    7267 non-null   object \n",
            " 11  internet.OnlineBackup      7267 non-null   object \n",
            " 12  internet.DeviceProtection  7267 non-null   object \n",
            " 13  internet.TechSupport       7267 non-null   object \n",
            " 14  internet.StreamingTV       7267 non-null   object \n",
            " 15  internet.StreamingMovies   7267 non-null   object \n",
            " 16  account.Contract           7267 non-null   object \n",
            " 17  account.PaperlessBilling   7267 non-null   object \n",
            " 18  account.PaymentMethod      7267 non-null   object \n",
            " 19  account.Charges.Monthly    7267 non-null   float64\n",
            " 20  account.Charges.Total      7267 non-null   object \n",
            "dtypes: float64(1), int64(2), object(18)\n",
            "memory usage: 1.2+ MB\n",
            "None\n"
          ]
        }
      ],
      "source": [
        "\n",
        "# Normalizamos la estructura del archivo JSON\n",
        "df = pd.json_normalize(data)\n",
        "\n",
        "# Visualización inicial\n",
        "\n",
        "print(df.info())\n"
      ]
    },
    {
      "cell_type": "code",
      "execution_count": 6,
      "metadata": {},
      "outputs": [
        {
          "name": "stdout",
          "output_type": "stream",
          "text": [
            "       customer.SeniorCitizen  customer.tenure  account.Charges.Monthly\n",
            "count             7267.000000      7267.000000              7267.000000\n",
            "mean                 0.162653        32.346498                64.720098\n",
            "std                  0.369074        24.571773                30.129572\n",
            "min                  0.000000         0.000000                18.250000\n",
            "25%                  0.000000         9.000000                35.425000\n",
            "50%                  0.000000        29.000000                70.300000\n",
            "75%                  0.000000        55.000000                89.875000\n",
            "max                  1.000000        72.000000               118.750000\n"
          ]
        }
      ],
      "source": [
        "# Estadisticas generales del dataframe, para conocer los datos que contiene\n",
        "print(df.describe())\n"
      ]
    },
    {
      "cell_type": "code",
      "execution_count": 7,
      "metadata": {},
      "outputs": [
        {
          "name": "stdout",
          "output_type": "stream",
          "text": [
            "   customerID Churn customer.gender  customer.SeniorCitizen customer.Partner  \\\n",
            "0  0002-ORFBO    No          Female                       0              Yes   \n",
            "1  0003-MKNFE    No            Male                       0               No   \n",
            "2  0004-TLHLJ   Yes            Male                       0               No   \n",
            "3  0011-IGKFF   Yes            Male                       1              Yes   \n",
            "4  0013-EXCHZ   Yes          Female                       1              Yes   \n",
            "5  0013-MHZWF    No          Female                       0               No   \n",
            "6  0013-SMEOE    No          Female                       1              Yes   \n",
            "7  0014-BMAQU    No            Male                       0              Yes   \n",
            "8  0015-UOCOJ    No          Female                       1               No   \n",
            "9  0016-QLJIS    No          Female                       0              Yes   \n",
            "\n",
            "  customer.Dependents  customer.tenure phone.PhoneService phone.MultipleLines  \\\n",
            "0                 Yes                9                Yes                  No   \n",
            "1                  No                9                Yes                 Yes   \n",
            "2                  No                4                Yes                  No   \n",
            "3                  No               13                Yes                  No   \n",
            "4                  No                3                Yes                  No   \n",
            "5                 Yes                9                Yes                  No   \n",
            "6                  No               71                Yes                  No   \n",
            "7                  No               63                Yes                 Yes   \n",
            "8                  No                7                Yes                  No   \n",
            "9                 Yes               65                Yes                 Yes   \n",
            "\n",
            "  internet.InternetService  ... internet.OnlineBackup  \\\n",
            "0                      DSL  ...                   Yes   \n",
            "1                      DSL  ...                    No   \n",
            "2              Fiber optic  ...                    No   \n",
            "3              Fiber optic  ...                   Yes   \n",
            "4              Fiber optic  ...                    No   \n",
            "5                      DSL  ...                    No   \n",
            "6              Fiber optic  ...                   Yes   \n",
            "7              Fiber optic  ...                    No   \n",
            "8                      DSL  ...                    No   \n",
            "9                      DSL  ...                   Yes   \n",
            "\n",
            "  internet.DeviceProtection internet.TechSupport internet.StreamingTV  \\\n",
            "0                        No                  Yes                  Yes   \n",
            "1                        No                   No                   No   \n",
            "2                       Yes                   No                   No   \n",
            "3                       Yes                   No                  Yes   \n",
            "4                        No                  Yes                  Yes   \n",
            "5                        No                  Yes                  Yes   \n",
            "6                       Yes                  Yes                  Yes   \n",
            "7                        No                  Yes                   No   \n",
            "8                        No                   No                   No   \n",
            "9                       Yes                  Yes                  Yes   \n",
            "\n",
            "  internet.StreamingMovies account.Contract account.PaperlessBilling  \\\n",
            "0                       No         One year                      Yes   \n",
            "1                      Yes   Month-to-month                       No   \n",
            "2                       No   Month-to-month                      Yes   \n",
            "3                      Yes   Month-to-month                      Yes   \n",
            "4                       No   Month-to-month                      Yes   \n",
            "5                      Yes   Month-to-month                      Yes   \n",
            "6                      Yes         Two year                      Yes   \n",
            "7                       No         Two year                      Yes   \n",
            "8                       No   Month-to-month                      Yes   \n",
            "9                      Yes         Two year                      Yes   \n",
            "\n",
            "       account.PaymentMethod account.Charges.Monthly  account.Charges.Total  \n",
            "0               Mailed check                   65.60                  593.3  \n",
            "1               Mailed check                   59.90                  542.4  \n",
            "2           Electronic check                   73.90                 280.85  \n",
            "3           Electronic check                   98.00                1237.85  \n",
            "4               Mailed check                   83.90                  267.4  \n",
            "5    Credit card (automatic)                   69.40                 571.45  \n",
            "6  Bank transfer (automatic)                  109.70                7904.25  \n",
            "7    Credit card (automatic)                   84.65                 5377.8  \n",
            "8           Electronic check                   48.20                 340.35  \n",
            "9               Mailed check                   90.45                 5957.9  \n",
            "\n",
            "[10 rows x 21 columns]\n"
          ]
        }
      ],
      "source": [
        "# Mostrar primeras filas del dataset\n",
        "print(df.head(10))\n",
        "\n"
      ]
    },
    {
      "cell_type": "code",
      "execution_count": 8,
      "metadata": {},
      "outputs": [
        {
          "name": "stdout",
          "output_type": "stream",
          "text": [
            "customerID                   0\n",
            "Churn                        0\n",
            "customer.gender              0\n",
            "customer.SeniorCitizen       0\n",
            "customer.Partner             0\n",
            "customer.Dependents          0\n",
            "customer.tenure              0\n",
            "phone.PhoneService           0\n",
            "phone.MultipleLines          0\n",
            "internet.InternetService     0\n",
            "internet.OnlineSecurity      0\n",
            "internet.OnlineBackup        0\n",
            "internet.DeviceProtection    0\n",
            "internet.TechSupport         0\n",
            "internet.StreamingTV         0\n",
            "internet.StreamingMovies     0\n",
            "account.Contract             0\n",
            "account.PaperlessBilling     0\n",
            "account.PaymentMethod        0\n",
            "account.Charges.Monthly      0\n",
            "account.Charges.Total        0\n",
            "dtype: int64\n"
          ]
        }
      ],
      "source": [
        "# Mostrar cantidad de valores nulos por columna\n",
        "print(df.isnull().sum())\n"
      ]
    },
    {
      "cell_type": "code",
      "execution_count": null,
      "metadata": {},
      "outputs": [],
      "source": []
    },
    {
      "cell_type": "markdown",
      "metadata": {
        "id": "1lSZP8zmmGZu"
      },
      "source": [
        "#🔧 Transformación"
      ]
    },
    {
      "cell_type": "code",
      "execution_count": null,
      "metadata": {},
      "outputs": [],
      "source": [
        "# Convertimos las variables de texto en valores numéricos para facilitar el procesamiento.\n",
        "# Mapeamos variables categóricas a valores numéricos para facilitar su análisis\n",
        "\n",
        "\n",
        "df[\"Churn\"] = df[\"Churn\"].map({\"Yes\": 1, \"No\": 0})\n",
        "df[\"customer.gender\"] = df[\"customer.gender\"].map({\"Female\": 0, \"Male\": 1})\n",
        "df[\"account.Contract\"] = df[\"account.Contract\"].map({\"Month-to-month\": 0, \"One year\": 1, \"Two year\": 2})\n",
        "df[\"account.PaperlessBilling\"] = df[\"account.PaperlessBilling\"].map({\"Yes\": 1, \"No\": 0})"
      ]
    },
    {
      "cell_type": "code",
      "execution_count": 10,
      "metadata": {},
      "outputs": [
        {
          "name": "stdout",
          "output_type": "stream",
          "text": [
            "<class 'pandas.core.frame.DataFrame'>\n",
            "RangeIndex: 7267 entries, 0 to 7266\n",
            "Data columns (total 21 columns):\n",
            " #   Column                     Non-Null Count  Dtype  \n",
            "---  ------                     --------------  -----  \n",
            " 0   customerID                 7267 non-null   object \n",
            " 1   Churn                      7043 non-null   float64\n",
            " 2   customer.gender            7267 non-null   int64  \n",
            " 3   customer.SeniorCitizen     7267 non-null   int64  \n",
            " 4   customer.Partner           7267 non-null   object \n",
            " 5   customer.Dependents        7267 non-null   object \n",
            " 6   customer.tenure            7267 non-null   int64  \n",
            " 7   phone.PhoneService         7267 non-null   object \n",
            " 8   phone.MultipleLines        7267 non-null   object \n",
            " 9   internet.InternetService   7267 non-null   object \n",
            " 10  internet.OnlineSecurity    7267 non-null   object \n",
            " 11  internet.OnlineBackup      7267 non-null   object \n",
            " 12  internet.DeviceProtection  7267 non-null   object \n",
            " 13  internet.TechSupport       7267 non-null   object \n",
            " 14  internet.StreamingTV       7267 non-null   object \n",
            " 15  internet.StreamingMovies   7267 non-null   object \n",
            " 16  account.Contract           7267 non-null   int64  \n",
            " 17  account.PaperlessBilling   7267 non-null   int64  \n",
            " 18  account.PaymentMethod      7267 non-null   object \n",
            " 19  account.Charges.Monthly    7267 non-null   float64\n",
            " 20  account.Charges.Total      7256 non-null   float64\n",
            "dtypes: float64(3), int64(5), object(13)\n",
            "memory usage: 1.2+ MB\n",
            "None\n"
          ]
        }
      ],
      "source": [
        "# Convertir \"account.Charges.Total\" a numérico\n",
        "df[\"account.Charges.Total\"] = pd.to_numeric(df[\"account.Charges.Total\"], errors=\"coerce\")\n",
        "\n",
        "# Eliminamos duplicados\n",
        "df = df.drop_duplicates()\n",
        "\n",
        "# Revisamos los cambios\n",
        "print(df.info())  \n",
        "\n"
      ]
    },
    {
      "cell_type": "code",
      "execution_count": null,
      "metadata": {},
      "outputs": [
        {
          "data": {
            "image/png": "[encoded data removed]",
            "text/plain": [
              "<Figure size 800x500 with 1 Axes>"
            ]
          },
          "metadata": {},
          "output_type": "display_data"
        }
      ],
      "source": [
        "# Contar los valores de cada categoría\n",
        "churn_counts = df[\"Churn\"].value_counts()\n",
        "\n",
        "# Configurar el tamaño de la figura\n",
        "plt.figure(figsize=(8, 5))\n",
        "sns.set_style(\"whitegrid\")\n",
        "  \n",
        "\n",
        "# Crear el gráfico de barras\n",
        "sns.barplot(x=churn_counts.index, y=churn_counts.values, palette=[\"blue\", \"red\"])\n",
        "\n",
        "# Etiquetas y título\n",
        "plt.xlabel(\"Categoría de Clientes\", fontsize=12)\n",
        "plt.ylabel(\"Cantidad de Clientes\", fontsize=12)\n",
        "plt.title(\"Distribución de Clientes según Churn\", fontsize=14, fontweight=\"bold\")\n",
        "\n",
        "\n",
        "plt.show()"
      ]
    },
    {
      "cell_type": "markdown",
      "metadata": {},
      "source": []
    },
    {
      "cell_type": "markdown",
      "metadata": {},
      "source": [
        "#📊 Carga y análisis"
      ]
    },
    {
      "cell_type": "code",
      "execution_count": 12,
      "metadata": {},
      "outputs": [],
      "source": [
        "# Guardamos un archivo csv para futuras consultas y/o análisis\n",
        "\n",
        "df.to_csv(\"DatosLimpios.csv\", index=False)"
      ]
    },
    {
      "cell_type": "markdown",
      "metadata": {},
      "source": [
        "1. Analisis demográfico"
      ]
    },
    {
      "cell_type": "code",
      "execution_count": 13,
      "metadata": {},
      "outputs": [
        {
          "name": "stdout",
          "output_type": "stream",
          "text": [
            "\n",
            "Tasa de Perdida de Clientes por customer.gender:\n",
            "customer.gender\n",
            "0    26.92\n",
            "1    26.16\n",
            "Name: Churn, dtype: float64\n",
            "\n",
            "Tasa de Perdida de Clientes por customer.SeniorCitizen:\n",
            "customer.SeniorCitizen\n",
            "0    23.61\n",
            "1    41.68\n",
            "Name: Churn, dtype: float64\n",
            "\n",
            "Tasa de Perdida de Clientes por customer.Partner:\n",
            "customer.Partner\n",
            "No     32.96\n",
            "Yes    19.66\n",
            "Name: Churn, dtype: float64\n",
            "\n",
            "Tasa de Perdida de Clientes por customer.Dependents:\n",
            "customer.Dependents\n",
            "No     31.28\n",
            "Yes    15.45\n",
            "Name: Churn, dtype: float64\n"
          ]
        }
      ],
      "source": [
        "demograficos = ['customer.gender', 'customer.SeniorCitizen', 'customer.Partner', 'customer.Dependents']\n",
        "for var in demograficos:\n",
        "    print(f\"\\nTasa de Perdida de Clientes por {var}:\")\n",
        "    print(df.groupby(var)['Churn'].mean().round(4)*100)"
      ]
    },
    {
      "cell_type": "markdown",
      "metadata": {},
      "source": [
        "2. Analisis por Servicios contratados"
      ]
    },
    {
      "cell_type": "code",
      "execution_count": 14,
      "metadata": {},
      "outputs": [
        {
          "data": {
            "image/png": "[encoded data removed]",
            "text/plain": [
              "<Figure size 640x480 with 1 Axes>"
            ]
          },
          "metadata": {},
          "output_type": "display_data"
        },
        {
          "data": {
            "image/png": "[encoded data removed]",
            "text/plain": [
              "<Figure size 640x480 with 1 Axes>"
            ]
          },
          "metadata": {},
          "output_type": "display_data"
        },
        {
          "data": {
            "image/png": "[encoded data removed]",
            "text/plain": [
              "<Figure size 640x480 with 1 Axes>"
            ]
          },
          "metadata": {},
          "output_type": "display_data"
        },
        {
          "data": {
            "image/png": "[encoded data removed]",
            "text/plain": [
              "<Figure size 640x480 with 1 Axes>"
            ]
          },
          "metadata": {},
          "output_type": "display_data"
        },
        {
          "data": {
            "image/png": "[encoded data removed]",
            "text/plain": [
              "<Figure size 640x480 with 1 Axes>"
            ]
          },
          "metadata": {},
          "output_type": "display_data"
        }
      ],
      "source": [
        "servicios = {\n",
        "    'phone.PhoneService': ['Yes', 'No'],\n",
        "    'phone.MultipleLines': ['No phone service', 'No', 'Yes'],\n",
        "    'internet.InternetService': ['DSL', 'Fiber optic', 'No'],\n",
        "    'internet.StreamingTV': ['No', 'Yes'],\n",
        "    'internet.StreamingMovies': ['No', 'Yes']\n",
        "}\n",
        "\n",
        "for servicio, categorias in servicios.items():\n",
        "    \n",
        "    # Filtra solo las categorías relevantes\n",
        "    temp = df[df[servicio].isin(categorias)]\n",
        "    \n",
        "    # Calcular la tasa de Churn por categoría\n",
        "    churn_por_servicio = (\n",
        "        temp.groupby(servicio)['Churn']\n",
        "        .mean()\n",
        "        .sort_values(ascending=False)\n",
        "        .round(4) * 100\n",
        "    )\n",
        "    # Graficar \n",
        "    if len(churn_por_servicio) > 1:\n",
        "        churn_por_servicio.plot(kind='bar', title=f'Tasa de Perdida de Clientes por {servicio}')\n",
        "        plt.ylabel('Tasa de Churn (%)')\n",
        "        plt.show()\n",
        "    else:\n",
        "        print(f\"{servicio}:\")\n",
        "        print(churn_por_servicio)"
      ]
    },
    {
      "cell_type": "markdown",
      "metadata": {},
      "source": []
    },
    {
      "cell_type": "markdown",
      "metadata": {},
      "source": [
        "3. Analisis de Servicios adicionales (Seguridad y protección)"
      ]
    },
    {
      "cell_type": "code",
      "execution_count": null,
      "metadata": {},
      "outputs": [
        {
          "data": {
            "application/vnd.plotly.v1+json": {
              "config": {
                "plotlyServerURL": "https://plot.ly"
              },
              "data": [
                {
                  "domain": {
                    "x": [
                      0,
                      0.2125
                    ],
                    "y": [
                      0,
                      1
                    ]
                  },
                  "labels": [
                    "No",
                    "No internet service",
                    "Yes"
                  ],
                  "textinfo": "percent",
                  "type": "pie",
                  "values": {
                    "bdata": "w/UoXI/iRECZmZmZmZkdQLkehetROC1A",
                    "dtype": "f8"
                  }
                },
                {
                  "domain": {
                    "x": [
                      0.2625,
                      0.475
                    ],
                    "y": [
                      0,
                      1
                    ]
                  },
                  "labels": [
                    "No",
                    "No internet service",
                    "Yes"
                  ],
                  "textinfo": "percent",
                  "type": "pie",
                  "values": {
                    "bdata": "16NwPQr3Q0CZmZmZmZkdQEfhehSuhzVA",
                    "dtype": "f8"
                  }
                },
                {
                  "domain": {
                    "x": [
                      0.525,
                      0.7375
                    ],
                    "y": [
                      0,
                      1
                    ]
                  },
                  "labels": [
                    "No",
                    "No internet service",
                    "Yes"
                  ],
                  "textinfo": "percent",
                  "type": "pie",
                  "values": {
                    "bdata": "cD0K16OQQ0CZmZmZmZkdQAAAAAAAgDZA",
                    "dtype": "f8"
                  }
                },
                {
                  "domain": {
                    "x": [
                      0.7875,
                      1
                    ],
                    "y": [
                      0,
                      1
                    ]
                  },
                  "labels": [
                    "No",
                    "No internet service",
                    "Yes"
                  ],
                  "textinfo": "percent",
                  "type": "pie",
                  "values": {
                    "bdata": "UrgehevRRECZmZmZmZkdQNejcD0KVy5A",
                    "dtype": "f8"
                  }
                }
              ],
              "layout": {
                "annotations": [
                  {
                    "font": {
                      "size": 16
                    },
                    "showarrow": false,
                    "text": "Churn por internet.OnlineSecurity",
                    "x": 0.10625,
                    "xanchor": "center",
                    "xref": "paper",
                    "y": 1,
                    "yanchor": "bottom",
                    "yref": "paper"
                  },
                  {
                    "font": {
                      "size": 16
                    },
                    "showarrow": false,
                    "text": "Churn por internet.OnlineBackup",
                    "x": 0.36875,
                    "xanchor": "center",
                    "xref": "paper",
                    "y": 1,
                    "yanchor": "bottom",
                    "yref": "paper"
                  },
                  {
                    "font": {
                      "size": 16
                    },
                    "showarrow": false,
                    "text": "Churn por internet.DeviceProtection",
                    "x": 0.6312500000000001,
                    "xanchor": "center",
                    "xref": "paper",
                    "y": 1,
                    "yanchor": "bottom",
                    "yref": "paper"
                  },
                  {
                    "font": {
                      "size": 16
                    },
                    "showarrow": false,
                    "text": "Churn por internet.TechSupport",
                    "x": 0.89375,
                    "xanchor": "center",
                    "xref": "paper",
                    "y": 1,
                    "yanchor": "bottom",
                    "yref": "paper"
                  }
                ],
                "height": 400,
                "margin": {
                  "b": 20,
                  "l": 20,
                  "r": 20,
                  "t": 80
                },
                "paper_bgcolor": "rgba(0,0,0,0)",
                "plot_bgcolor": "rgba(0,0,0,0)",
                "showlegend": false,
                "template": {
                  "data": {
                    "bar": [
                      {
                        "error_x": {
                          "color": "#2a3f5f"
                        },
                        "error_y": {
                          "color": "#2a3f5f"
                        },
                        "marker": {
                          "line": {
                            "color": "#E5ECF6",
                            "width": 0.5
                          },
                          "pattern": {
                            "fillmode": "overlay",
                            "size": 10,
                            "solidity": 0.2
                          }
                        },
                        "type": "bar"
                      }
                    ],
                    "barpolar": [
                      {
                        "marker": {
                          "line": {
                            "color": "#E5ECF6",
                            "width": 0.5
                          },
                          "pattern": {
                            "fillmode": "overlay",
                            "size": 10,
                            "solidity": 0.2
                          }
                        },
                        "type": "barpolar"
                      }
                    ],
                    "carpet": [
                      {
                        "aaxis": {
                          "endlinecolor": "#2a3f5f",
                          "gridcolor": "white",
                          "linecolor": "white",
                          "minorgridcolor": "white",
                          "startlinecolor": "#2a3f5f"
                        },
                        "baxis": {
                          "endlinecolor": "#2a3f5f",
                          "gridcolor": "white",
                          "linecolor": "white",
                          "minorgridcolor": "white",
                          "startlinecolor": "#2a3f5f"
                        },
                        "type": "carpet"
                      }
                    ],
                    "choropleth": [
                      {
                        "colorbar": {
                          "outlinewidth": 0,
                          "ticks": ""
                        },
                        "type": "choropleth"
                      }
                    ],
                    "contour": [
                      {
                        "colorbar": {
                          "outlinewidth": 0,
                          "ticks": ""
                        },
                        "colorscale": [
                          [
                            0,
                            "#0d0887"
                          ],
                          [
                            0.1111111111111111,
                            "#46039f"
                          ],
                          [
                            0.2222222222222222,
                            "#7201a8"
                          ],
                          [
                            0.3333333333333333,
                            "#9c179e"
                          ],
                          [
                            0.4444444444444444,
                            "#bd3786"
                          ],
                          [
                            0.5555555555555556,
                            "#d8576b"
                          ],
                          [
                            0.6666666666666666,
                            "#ed7953"
                          ],
                          [
                            0.7777777777777778,
                            "#fb9f3a"
                          ],
                          [
                            0.8888888888888888,
                            "#fdca26"
                          ],
                          [
                            1,
                            "#f0f921"
                          ]
                        ],
                        "type": "contour"
                      }
                    ],
                    "contourcarpet": [
                      {
                        "colorbar": {
                          "outlinewidth": 0,
                          "ticks": ""
                        },
                        "type": "contourcarpet"
                      }
                    ],
                    "heatmap": [
                      {
                        "colorbar": {
                          "outlinewidth": 0,
                          "ticks": ""
                        },
                        "colorscale": [
                          [
                            0,
                            "#0d0887"
                          ],
                          [
                            0.1111111111111111,
                            "#46039f"
                          ],
                          [
                            0.2222222222222222,
                            "#7201a8"
                          ],
                          [
                            0.3333333333333333,
                            "#9c179e"
                          ],
                          [
                            0.4444444444444444,
                            "#bd3786"
                          ],
                          [
                            0.5555555555555556,
                            "#d8576b"
                          ],
                          [
                            0.6666666666666666,
                            "#ed7953"
                          ],
                          [
                            0.7777777777777778,
                            "#fb9f3a"
                          ],
                          [
                            0.8888888888888888,
                            "#fdca26"
                          ],
                          [
                            1,
                            "#f0f921"
                          ]
                        ],
                        "type": "heatmap"
                      }
                    ],
                    "histogram": [
                      {
                        "marker": {
                          "pattern": {
                            "fillmode": "overlay",
                            "size": 10,
                            "solidity": 0.2
                          }
                        },
                        "type": "histogram"
                      }
                    ],
                    "histogram2d": [
                      {
                        "colorbar": {
                          "outlinewidth": 0,
                          "ticks": ""
                        },
                        "colorscale": [
                          [
                            0,
                            "#0d0887"
                          ],
                          [
                            0.1111111111111111,
                            "#46039f"
                          ],
                          [
                            0.2222222222222222,
                            "#7201a8"
                          ],
                          [
                            0.3333333333333333,
                            "#9c179e"
                          ],
                          [
                            0.4444444444444444,
                            "#bd3786"
                          ],
                          [
                            0.5555555555555556,
                            "#d8576b"
                          ],
                          [
                            0.6666666666666666,
                            "#ed7953"
                          ],
                          [
                            0.7777777777777778,
                            "#fb9f3a"
                          ],
                          [
                            0.8888888888888888,
                            "#fdca26"
                          ],
                          [
                            1,
                            "#f0f921"
                          ]
                        ],
                        "type": "histogram2d"
                      }
                    ],
                    "histogram2dcontour": [
                      {
                        "colorbar": {
                          "outlinewidth": 0,
                          "ticks": ""
                        },
                        "colorscale": [
                          [
                            0,
                            "#0d0887"
                          ],
                          [
                            0.1111111111111111,
                            "#46039f"
                          ],
                          [
                            0.2222222222222222,
                            "#7201a8"
                          ],
                          [
                            0.3333333333333333,
                            "#9c179e"
                          ],
                          [
                            0.4444444444444444,
                            "#bd3786"
                          ],
                          [
                            0.5555555555555556,
                            "#d8576b"
                          ],
                          [
                            0.6666666666666666,
                            "#ed7953"
                          ],
                          [
                            0.7777777777777778,
                            "#fb9f3a"
                          ],
                          [
                            0.8888888888888888,
                            "#fdca26"
                          ],
                          [
                            1,
                            "#f0f921"
                          ]
                        ],
                        "type": "histogram2dcontour"
                      }
                    ],
                    "mesh3d": [
                      {
                        "colorbar": {
                          "outlinewidth": 0,
                          "ticks": ""
                        },
                        "type": "mesh3d"
                      }
                    ],
                    "parcoords": [
                      {
                        "line": {
                          "colorbar": {
                            "outlinewidth": 0,
                            "ticks": ""
                          }
                        },
                        "type": "parcoords"
                      }
                    ],
                    "pie": [
                      {
                        "automargin": true,
                        "type": "pie"
                      }
                    ],
                    "scatter": [
                      {
                        "fillpattern": {
                          "fillmode": "overlay",
                          "size": 10,
                          "solidity": 0.2
                        },
                        "type": "scatter"
                      }
                    ],
                    "scatter3d": [
                      {
                        "line": {
                          "colorbar": {
                            "outlinewidth": 0,
                            "ticks": ""
                          }
                        },
                        "marker": {
                          "colorbar": {
                            "outlinewidth": 0,
                            "ticks": ""
                          }
                        },
                        "type": "scatter3d"
                      }
                    ],
                    "scattercarpet": [
                      {
                        "marker": {
                          "colorbar": {
                            "outlinewidth": 0,
                            "ticks": ""
                          }
                        },
                        "type": "scattercarpet"
                      }
                    ],
                    "scattergeo": [
                      {
                        "marker": {
                          "colorbar": {
                            "outlinewidth": 0,
                            "ticks": ""
                          }
                        },
                        "type": "scattergeo"
                      }
                    ],
                    "scattergl": [
                      {
                        "marker": {
                          "colorbar": {
                            "outlinewidth": 0,
                            "ticks": ""
                          }
                        },
                        "type": "scattergl"
                      }
                    ],
                    "scattermap": [
                      {
                        "marker": {
                          "colorbar": {
                            "outlinewidth": 0,
                            "ticks": ""
                          }
                        },
                        "type": "scattermap"
                      }
                    ],
                    "scattermapbox": [
                      {
                        "marker": {
                          "colorbar": {
                            "outlinewidth": 0,
                            "ticks": ""
                          }
                        },
                        "type": "scattermapbox"
                      }
                    ],
                    "scatterpolar": [
                      {
                        "marker": {
                          "colorbar": {
                            "outlinewidth": 0,
                            "ticks": ""
                          }
                        },
                        "type": "scatterpolar"
                      }
                    ],
                    "scatterpolargl": [
                      {
                        "marker": {
                          "colorbar": {
                            "outlinewidth": 0,
                            "ticks": ""
                          }
                        },
                        "type": "scatterpolargl"
                      }
                    ],
                    "scatterternary": [
                      {
                        "marker": {
                          "colorbar": {
                            "outlinewidth": 0,
                            "ticks": ""
                          }
                        },
                        "type": "scatterternary"
                      }
                    ],
                    "surface": [
                      {
                        "colorbar": {
                          "outlinewidth": 0,
                          "ticks": ""
                        },
                        "colorscale": [
                          [
                            0,
                            "#0d0887"
                          ],
                          [
                            0.1111111111111111,
                            "#46039f"
                          ],
                          [
                            0.2222222222222222,
                            "#7201a8"
                          ],
                          [
                            0.3333333333333333,
                            "#9c179e"
                          ],
                          [
                            0.4444444444444444,
                            "#bd3786"
                          ],
                          [
                            0.5555555555555556,
                            "#d8576b"
                          ],
                          [
                            0.6666666666666666,
                            "#ed7953"
                          ],
                          [
                            0.7777777777777778,
                            "#fb9f3a"
                          ],
                          [
                            0.8888888888888888,
                            "#fdca26"
                          ],
                          [
                            1,
                            "#f0f921"
                          ]
                        ],
                        "type": "surface"
                      }
                    ],
                    "table": [
                      {
                        "cells": {
                          "fill": {
                            "color": "#EBF0F8"
                          },
                          "line": {
                            "color": "white"
                          }
                        },
                        "header": {
                          "fill": {
                            "color": "#C8D4E3"
                          },
                          "line": {
                            "color": "white"
                          }
                        },
                        "type": "table"
                      }
                    ]
                  },
                  "layout": {
                    "annotationdefaults": {
                      "arrowcolor": "#2a3f5f",
                      "arrowhead": 0,
                      "arrowwidth": 1
                    },
                    "autotypenumbers": "strict",
                    "coloraxis": {
                      "colorbar": {
                        "outlinewidth": 0,
                        "ticks": ""
                      }
                    },
                    "colorscale": {
                      "diverging": [
                        [
                          0,
                          "#8e0152"
                        ],
                        [
                          0.1,
                          "#c51b7d"
                        ],
                        [
                          0.2,
                          "#de77ae"
                        ],
                        [
                          0.3,
                          "#f1b6da"
                        ],
                        [
                          0.4,
                          "#fde0ef"
                        ],
                        [
                          0.5,
                          "#f7f7f7"
                        ],
                        [
                          0.6,
                          "#e6f5d0"
                        ],
                        [
                          0.7,
                          "#b8e186"
                        ],
                        [
                          0.8,
                          "#7fbc41"
                        ],
                        [
                          0.9,
                          "#4d9221"
                        ],
                        [
                          1,
                          "#276419"
                        ]
                      ],
                      "sequential": [
                        [
                          0,
                          "#0d0887"
                        ],
                        [
                          0.1111111111111111,
                          "#46039f"
                        ],
                        [
                          0.2222222222222222,
                          "#7201a8"
                        ],
                        [
                          0.3333333333333333,
                          "#9c179e"
                        ],
                        [
                          0.4444444444444444,
                          "#bd3786"
                        ],
                        [
                          0.5555555555555556,
                          "#d8576b"
                        ],
                        [
                          0.6666666666666666,
                          "#ed7953"
                        ],
                        [
                          0.7777777777777778,
                          "#fb9f3a"
                        ],
                        [
                          0.8888888888888888,
                          "#fdca26"
                        ],
                        [
                          1,
                          "#f0f921"
                        ]
                      ],
                      "sequentialminus": [
                        [
                          0,
                          "#0d0887"
                        ],
                        [
                          0.1111111111111111,
                          "#46039f"
                        ],
                        [
                          0.2222222222222222,
                          "#7201a8"
                        ],
                        [
                          0.3333333333333333,
                          "#9c179e"
                        ],
                        [
                          0.4444444444444444,
                          "#bd3786"
                        ],
                        [
                          0.5555555555555556,
                          "#d8576b"
                        ],
                        [
                          0.6666666666666666,
                          "#ed7953"
                        ],
                        [
                          0.7777777777777778,
                          "#fb9f3a"
                        ],
                        [
                          0.8888888888888888,
                          "#fdca26"
                        ],
                        [
                          1,
                          "#f0f921"
                        ]
                      ]
                    },
                    "colorway": [
                      "#636efa",
                      "#EF553B",
                      "#00cc96",
                      "#ab63fa",
                      "#FFA15A",
                      "#19d3f3",
                      "#FF6692",
                      "#B6E880",
                      "#FF97FF",
                      "#FECB52"
                    ],
                    "font": {
                      "color": "#2a3f5f"
                    },
                    "geo": {
                      "bgcolor": "white",
                      "lakecolor": "white",
                      "landcolor": "#E5ECF6",
                      "showlakes": true,
                      "showland": true,
                      "subunitcolor": "white"
                    },
                    "hoverlabel": {
                      "align": "left"
                    },
                    "hovermode": "closest",
                    "mapbox": {
                      "style": "light"
                    },
                    "paper_bgcolor": "white",
                    "plot_bgcolor": "#E5ECF6",
                    "polar": {
                      "angularaxis": {
                        "gridcolor": "white",
                        "linecolor": "white",
                        "ticks": ""
                      },
                      "bgcolor": "#E5ECF6",
                      "radialaxis": {
                        "gridcolor": "white",
                        "linecolor": "white",
                        "ticks": ""
                      }
                    },
                    "scene": {
                      "xaxis": {
                        "backgroundcolor": "#E5ECF6",
                        "gridcolor": "white",
                        "gridwidth": 2,
                        "linecolor": "white",
                        "showbackground": true,
                        "ticks": "",
                        "zerolinecolor": "white"
                      },
                      "yaxis": {
                        "backgroundcolor": "#E5ECF6",
                        "gridcolor": "white",
                        "gridwidth": 2,
                        "linecolor": "white",
                        "showbackground": true,
                        "ticks": "",
                        "zerolinecolor": "white"
                      },
                      "zaxis": {
                        "backgroundcolor": "#E5ECF6",
                        "gridcolor": "white",
                        "gridwidth": 2,
                        "linecolor": "white",
                        "showbackground": true,
                        "ticks": "",
                        "zerolinecolor": "white"
                      }
                    },
                    "shapedefaults": {
                      "line": {
                        "color": "#2a3f5f"
                      }
                    },
                    "ternary": {
                      "aaxis": {
                        "gridcolor": "white",
                        "linecolor": "white",
                        "ticks": ""
                      },
                      "baxis": {
                        "gridcolor": "white",
                        "linecolor": "white",
                        "ticks": ""
                      },
                      "bgcolor": "#E5ECF6",
                      "caxis": {
                        "gridcolor": "white",
                        "linecolor": "white",
                        "ticks": ""
                      }
                    },
                    "title": {
                      "x": 0.05
                    },
                    "xaxis": {
                      "automargin": true,
                      "gridcolor": "white",
                      "linecolor": "white",
                      "ticks": "",
                      "title": {
                        "standoff": 15
                      },
                      "zerolinecolor": "white",
                      "zerolinewidth": 2
                    },
                    "yaxis": {
                      "automargin": true,
                      "gridcolor": "white",
                      "linecolor": "white",
                      "ticks": "",
                      "title": {
                        "standoff": 15
                      },
                      "zerolinecolor": "white",
                      "zerolinewidth": 2
                    }
                  }
                },
                "width": 1200
              }
            }
          },
          "metadata": {},
          "output_type": "display_data"
        }
      ],
      "source": [
        "import plotly.graph_objects as go\n",
        "from plotly.subplots import make_subplots\n",
        "\n",
        "addons = ['internet.OnlineSecurity', 'internet.OnlineBackup', 'internet.DeviceProtection', 'internet.TechSupport']\n",
        "\n",
        "# Crear figura \n",
        "fig = make_subplots(rows=1, cols=len(addons), specs=[[{'type':'domain'}]*len(addons)],\n",
        "                    subplot_titles=[f'Churn por {addon}' for addon in addons])\n",
        "\n",
        "for i, addon in enumerate(addons, start=1):\n",
        "    churn_rates = df.groupby(addon)['Churn'].mean().round(4) * 100\n",
        "    \n",
        "    \n",
        "    if len(churn_rates) > 1:\n",
        "        fig.add_trace(\n",
        "            go.Pie(\n",
        "                labels=churn_rates.index,\n",
        "                values=churn_rates.values,\n",
        "                textinfo='percent',\n",
        "                hole=0.3  \n",
        "            ),\n",
        "            row=1, col=i\n",
        "        )\n",
        "    else:\n",
        "        \n",
        "        fig.layout.annotations[i-1].text += f\"<br>{churn_rates.iloc[0]:.2f}%\"\n",
        "\n",
        "# Configurar fondo \n",
        "fig.update_layout(\n",
        "    showlegend=False,\n",
        "    height=400,\n",
        "    width=1200,\n",
        "    margin=dict(t=80, b=20, l=20, r=20),\n",
        "    plot_bgcolor='rgba(0,0,0,0)',   \n",
        "    paper_bgcolor='rgba(0,0,0,0)'   \n",
        ")\n",
        "\n",
        "fig.show()\n"
      ]
    },
    {
      "cell_type": "markdown",
      "metadata": {},
      "source": []
    },
    {
      "cell_type": "markdown",
      "metadata": {},
      "source": [
        "Lo que podemos deducir a partir de estos  gráficos es:\n",
        "Servicios de seguridad y soporte reducen el churn:\n",
        "\n",
        "- Los clientes que contratan servicios como OnlineSecurity, DeviceProtection y TechSupport suelen mostrar tasas de churn más bajas. Esto indica que estos servicios agregan valor percibido y aumentan la satisfacción y fidelidad del cliente.\n",
        "\n",
        "- Clientes que no tienen estos servicios adicionales presentan tasas de churn significativamente más altas, lo que puede reflejar una percepción de menor protección, soporte o beneficios, aumentando la probabilidad de que se vayan.\n",
        "\n",
        "Servicios de respaldo en línea (OnlineBackup) pueden tener un efecto similar, aunque su impacto puede ser menor .\n",
        "\n"
      ]
    },
    {
      "cell_type": "markdown",
      "metadata": {},
      "source": [
        "Analizamos si el gasto total influye en la cancelación de clientes"
      ]
    },
    {
      "cell_type": "code",
      "execution_count": 16,
      "metadata": {},
      "outputs": [
        {
          "data": {
            "image/png": "[encoded data removed]",
            "text/plain": [
              "<Figure size 640x480 with 1 Axes>"
            ]
          },
          "metadata": {},
          "output_type": "display_data"
        }
      ],
      "source": [
        "# Vizualisamos el gasto total segun Perdida de clientes (Churn)\n",
        "sns.histplot(df[df[\"Churn\"] == 1][\"account.Charges.Total\"], bins=30, kde=True, color=\"red\", label=\"Cliente perdido\")\n",
        "sns.histplot(df[df[\"Churn\"] == 0][\"account.Charges.Total\"], bins=30, kde=True, color=\"blue\", label=\"Cliente activo\")\n",
        "plt.legend()\n",
        "plt.title(\"Distribución de Total Gastado según Churn\")\n",
        "plt.show()"
      ]
    },
    {
      "cell_type": "markdown",
      "metadata": {},
      "source": []
    },
    {
      "cell_type": "markdown",
      "metadata": {},
      "source": [
        "- Distribucion de la Perdida de clientes segun tipo de contrato, \n",
        "- Observamos que los contratos  \"mes a mes\" , tienen  mayor tasa de perdida de clientes.\n",
        "- (0 = mes a mes, 1 = un año, 2 = dos años)\n"
      ]
    },
    {
      "cell_type": "code",
      "execution_count": 17,
      "metadata": {},
      "outputs": [
        {
          "name": "stdout",
          "output_type": "stream",
          "text": [
            "\n",
            "Churn por tipo de contrato:\n",
            "account.Contract\n",
            "0    42.71\n",
            "1    11.27\n",
            "2     2.83\n",
            "Name: Churn, dtype: float64\n",
            "\n",
            "Churn por facturación paperless:\n",
            "account.PaperlessBilling\n",
            "0    16.33\n",
            "1    33.57\n",
            "Name: Churn, dtype: float64\n"
          ]
        }
      ],
      "source": [
        "# 4. Análisis de contratos y facturación\n",
        "contratos = df.groupby('account.Contract')['Churn'].mean().round(4)*100\n",
        "facturacion = df.groupby('account.PaperlessBilling')['Churn'].mean().round(4)*100\n",
        "\n",
        "print(\"\\nChurn por tipo de contrato:\")\n",
        "print(contratos)\n",
        "print(\"\\nChurn por facturación paperless:\")\n",
        "print(facturacion)"
      ]
    },
    {
      "cell_type": "markdown",
      "metadata": {},
      "source": [
        "- Los clientes con contratos a largo plazo (1 año o 2 años) tienden a tener una tasa de churn ligeramente menor que los clientes con contratos mes a mes.  - Esto sugiere que los contratos más largos generan mayor compromiso y fidelidad, reduciendo la probabilidad de abandono.\n",
        "- Los contratos mes a mes, aunque ofrecen mayor flexibilidad, presentan un mayor riesgo de churn debido a la facilidad para cancelar el servicio.\n",
        "\n",
        "- Facturación sin papel (PaperlessBilling)\n",
        "- La preferencia por facturación electrónica (sin papel) no muestra una diferencia significativa en la tasa de churn respecto a la facturación tradicional, - lo que indica que este factor por sí solo no influye mucho en la retención."
      ]
    },
    {
      "cell_type": "code",
      "execution_count": 18,
      "metadata": {},
      "outputs": [
        {
          "data": {
            "image/png": "[encoded data removed]",
            "text/plain": [
              "<Figure size 640x480 with 1 Axes>"
            ]
          },
          "metadata": {},
          "output_type": "display_data"
        }
      ],
      "source": [
        "# Graficamos \n",
        "sns.countplot(data=df, x=\"account.Contract\", hue=\"Churn\")\n",
        "plt.title(\"Cliente perdido según tipo de contrato\")\n",
        "plt.show()"
      ]
    },
    {
      "cell_type": "markdown",
      "metadata": {},
      "source": []
    },
    {
      "cell_type": "markdown",
      "metadata": {},
      "source": [
        "- Relación entre tiempo de permanencia y estado del cliente\n",
        "- Observamos que los clientes con menos tiempo de contrato tienen más probabilidad de cancelar."
      ]
    },
    {
      "cell_type": "code",
      "execution_count": 19,
      "metadata": {},
      "outputs": [
        {
          "data": {
            "application/vnd.plotly.v1+json": {
              "config": {
                "plotlyServerURL": "https://plot.ly"
              },
              "data": [
                {
                  "alignmentgroup": "True",
                  "hovertemplate": "Estado del Cliente=%{x}<br>Tiempo de Permanencia (meses)=%{y}<extra></extra>",
                  "legendgroup": "0.0",
                  "marker": {
                    "color": "#2ca02c"
                  },
                  "name": "0.0",
                  "notched": false,
                  "offsetgroup": "0.0",
                  "orientation": "v",
                  "showlegend": true,
                  "type": "box",
                  "x": {
                    "bdata": "AAAAAAAAAAAAAAAAAAAAAAAAAAAAAAAAAAAAAAAAAAAAAAAAAAAAAAAAAAAAAAAAAAAAAAAAAAAAAAAAAAAAAAAAAAAAAAAAAAAAAAAAAAAAAAAAAAAAAAAAAAAAAAAAAAAAAAAAAAAAAAAAAAAAAAAAAAAAAAAAAAAAAAAAAAAAAAAAAAAAAAAAAAAAAAAAAAAAAAAAAAAAAAAAAAAAAAAAAAAAAAAAAAAAAAAAAAAAAAAAAAAAAAAAAAAAAAAAAAAAAAAAAAAAAAAAAAAAAAAAAAAAAAAAAAAAAAAAAAAAAAAAAAAAAAAAAAAAAAAAAAAAAAAAAAAAAAAAAAAAAAAAAAAAAAAAAAAAAAAAAAAAAAAAAAAAAAAAAAAAAAAAAAAAAAAAAAAAAAAAAAAAAAAAAAAAAAAAAAAAAAAAAAAAAAAAAAAAAAAAAAAAAAAAAAAAAAAAAAAAAAAAAAAAAAAAAAAAAAAAAAAAAAAAAAAAAAAAAAAAAAAAAAAAAAAAAAAAAAAAAAAAAAAAAAAAAAAAAAAAAAAAAAAAAAAAAAAAAAAAAAAAAAAAAAAAAAAAAAAAAAAAAAAAAAAAAAAAAAAAAAAAAAAAAAAAAAAAAAAAAAAAAAAAAAAAAAAAAAAAAAAAAAAAAAAAAAAAAAAAAAAAAAAAAAAAAAAAAAAAAAAAAAAAAAAAAAAAAAAAAAAAAAAAAAAAAAAAAAAAAAAAAAAAAAAAAAAAAAAAAAAAAAAAAAAAAAAAAAAAAAAAAAAAAAAAAAAAAAAAAAAAAAAAAAAAAAAAAAAAAAAAAAAAAAAAAAAAAAAAAAAAAAAAAAAAAAAAAAAAAAAAAAAAAAAAAAAAAAAAAAAAAAAAAAAAAAAAAAAAAAAAAAAAAAAAAAAAAAAAAAAAAAAAAAAAAAAAAAAAAAAAAAAAAAAAAAAAAAAAAAAAAAAAAAAAAAAAAAAAAAAAAAAAAAAAAAAAAAAAAAAAAAAAAAAAAAAAAAAAAAAAAAAAAAAAAAAAAAAAAAAAAAAAAAAAAAAAAAAAAAAAAAAAAAAAAAAAAAAAAAAAAAAAAAAAAAAAAAAAAAAAAAAAAAAAAAAAAAAAAAAAAAAAAAAAAAAAAAAAAAAAAAAAAAAAAAAAAAAAAAAAAAAAAAAAAAAAAAAAAAAAAAAAAAAAAAAAAAAAAAAAAAAAAAAAAAAAAAAAAAAAAAAAAAAAAAAAAAAAAAAAAAAAAAAAAAAAAAAAAAAAAAAAAAAAAAAAAAAAAAAAAAAAAAAAAAAAAAAAAAAAAAAAAAAAAAAAAAAAAAAAAAAAAAAAAAAAAAAAAAAAAAAAAAAAAAAAAAAAAAAAAAAAAAAAAAAAAAAAAAAAAAAAAAAAAAAAAAAAAAAAAAAAAAAAAAAAAAAAAAAAAAAAAAAAAAAAAAAAAAAAAAAAAAAAAAAAAAAAAAAAAAAAAAAAAAAAAAAAAAAAAAAAAAAAAAAAAAAAAAAAAAAAAAAAAAAAAAAAAAAAAAAAAAAAAAAAAAAAAAAAAAAAAAAAAAAAAAAAAAAAAAAAAAAAAAAAAAAAAAAAAAAAAAAAAAAAAAAAAAAAAAAAAAAAAAAAAAAAAAAAAAAAAAAAAAAAAAAAAAAAAAAAAAAAAAAAAAAAAAAAAAAAAAAAAAAAAAAAAAAAAAAAAAAAAAAAAAAAAAAAAAAAAAAAAAAAAAAAAAAAAAAAAAAAAAAAAAAAAAAAAAAAAAAAAAAAAAAAAAAAAAAAAAAAAAAAAAAAAAAAAAAAAAAAAAAAAAAAAAAAAAAAAAAAAAAAAAAAAAAAAAAAAAAAAAAAAAAAAAAAAAAAAAAAAAAAAAAAAAAAAAAAAAAAAAAAAAAAAAAAAAAAAAAAAAAAAAAAAAAAAAAAAAAAAAAAAAAAAAAAAAAAAAAAAAAAAAAAAAAAAAAAAAAAAAAAAAAAAAAAAAAAAAAAAAAAAAAAAAAAAAAAAAAAAAAAAAAAAAAAAAAAAAAAAAAAAAAAAAAAAAAAAAAAAAAAAAAAAAAAAAAAAAAAAAAAAAAAAAAAAAAAAAAAAAAAAAAAAAAAAAAAAAAAAAAAAAAAAAAAAAAAAAAAAAAAAAAAAAAAAAAAAAAAAAAAAAAAAAAAAAAAAAAAAAAAAAAAAAAAAAAAAAAAAAAAAAAAAAAAAAAAAAAAAAAAAAAAAAAAAAAAAAAAAAAAAAAAAAAAAAAAAAAAAAAAAAAAAAAAAAAAAAAAAAAAAAAAAAAAAAAAAAAAAAAAAAAAAAAAAAAAAAAAAAAAAAAAAAAAAAAAAAAAAAAAAAAAAAAAAAAAAAAAAAAAAAAAAAAAAAAAAAAAAAAAAAAAAAAAAAAAAAAAAAAAAAAAAAAAAAAAAAAAAAAAAAAAAAAAAAAAAAAAAAAAAAAAAAAAAAAAAAAAAAAAAAAAAAAAAAAAAAAAAAAAAAAAAAAAAAAAAAAAAAAAAAAAAAAAAAAAAAAAAAAAAAAAAAAAAAAAAAAAAAAAAAAAAAAAAAAAAAAAAAAAAAAAAAAAAAAAAAAAAAAAAAAAAAAAAAAAAAAAAAAAAAAAAAAAAAAAAAAAAAAAAAAAAAAAAAAAAAAAAAAAAAAAAAAAAAAAAAAAAAAAAAAAAAAAAAAAAAAAAAAAAAAAAAAAAAAAAAAAAAAAAAAAAAAAAAAAAAAAAAAAAAAAAAAAAAAAAAAAAAAAAAAAAAAAAAAAAAAAAAAAAAAAAAAAAAAAAAAAAAAAAAAAAAAAAAAAAAAAAAAAAAAAAAAAAAAAAAAAAAAAAAAAAAAAAAAAAAAAAAAAAAAAAAAAAAAAAAAAAAAAAAAAAAAAAAAAAAAAAAAAAAAAAAAAAAAAAAAAAAAAAAAAAAAAAAAAAAAAAAAAAAAAAAAAAAAAAAAAAAAAAAAAAAAAAAAAAAAAAAAAAAAAAAAAAAAAAAAAAAAAAAAAAAAAAAAAAAAAAAAAAAAAAAAAAAAAAAAAAAAAAAAAAAAAAAAAAAAAAAAAAAAAAAAAAAAAAAAAAAAAAAAAAAAAAAAAAAAAAAAAAAAAAAAAAAAAAAAAAAAAAAAAAAAAAAAAAAAAAAAAAAAAAAAAAAAAAAAAAAAAAAAAAAAAAAAAAAAAAAAAAAAAAAAAAAAAAAAAAAAAAAAAAAAAAAAAAAAAAAAAAAAAAAAAAAAAAAAAAAAAAAAAAAAAAAAAAAAAAAAAAAAAAAAAAAAAAAAAAAAAAAAAAAAAAAAAAAAAAAAAAAAAAAAAAAAAAAAAAAAAAAAAAAAAAAAAAAAAAAAAAAAAAAAAAAAAAAAAAAAAAAAAAAAAAAAAAAAAAAAAAAAAAAAAAAAAAAAAAAAAAAAAAAAAAAAAAAAAAAAAAAAAAAAAAAAAAAAAAAAAAAAAAAAAAAAAAAAAAAAAAAAAAAAAAAAAAAAAAAAAAAAAAAAAAAAAAAAAAAAAAAAAAAAAAAAAAAAAAAAAAAAAAAAAAAAAAAAAAAAAAAAAAAAAAAAAAAAAAAAAAAAAAAAAAAAAAAAAAAAAAAAAAAAAAAAAAAAAAAAAAAAAAAAAAAAAAAAAAAAAAAAAAAAAAAAAAAAAAAAAAAAAAAAAAAAAAAAAAAAAAAAAAAAAAAAAAAAAAAAAAAAAAAAAAAAAAAAAAAAAAAAAAAAAAAAAAAAAAAAAAAAAAAAAAAAAAAAAAAAAAAAAAAAAAAAAAAAAAAAAAAAAAAAAAAAAAAAAAAAAAAAAAAAAAAAAAAAAAAAAAAAAAAAAAAAAAAAAAAAAAAAAAAAAAAAAAAAAAAAAAAAAAAAAAAAAAAAAAAAAAAAAAAAAAAAAAAAAAAAAAAAAAAAAAAAAAAAAAAAAAAAAAAAAAAAAAAAAAAAAAAAAAAAAAAAAAAAAAAAAAAAAAAAAAAAAAAAAAAAAAAAAAAAAAAAAAAAAAAAAAAAAAAAAAAAAAAAAAAAAAAAAAAAAAAAAAAAAAAAAAAAAAAAAAAAAAAAAAAAAAAAAAAAAAAAAAAAAAAAAAAAAAAAAAAAAAAAAAAAAAAAAAAAAAAAAAAAAAAAAAAAAAAAAAAAAAAAAAAAAAAAAAAAAAAAAAAAAAAAAAAAAAAAAAAAAAAAAAAAAAAAAAAAAAAAAAAAAAAAAAAAAAAAAAAAAAAAAAAAAAAAAAAAAAAAAAAAAAAAAAAAAAAAAAAAAAAAAAAAAAAAAAAAAAAAAAAAAAAAAAAAAAAAAAAAAAAAAAAAAAAAAAAAAAAAAAAAAAAAAAAAAAAAAAAAAAAAAAAAAAAAAAAAAAAAAAAAAAAAAAAAAAAAAAAAAAAAAAAAAAAAAAAAAAAAAAAAAAAAAAAAAAAAAAAAAAAAAAAAAAAAAAAAAAAAAAAAAAAAAAAAAAAAAAAAAAAAAAAAAAAAAAAAAAAAAAAAAAAAAAAAAAAAAAAAAAAAAAAAAAAAAAAAAAAAAAAAAAAAAAAAAAAAAAAAAAAAAAAAAAAAAAAAAAAAAAAAAAAAAAAAAAAAAAAAAAAAAAAAAAAAAAAAAAAAAAAAAAAAAAAAAAAAAAAAAAAAAAAAAAAAAAAAAAAAAAAAAAAAAAAAAAAAAAAAAAAAAAAAAAAAAAAAAAAAAAAAAAAAAAAAAAAAAAAAAAAAAAAAAAAAAAAAAAAAAAAAAAAAAAAAAAAAAAAAAAAAAAAAAAAAAAAAAAAAAAAAAAAAAAAAAAAAAAAAAAAAAAAAAAAAAAAAAAAAAAAAAAAAAAAAAAAAAAAAAAAAAAAAAAAAAAAAAAAAAAAAAAAAAAAAAAAAAAAAAAAAAAAAAAAAAAAAAAAAAAAAAAAAAAAAAAAAAAAAAAAAAAAAAAAAAAAAAAAAAAAAAAAAAAAAAAAAAAAAAAAAAAAAAAAAAAAAAAAAAAAAAAAAAAAAAAAAAAAAAAAAAAAAAAAAAAAAAAAAAAAAAAAAAAAAAAAAAAAAAAAAAAAAAAAAAAAAAAAAAAAAAAAAAAAAAAAAAAAAAAAAAAAAAAAAAAAAAAAAAAAAAAAAAAAAAAAAAAAAAAAAAAAAAAAAAAAAAAAAAAAAAAAAAAAAAAAAAAAAAAAAAAAAAAAAAAAAAAAAAAAAAAAAAAAAAAAAAAAAAAAAAAAAAAAAAAAAAAAAAAAAAAAAAAAAAAAAAAAAAAAAAAAAAAAAAAAAAAAAAAAAAAAAAAAAAAAAAAAAAAAAAAAAAAAAAAAAAAAAAAAAAAAAAAAAAAAAAAAAAAAAAAAAAAAAAAAAAAAAAAAAAAAAAAAAAAAAAAAAAAAAAAAAAAAAAAAAAAAAAAAAAAAAAAAAAAAAAAAAAAAAAAAAAAAAAAAAAAAAAAAAAAAAAAAAAAAAAAAAAAAAAAAAAAAAAAAAAAAAAAAAAAAAAAAAAAAAAAAAAAAAAAAAAAAAAAAAAAAAAAAAAAAAAAAAAAAAAAAAAAAAAAAAAAAAAAAAAAAAAAAAAAAAAAAAAAAAAAAAAAAAAAAAAAAAAAAAAAAAAAAAAAAAAAAAAAAAAAAAAAAAAAAAAAAAAAAAAAAAAAAAAAAAAAAAAAAAAAAAAAAAAAAAAAAAAAAAAAAAAAAAAAAAAAAAAAAAAAAAAAAAAAAAAAAAAAAAAAAAAAAAAAAAAAAAAAAAAAAAAAAAAAAAAAAAAAAAAAAAAAAAAAAAAAAAAAAAAAAAAAAAAAAAAAAAAAAAAAAAAAAAAAAAAAAAAAAAAAAAAAAAAAAAAAAAAAAAAAAAAAAAAAAAAAAAAAAAAAAAAAAAAAAAAAAAAAAAAAAAAAAAAAAAAAAAAAAAAAAAAAAAAAAAAAAAAAAAAAAAAAAAAAAAAAAAAAAAAAAAAAAAAAAAAAAAAAAAAAAAAAAAAAAAAAAAAAAAAAAAAAAAAAAAAAAAAAAAAAAAAAAAAAAAAAAAAAAAAAAAAAAAAAAAAAAAAAAAAAAAAAAAAAAAAAAAAAAAAAAAAAAAAAAAAAAAAAAAAAAAAAAAAAAAAAAAAAAAAAAAAAAAAAAAAAAAAAAAAAAAAAAAAAAAAAAAAAAAAAAAAAAAAAAAAAAAAAAAAAAAAAAAAAAAAAAAAAAAAAAAAAAAAAAAAAAAAAAAAAAAAAAAAAAAAAAAAAAAAAAAAAAAAAAAAAAAAAAAAAAAAAAAAAAAAAAAAAAAAAAAAAAAAAAAAAAAAAAAAAAAAAAAAAAAAAAAAAAAAAAAAAAAAAAAAAAAAAAAAAAAAAAAAAAAAAAAAAAAAAAAAAAAAAAAAAAAAAAAAAAAAAAAAAAAAAAAAAAAAAAAAAAAAAAAAAAAAAAAAAAAAAAAAAAAAAAAAAAAAAAAAAAAAAAAAAAAAAAAAAAAAAAAAAAAAAAAAAAAAAAAAAAAAAAAAAAAAAAAAAAAAAAAAAAAAAAAAAAAAAAAAAAAAAAAAAAAAAAAAAAAAAAAAAAAAAAAAAAAAAAAAAAAAAAAAAAAAAAAAAAAAAAAAAAAAAAAAAAAAAAAAAAAAAAAAAAAAAAAAAAAAAAAAAAAAAAAAAAAAAAAAAAAAAAAAAAAAAAAAAAAAAAAAAAAAAAAAAAAAAAAAAAAAAAAAAAAAAAAAAAAAAAAAAAAAAAAAAAAAAAAAAAAAAAAAAAAAAAAAAAAAAAAAAAAAAAAAAAAAAAAAAAAAAAAAAAAAAAAAAAAAAAAAAAAAAAAAAAAAAAAAAAAAAAAAAAAAAAAAAAAAAAAAAAAAAAAAAAAAAAAAAAAAAAAAAAAAAAAAAAAAAAAAAAAAAAAAAAAAAAAAAAAAAAAAAAAAAAAAAAAAAAAAAAAAAAAAAAAAAAAAAAAAAAAAAAAAAAAAAAAAAAAAAAAAAAAAAAAAAAAAAAAAAAAAAAAAAAAAAAAAAAAAAAAAAAAAAAAAAAAAAAAAAAAAAAAAAAAAAAAAAAAAAAAAAAAAAAAAAAAAAAAAAAAAAAAAAAAAAAAAAAAAAAAAAAAAAAAAAAAAAAAAAAAAAAAAAAAAAAAAAAAAAAAAAAAAAAAAAAAAAAAAAAAAAAAAAAAAAAAAAAAAAAAAAAAAAAAAAAAAAAAAAAAAAAAAAAAAAAAAAAAAAAAAAAAAAAAAAAAAAAAAAAAAAAAAAAAAAAAAAAAAAAAAAAAAAAAAAAAAAAAAAAAAAAAAAAAAAAAAAAAAAAAAAAAAAAAAAAAAAAAAAAAAAAAAAAAAAAAAAAAAAAAAAAAAAAAAAAAAAAAAAAAAAAAAAAAAAAAAAAAAAAAAAAAAAAAAAAAAAAAAAAAAAAAAAAAAAAAAAAAAAAAAAAAAAAAAAAAAAAAAAAAAAAAAAAAAAAAAAAAAAAAAAAAAAAAAAAAAAAAAAAAAAAAAAAAAAAAAAAAAAAAAAAAAAAAAAAAAAAAAAAAAAAAAAAAAAAAAAAAAAAAAAAAAAAAAAAAAAAAAAAAAAAAAAAAAAAAAAAAAAAAAAAAAAAAAAAAAAAAAAAAAAAAAAAAAAAAAAAAAAAAAAAAAAAAAAAAAAAAAAAAAAAAAAAAAAAAAAAAAAAAAAAAAAAAAAAAAAAAAAAAAAAAAAAAAAAAAAAAAAAAAAAAAAAAAAAAAAAAAAAAAAAAAAAAAAAAAAAAAAAAAAAAAAAAAAAAAAAAAAAAAAAAAAAAAAAAAAAAAAAAAAAAAAAAAAAAAAAAAAAAAAAAAAAAAAAAAAAAAAAAAAAAAAAAAAAAAAAAAAAAAAAAAAAAAAAAAAAAAAAAAAAAAAAAAAAAAAAAAAAAAAAAAAAAAAAAAAAAAAAAAAAAAAAAAAAAAAAAAAAAAAAAAAAAAAAAAAAAAAAAAAAAAAAAAAAAAAAAAAAAAAAAAAAAAAAAAAAAAAAAAAAAAAAAAAAAAAAAAAAAAAAAAAAAAAAAAAAAAAAAAAAAAAAAAAAAAAAAAAAAAAAAAAAAAAAAAAAAAAAAAAAAAAAAAAAAAAAAAAAAAAAAAAAAAAAAAAAAAAAAAAAAAAAAAAAAAAAAAAAAAAAAAAAAAAAAAAAAAAAAAAAAAAAAAAAAAAAAAAAAAAAAAAAAAAAAAAAAAAAAAAAAAAAAAAAAAAAAAAAAAAAAAAAAAAAAAAAAAAAAAAAAAAAAAAAAAAAAAAAAAAAAAAAAAAAAAAAAAAAAAAAAAAAAAAAAAAAAAAAAAAAAAAAAAAAAAAAAAAAAAAAAAAAAAAAAAAAAAAAAAAAAAAAAAAAAAAAAAAAAAAAAAAAAAAAAAAAAAAAAAAAAAAAAAAAAAAAAAAAAAAAAAAAAAAAAAAAAAAAAAAAAAAAAAAAAAAAAAAAAAAAAAAAAAAAAAAAAAAAAAAAAAAAAAAAAAAAAAAAAAAAAAAAAAAAAAAAAAAAAAAAAAAAAAAAAAAAAAAAAAAAAAAAAAAAAAAAAAAAAAAAAAAAAAAAAAAAAAAAAAAAAAAAAAAAAAAAAAAAAAAAAAAAAAAAAAAAAAAAAAAAAAAAAAAAAAAAAAAAAAAAAAAAAAAAAAAAAAAAAAAAAAAAAAAAAAAAAAAAAAAAAAAAAAAAAAAAAAAAAAAAAAAAAAAAAAAAAAAAAAAAAAAAAAAAAAAAAAAAAAAAAAAAAAAAAAAAAAAAAAAAAAAAAAAAAAAAAAAAAAAAAAAAAAAAAAAAAAAAAAAAAAAAAAAAAAAAAAAAAAAAAAAAAAAAAAAAAAAAAAAAAAAAAAAAAAAAAAAAAAAAAAAAAAAAAAAAAAAAAAAAAAAAAAAAAAAAAAAAAAAAAAAAAAAAAAAAAAAAAAAAAAAAAAAAAAAAAAAAAAAAAAAAAAAAAAAAAAAAAAAAAAAAAAAAAAAAAAAAAAAAAAAAAAAAAAAAAAAAAAAAAAAAAAAAAAAAAAAAAAAAAAAAAAAAAAAAAAAAAAAAAAAAAAAAAAAAAAAAAAAAAAAAAAAAAAAAAAAAAAAAAAAAAAAAAAAAAAAAAAAAAAAAAAAAAAAAAAAAAAAAAAAAAAAAAAAAAAAAAAAAAAAAAAAAAAAAAAAAAAAAAAAAAAAAAAAAAAAAAAAAAAAAAAAAAAAAAAAAAAAAAAAAAAAAAAAAAAAAAAAAAAAAAAAAAAAAAAAAAAAAAAAAAAAAAAAAAAAAAAAAAAAAAAAAAAAAAAAAAAAAAAAAAAAAAAAAAAAAAAAAAAAAAAAAAAAAAAAAAAAAAAAAAAAAAAAAAAAAAAAAAAAAAAAAAAAAAAAAAAAAAAAAAAAAAAAAAAAAAAAAAAAAAAAAAAAAAAAAAAAAAAAAAAAAAAAAAAAAAAAAAAAAAAAAAAAAAAAAAAAAAAAAAAAAAAAAAAAAAAAAAAAAAAAAAAAAAAAAAAAAAAAAAAAAAAAAAAAAAAAAAAAAAAAAAAAAAAAAAAAAAAAAAAAAAAAAAAAAAAAAAAAAAAAAAAAAAAAAAAAAAAAAAAAAAAAAAAAAAAAAAAAAAAAAAAAAAAAAAAAAAAAAAAAAAAAAAAAAAAAAAAAAAAAAAAAAAAAAAAAAAAAAAAAAAAAAAAAAAAAAAAAAAAAAAAAAAAAAAAAAAAAAAAAAAAAAAAAAAAAAAAAAAAAAAAAAAAAAAAAAAAAAAAAAAAAAAAAAAAAAAAAAAAAAAAAAAAAAAAAAAAAAAAAAAAAAAAAAAAAAAAAAAAAAAAAAAAAAAAAAAAAAAAAAAAAAAAAAAAAAAAAAAAAAAAAAAAAAAAAAAAAAAAAAAAAAAAAAAAAAAAAAAAAAAAAAAAAAAAAAAAAAAAAAAAAAAAAAAAAAAAAAAAAAAAAAAAAAAAAAAAAAAAAAAAAAAAAAAAAAAAAAAAAAAAAAAAAAAAAAAAAAAAAAAAAAAAAAAAAAAAAAAAAAAAAAAAAAAAAAAAAAAAAAAAAAAAAAAAAAAAAAAAAAAAAAAAAAAAAAAAAAAAAAAAAAAAAAAAAAAAAAAAAAAAAAAAAAAAAAAAAAAAAAAAAAAAAAAAAAAAAAAAAAAAAAAAAAAAAAAAAAAAAAAAAAAAAAAAAAAAAAAAAAAAAAAAAAAAAAAAAAAAAAAAAAAAAAAAAAAAAAAAAAAAAAAAAAAAAAAAAAAAAAAAAAAAAAAAAAAAAAAAAAAAAAAAAAAAAAAAAAAAAAAAAAAAAAAAAAAAAAAAAAAAAAAAAAAAAAAAAAAAAAAAAAAAAAAAAAAAAAAAAAAAAAAAAAAAAAAAAAAAAAAAAAAAAAAAAAAAAAAAAAAAAAAAAAAAAAAAAAAAAAAAAAAAAAAAAAAAAAAAAAAAAAAAAAAAAAAAAAAAAAAAAAAAAAAAAAAAAAAAAAAAAAAAAAAAAAAAAAAAAAAAAAAAAAAAAAAAAAAAAAAAAAAAAAAAAAAAAAAAAAAAAAAAAAAAAAAAAAAAAAAAAAAAAAAAAAAAAAAAAAAAAAAAAAAAAAAAAAAAAAAAAAAAAAAAAAAAAAAAAAAAAAAAAAAAAAAAAAAAAAAAAAAAAAAAAAAAAAAAAAAAAAAAAAAAAAAAAAAAAAAAAAAAAAAAAAAAAAAAAAAAAAAAAAAAAAAAAAAAAAAAAAAAAAAAAAAAAAAAAAAAAAAAAAAAAAAAAAAAAAAAAAAAAAAAAAAAAAAAAAAAAAAAAAAAAAAAAAAAAAAAAAAAAAAAAAAAAAAAAAAAAAAAAAAAAAAAAAAAAAAAAAAAAAAAAAAAAAAAAAAAAAAAAAAAAAAAAAAAAAAAAAAAAAAAAAAAAAAAAAAAAAAAAAAAAAAAAAAAAAAAAAAAAAAAAAAAAAAAAAAAAAAAAAAAAAAAAAAAAAAAAAAAAAAAAAAAAAAAAAAAAAAAAAAAAAAAAAAAAAAAAAAAAAAAAAAAAAAAAAAAAAAAAAAAAAAAAAAAAAAAAAAAAAAAAAAAAAAAAAAAAAAAAAAAAAAAAAAAAAAAAAAAAAAAAAAAAAAAAAAAAAAAAAAAAAAAAAAAAAAAAAAAAAAAAAAAAAAAAAAAAAAAAAAAAAAAAAAAAAAAAAAAAAAAAAAAAAAAAAAAAAAAAAAAAAAAAAAAAAAAAAAAAAAAAAAAAAAAAAAAAAAAAAAAAAAAAAAAAAAAAAAAAAAAAAAAAAAAAAAAAAAAAAAAAAAAAAAAAAAAAAAAAAAAAAAAAAAAAAAAAAAAAAAAAAAAAAAAAAAAAAAAAAAAAAAAAAAAAAAAAAAAAAAAAAAAAAAAAAAAAAAAAAAAAAAAAAAAAAAAAAAAAAAAAAAAAAAAAAAAAAAAAAAAAAAAAAAAAAAAAAAAAAAAAAAAAAAAAAAAAAAAAAAAAAAAAAAAAAAAAAAAAAAAAAAAAAAAAAAAAAAAAAAAAAAAAAAAAAAAAAAAAAAAAAAAAAAAAAAAAAAAAAAAAAAAAAAAAAAAAAAAAAAAAAAAAAAAAAAAAAAAAAAAAAAAAAAAAAAAAAAAAAAAAAAAAAAAAAAAAAAAAAAAAAAAAAAAAAAAAAAAAAAAAAAAAAAAAAAAAAAAAAAAAAAAAAAAAAAAAAAAAAAAAAAAAAAAAAAAAAAAAAAAAAAAAAAAAAAAAAAAAAAAAAAAAAAAAAAAAAAAAAAAAAAAAAAAAAAAAAAAAAAAAAAAAAAAAAAAAAAAAAAAAAAAAAAAAAAAAAAAAAAAAAAAAAAAAAAAAAAAAAAAAAAAAAAAAAAAAAAAAAAAAAAAAAAAAAAAAAAAAAAAAAAAAAAAAAAAAAAAAAAAAAAAAAAAAAAAAAAAAAAAAAAAAAAAAAAAAAAAAAAAAAAAAAAAAAAAAAAAAAAAAAAAAAAAAAAAAAAAAAAAAAAAAAAAAAAAAAAAAAAAAAAAAAAAAAAAAAAAAAAAAAAAAAAAAAAAAAAAAAAAAAAAAAAAAAAAAAAAAAAAAAAAAAAAAAAAAAAAAAAAAAAAAAAAAAAAAAAAAAAAAAAAAAAAAAAAAAAAAAAAAAAAAAAAAAAAAAAAAAAAAAAAAAAAAAAAAAAAAAAAAAAAAAAAAAAAAAAAAAAAAAAAAAAAAAAAAAAAAAAAAAAAAAAAAAAAAAAAAAAAAAAAAAAAAAAAAAAAAAAAAAAAAAAAAAAAAAAAAAAAAAAAAAAAAAAAAAAAAAAAAAAAAAAAAAAAAAAAAAAAAAAAAAAAAAAAAAAAAAAAAAAAAAAAAAAAAAAAAAAAAAAAAAAAAAAAAAAAAAAAAAAAAAAAAAAAAAAAAAAAAAAAAAAAAAAAAAAAAAAAAAAAAAAAAAAAAAAAAAAAAAAAAAAAAAAAAAAAAAAAAAAAAAAAAAAAAAAAAAAAAAAAAAAAAAAAAAAAAAAAAAAAAAAAAAAAAAAAAAAAAAAAAAAAAAAAAAAAAAAAAAAAAAAAAAAAAAAAAAAAAAAAAAAAAAAAAAAAAAAAAAAAAAAAAAAAAAAAAAAAAAAAAAAAAAAAAAAAAAAAAAAAAAAAAAAAAAAAAAAAAAAAAAAAAAAAAAAAAAAAAAAAAAAAAAAAAAAAAAAAAAAAAAAAAAAAAAAAAAAAAAAAAAAAAAAAAAAAAAAAAAAAAAAAAAAAAAAAAAAAAAAAAAAAAAAAAAAAAAAAAAAAAAAAAAAAAAAAAAAAAAAAAAAAAAAAAAAAAAAAAAAAAAAAAAAAAAAAAAAAAAAAAAAAAAAAAAAAAAAAAAAAAAAAAAAAAAAAAAAAAAAAAAAAAAAAAAAAAAAAAAAAAAAAAAAAAAAAAAAAAAAAAAAAAAAAAAAAAAAAAAAAAAAAAAAAAAAAAAAAAAAAAAAAAAAAAAAAAAAAAAAAAAAAAAAAAAAAAAAAAAAAAAAAAAAAAAAAAAAAAAAAAAAAAAAAAAAAAAAAAAAAAAAAAAAAAAAAAAAAAAAAAAAAAAAAAAAAAAAAAAAAAAAAAAAAAAAAAAAAAAAAAAAAAAAAAAAAAAAAAAAAAAAAAAAAAAAAAAAAAAAAAAAAAAAAAAAAAAAAAAAAAAAAAAAAAAAAAAAAAAAAAAAAAAAAAAAAAAAAAAAAAAAAAAAAAAAAAAAAAAAAAAAAAAAAAAAAAAAAAAAAAAAAAAAAAAAAAAAAAAAAAAAAAAAAAAAAAAAAAAAAAAAAAAAAAAAAAAAAAAAAAAAAAAAAAAAAAAAAAAAAAAAAAAAAAAAAAAAAAAAAAAAAAAAAAAAAAAAAAAAAAAAAAAAAAAAAAAAAAAAAAAAAAAAAAAAAAAAAAAAAAAAAAAAAAAAAAAAAAAAAAAAAAAAAAAAAAAAAAAAAAAAAAAAAAAAAAAAAAAAAAAAAAAAAAAAAAAAAAAAAAAAAAAAAAAAAAAAAAAAAAAAAAAAAAAAAAAAAAAAAAAAAAAAAAAAAAAAAAAAAAAAAAAAAAAAAAAAAAAAAAAAAAAAAAAAAAAAAAAAAAAAAAAAAAAAAAAAAAAAAAAAAAAAAAAAAAAAAAAAAAAAAAAAAAAAAAAAAAAAAAAAAAAAAAAAAAAAAAAAAAAAAAAAAAAAAAAAAAAAAAAAAAAAAAAAAAAAAAAAAAAAAAAAAAAAAAAAAAAAAAAAAAAAAAAAAAAAAAAAAAAAAAAAAAAAAAAAAAAAAAAAAAAAAAAAAAAAAAAAAAAAAAAAAAAAAAAAAAAAAAAAAAAAAAAAAAAAAAAAAAAAAAAAAAAAAAAAAAAAAAAAAAAAAAAAAAAAAAAAAAAAAAAAAAAAAAAAAAAAAAAAAAAAAAAAAAAAAAAAAAAAAAAAAAAAAAAAAAAAAAAAAAAAAAAAAAAAAAAAAAAAAAAAAAAAAAAAAAAAAAAAAAAAAAAAAAAAAAAAAAAAAAAAAAAAAAAAAAAAAAAAAAAAAAAAAAAAAAAAAAAAAAAAAAAAAAAAAAAAAAAAAAAAAAAAAAAAAAAAAAAAAAAAAAAAAAAAAAAAAAAAAAAAAAAAAAAAAAAAAAAAAAAAAAAAAAAAAAAAAAAAAAAAAAAAAAAAAAAAAAAAAAAAAAAAAAAAAAAAAAAAAAAAAAAAAAAAAAAAAAAAAAAAAAAAAAAAAAAAAAAAAAAAAAAAAAAAAAAAAAAAAAAAAAAAAAAAAAAAAAAAAAAAAAAAAAAAAAAAAAAAAAAAAAAAAAAAAAAAAAAAAAAAAAAAAAAAAAAAAAAAAAAAAAAAAAAAAAAAAAAAAAAAAAAAAAAAAAAAAAAAAAAAAAAAAAAAAAAAAAAAAAAAAAAAAAAAAAAAAAAAAAAAAAAAAAAAAAAAAAAAAAAAAAAAAAAAAAAAAAAAAAAAAAAAAAAAAAAAAAAAAAAAAAAAAAAAAAAAAAAAAAAAAAAAAAAAAAAAAAAAAAAAAAAAAAAAAAAAAAAAAAAAAAAAAAAAAAAAAAAAAAAAAAAAAAAAAAAAAAAAAAAAAAAAAAAAAAAAAAAAAAAAAAAAAAAAAAAAAAAAAAAAAAAAAAAAAAAAAAAAAAAAAAAAAAAAAAAAAAAAAAAAAAAAAAAAAAAAAAAAAAAAAAAAAAAAAAAAAAAAAAAAAAAAAAAAAAAAAAAAAAAAAAAAAAAAAAAAAAAAAAAAAAAAAAAAAAAAAAAAAAAAAAAAAAAAAAAAAAAAAAAAAAAAAAAAAAAAAAAAAAAAAAAAAAAAAAAAAAAAAAAAAAAAAAAAAAAAAAAAAAAAAAAAAAAAAAAAAAAAAAAAAAAAAAAAAAAAAAAAAAAAAAAAAAAAAAAAAAAAAAAAAAAAAAAAAAAAAAAAAAAAAAAAAAAAAAAAAAAAAAAAAAAAAAAAAAAAAAAAAAAAAAAAAAAAAAAAAAAAAAAAAAAAAAAAAAAAAAAAAAAAAAAAAAAAAAAAAAAAAAAAAAAAAAAAAAAAAAAAAAAAAAAAAAAAAAAAAAAAAAAAAAAAAAAAAAAAAAAAAAAAAAAAAAAAAAAAAAAAAAAAAAAAAAAAAAAAAAAAAAAAAAAAAAAAAAAAAAAAAAAAAAAAAAAAAAAAAAAAAAAAAAAAAAAAAAAAAAAAAAAAAAAAAAAAAAAAAAAAAAAAAAAAAAAAAAAAAAAAAAAAAAAAAAAAAAAAAAAAAAAAAAAAAAAAAAAAAAAAAAAAAAAAAAAAAAAAAAAAAAAAAAAAAAAAAAAAAAAAAAAAAAAAAAAAAAAAAAAAAAAAAAAAAAAAAAAAAAAAAAAAAAAAAAAAAAAAAAAAAAAAAAAAAAAAAAAAAAAAAAAAAAAAAAAAAAAAAAAAAAAAAAAAAAAAAAAAAAAAAAAAAAAAAAAAAAAAAAAAAAAAAAAAAAAAAAAAAAAAAAAAAAAAAAAAAAAAAAAAAAAAAAAAAAAAAAAAAAAAAAAAAAAAAAAAAAAAAAAAAAAAAAAAAAAAAAAAAAAAAAAAAAAAAAAAAAAAAAAAAAAAAAAAAAAAAAAAAAAAAAAAAAAAAAAAAAAAAAAAAAAAAAAAAAAAAAAAAAAAAAAAAAAAAAAAAAAAAAAAAAAAAAAAAAAAAAAAAAAAAAAAAAAAAAAAAAAAAAAAAAAAAAAAAAAAAAAAAAAAAAAAAAAAAAAAAAAAAAAAAAAAAAAAAAAAAAAAAAAAAAAAAAAAAAAAAAAAAAAAAAAAAAAAAAAAAAAAAAAAAAAAAAAAAAAAAAAAAAAAAAAAAAAAAAAAAAAAAAAAAAAAAAAAAAAAAAAAAAAAAAAAAAAAAAAAAAAAAAAAAAAAAAAAAAAAAAAAAAAAAAAAAAAAAAAAAAAAAAAAAAAAAAAAAAAAAAAAAAAAAAAAAAAAAAAAAAAAAAAAAAAAAAAAAAAAAAAAAAAAAAAAAAAAAAAAAAAAAAAAAAAAAAAAAAAAAAAAAAAAAAAAAAAAAAAAAAAAAAAAAAAAAAAAAAAAAAAAAAAAAAAAAAAAAAAAAAAAAAAAAAAAAAAAAAAAAAAAAAAAAAAAAAAAAAAAAAAAAAAAAAAAAAAAAAAAAAAAAAAAAAAAAAAAAAAAAAAAAAAAAAAAAAAAAAAAAAAAAAAAAAAAAAAAAAAAAAAAAAAAAAAAAAAAAAAAAAAAAAAAAAAAAAAAAAAAAAAAAAAAAAAAAAAAAAAAAAAAAAAAAAAAAAAAAAAAAAAAAAAAAAAAAAAAAAAAAAAAAAAAAAAAAAAAAAAAAAAAAAAAAAAAAAAAAAAAAAAAAAAAAAAAAAAAAAAAAAAAAAAAAAAAAAAAAAAAAAAAAAAAAAAAAAAAAAAAAAAAAAAAAAAAAAAAAAAAAAAAAAAAAAAAAAAAAAAAAAAAAAAAAAAAAAAAAAAAAAAAAAAAAAAAAAAAAAAAAAAAAAAAAAAAAAAAAAAAAAAAAAAAAAAAAAAAAAAAAAAAAAAAAAAAAAAAAAAAAAAAAAAAAAAAAAAAAAAAAAAAAAAAAAAAAAAAAAAAAAAAAAAAAAAAAAAAAAAAAAAAAAAAAAAAAAAAAAAAAAAAAAAAAAAAAAAAAAAAAAAAAAAAAAAAAAAAAAAAAAAAAAAAAAAAAAAAAAAAAAAAAAAAAAAAAAAAAAAAAAAAAAAAAAAAAAAAAAAAAAAAAAAAAAAAAAAAAAAAAAAAAAAAAAAAAAAAAAAAAAAAAAAAAAAAAAAAAAAAAAAAAAAAAAAAAAAAAAAAAAAAAAAAAAAAAAAAAAAAAAAAAAAAAAAAAAAAAAAAAAAAAAAAAAAAAAAAAAAAAAAAAAAAAAAAAAAAAAAAAAAAAAAAAAAAAAAAAAAAAAAAAAAAAAAAAAAAAAAAAAAAAAAAAAAAAAAAAAAAAAAAAAAAAAAAAAAAAAAAAAAAAAAAAAAAAAAAAAAAAAAAAAAAAAAAAAAAAAAAAAAAAAAAAAAAAAAAAAAAAAAAAAAAAAAAAAAAAAAAAAAAAAAAAAAAAAAAAAAAAAAAAAAAAAAAAAAAAAAAAAAAAAAAAAAAAAAAAAAAAAAAAAAAAAAAAAAAAAAAAAAAAAAAAAAAAAAAAAAAAAAAAAAAAAAAAAAAAAAAAAAAAAAAAAAAAAAAAAAAAAAAAAAAAAAAAAAAAAAAAAAAAAAAAAAAAAAAAAAAAAAAAAAAAAAAAAAAAAAAAAAAAAAAAAAAAAAAAAAAAAAAAAAAAAAAAAAAAAAAAAAAAAAAAAAAAAAAAAAAAAAAAAAAAAAAAAAAAAAAAAAAAAAAAAAAAAAAAAAAAAAAAAAAAAAAAAAAAAAAAAAAAAAAAAAAAAAAAAAAAAAAAAAAAAAAAAAAAAAAAAAAAAAAAAAAAAAAAAAAAAAAAAAAAAAAAAAAAAAAAAAAAAAAAAAAAAAAAAAAAAAAAAAAAAAAAAAAAAAAAAAAAAAAAAAAAAAAAAAAAAAAAAAAAAAAAAAAAAAAAAAAAAAAAAAAAAAAAAAAAAAAAAAAAAAAAAAAAAAAAAAAAAAAAAAAAAAAAAAAAAAAAAAAAAAAAAAAAAAAAAAAAAAAAAAAAAAAAAAAAAAAAAAAAAAAAAAAAAAAAAAAAAAAAAAAAAAAAAAAAAAAAAAAAAAAAAAAAAAAAAAAAAAAAAAAAAAAAAAAAAAAAAAAAAAAAAAAAAAAAAAAAAAAAAAAAAAAAAAAAAAAAAAAAAAAAAAAAAAAAAAAAAAAAAAAAAAAAAAAAAAAAAAAAAAAAAAAAAAAAAAAAAAAAAAAAAAAAAAAAAAAAAAAAAAAAAAAAAAAAAAAAAAAAAAAAAAAAAAAAAAAAAAAAAAAAAAAAAAAAAAAAAAAAAAAAAAAAAAAAAAAAAAAAAAAAAAAAAAAAAAAAAAAAAAAAAAAAAAAAAAAAAAAAAAAAAAAAAAAAAAAAAAAAAAAAAAAAAAAAAAAAAAAAAAAAAAAAAAAAAAAAAAAAAAAAAAAAAAAAAAAAAAAAAAAAAAAAAAAAAAAAAAAAAAAAAAAAAAAAAAAAAAAAAAAAAAAAAAAAAAAAAAAAAAAAAAAAAAAAAAAAAAAAAAAAAAAAAAAAAAAAAAAAAAAAAAAAAAAAAAAAAAAAAAAAAAAAAAAAAAAAAAAAAAAAAAAAAAAAAAAAAAAAAAAAAAAAAAAAAAAAAAAAAAAAAAAAAAAAAAAAAAAAAAAAAAAAAAAAAAAAAAAAAAAAAAAAAAAAAAAAAAAAAAAAAAAAAAAAAAAAAAAAAAAAAAAAAAAAAAAAAAAAAAAAAAAAAAAAAAAAAAAAAAAAAAAAAAAAAAAAAAAAAAAAAAAAAAAAAAAAAAAAAAAAAAAAAAAAAAAAAAAAAAAAAAAAAAAAAAAAAAAAAAAAAAAAAAAAAAAAAAAAAAAAAAAAAAAAAAAAAAAAAAAAAAAAAAAAAAAAAAAAAAAAAAAAAAAAAAAAAAAAAAAAAAAAAAAAAAAAAAAAAAAAAAAAAAAAAAAAAAAAAAAAAAAAAAAAAAAAAAAAAAAAAAAAAAAAAAAAAAAAAAAAAAAAAAAAAAAAAAAAAAAAAAAAAAAAAAAAAAAAAAAAAAAAAAAAAAAAAAAAAAAAAAAAAAAAAAAAAAAAAAAAAAAAAAAAAAAAAAAAAAAAAAAAAAAAAAAAAAAAAAAAAAAAAAAAAAAAAAAAAAAAAAAAAAAAAAAAAAAAAAAAAAAAAAAAAAAAAAAAAAAAAAAAAAAAAAAAAAAAAAAAAAAAAAAAAAAAAAAAAAAAAAAAAAAAAAAAAAAAAAAAAAAAAAAAAAAAAAAAAAAAAAAAAAAAAAAAAAAAAAAAAAAAAAAAAAAAAAAAAAAAAAAAAAAAAAAAAAAAAAAAAAAAAAAAAAAAAAAAAAAAAAAAAAAAAAAAAAAAAAAAAAAAAAAAAAAAAAAAAAAAAAAAAAAAAAAAAAAAAAAAAAAAAAAAAAAAAAAAAAAAAAAAAAAAAAAAAAAAAAAAAAAAAAAAAAAAAAAAAAAAAAAAAAAAAAAAAAAAAAAAAAAAAAAAAAAAAAAAAAAAAAAAAAAAAAAAAAAAAAAAAAAAAAAAAAAAAAAAAAAAAAAAAAAAAAAAAAAAAAAAAAAAAAAAAAAAAAAAAAAAAAAAAAAAAAAAAAAAAAAAAAAAAAAAAAAAAAAAAAAAAAAAAAAAAAAAAAAAAAAAAAAAAAAAAAAAAAAAAAAAAAAAAAAAAAAAAAAAAAAAAAAAAAAAAAAAAAAAAAAAAAAAAAAAAAAAAAAAAAAAAAAAAAAAAAAAAAAAAAAAAAAAAAAAAAAAAAAAAAAAAAAAAAAAAAAAAAAAAAAAAAAAAAAAAAAAAAAAAAAAAAAAAAAAAAAAAAAAAAAAAAAAAAAAAAAAAAAAAAAAAAAAAAAAAAAAAAAAAAAAAAAAAAAAAAAAAAAAAAAAAAAAAAAAAAAAAAAAAAAAAAAAAAAAAAAAAAAAAAAAAAAAAAAAAAAAAAAAAAAAAAAAAAAAAAAAAAAAAAAAAAAAAAAAAAAAAAAAAAAAAAAAAAAAAAAAAAAAAAAAAAAAAAAAAAAAAAAAAAAAAAAAAAAAAAAAAAAAAAAAAAAAAAAAAAAAAAAAAAAAAAAAAAAAAAAAAAAAAAAAAAAAAAAAAAAAAAAAAAAAAAAAAAAAAAAAAAAAAAAAAAAAAAAAAAAAAAAAAAAAAAAAAAAAAAAAAAAAAAAAAAAAAAAAAAAAAAAAAAAAAAAAAAAAAAAAAAAAAAAAAAAAAAAAAAAAAAAAAAAAAAAAAAAAAAAAAAAAAAAAAAAAAAAAAAAAAAAAAAAAAAAAAAAAAAAAAAAAAAAAAAAAAAAAAAAAAAAAAAAAAAAAAAAAAAAAAAAAAAAAAAAAAAAAAAAAAAAAAAAAAAAAAAAAAAAAAAAAAAAAAAAAAAAAAAAAAAAAAAAAAAAAAAAAAAAAAAAAAAAAAAAAAAAAAAAAAAAAAAAAAAAAAAAAAAAAAAAAAAAAAAAAAAAAAAAAAAAAAAAAAAAAAAAAAAAAAAAAAAAAAAAAAAAAAAAAAAAAAAAAAAAAAAAAAAAAAAAAAAAAAAAAAAAAAAAAAAAAAAAAAAAAAAAAAAAAAAAAAAAAAAAAAAAAAAAAAAAAAAAAAAAAAAAAAAAAAAAAAAAAAAAAAAAAAAAAAAAAAAAAAAAAAAAAAAAAAAAAAAAAAAAAAAAAAAAAAAAAAAAAAAAAAAAAAAAAAAAAAAAAAAAAAAAAAAAAAAAAAAAAAAAAAAAAAAAAAAAAAAAAAAAAAAAAAAAAAAAAAAAAAAAAAAAAAAAAAAAAAAAAAAAAAAAAAAAAAAAAAAAAAAAAAAAAAAAAAAAAAAAAAAAAAAAAAAAAAAAAAAAAAAAAAAAAAAAAAAAAAAAAAAAAAAAAAAAAAAAAAAAAAAAAAAAAAAAAAAAAAAAAAAAAAAAAAAAAAAAAAAAAAAAAAAAAAAAAAAAAAAAAAAAAAAAAAAAAAAAAAAAAAAAAAAAAAAAAAAAAAAAAAAAAAAAAAAAAAAAAAAAAAAAAAAAAAAAAAAAAAAAAAAAAAAAAAAAAAAAAAAAAAAAAAAAAAAAAAAAAAAAAAAAAAAAAAAAAAAAAAAAAAAAAAAAAAAAAAAAAAAAAAAAAAAAAAAAAAAAAAAAAAAAAAAAAAAAAAAAAAAAAAAAAAAAAAAAAAAAAAAAAAAAAAAAAAAAAAAAAAAAAAAAAAAAAAAAAAAAAAAAAAAAAAAAAAAAAAAAAAAAAAAAAAAAAAAAAAAAAAAAAAAAAAAAAAAAAAAAAAAAAAAAAAAAAAAAAAAAAAAAAAAAAAAAAAAAAAAAAAAAAAAAAAAAAAAAAAAAAAAAAAAAAAAAAAAAAAAAAAAAAAAAAAAAAAAAAAAAAAAAAAAAAAAAAAAAAAAAAAAAAAAAAAAAAAAAAAAAAAAAAAAAAAAAAAAAAAAAAAAAAAAAAAAAAAAAAAAAAAAAAAAAAAAAAAAAAAAAAAAAAAAAAAAAAAAAAAAAAAAAAAAAAAAAAAAAAAAAAAAAAAAAAAAAAAAAAAAAAAAAAAAAAAAAAAAAAAAAAAAAAAAAAAAAAAAAAAAAAAAAAAAAAAAAAAAAAAAAAAAAAAAAAAAAAAAAAAAAAAAAAAAAAAAAAAAAAAAAAAAAAAAAAAAAAAAAAAAAAAAAAAAAAAAAAAAAAAAAAAAAAAAAAAAAAAAAAAAAAAAAAAAAAAAAAAAAAAAAAAAAAAAAAAAAAAAAAAAAAAAAAAAAAAAAAAAAAAAAAAAAAAAAAAAAAAAAAAAAAAAAAAAAAAAAAAAAAAAAAAAAAAAAAAAAAAAAAAAAAAAAAAAAAAAAAAAAAAAAAAAAAAAAAAAAAAAAAAAAAAAAAAAAAAAAAAAAAAAAAAAAAAAAAAAAAAAAAAAAAAAAAAAAAAAAAAAAAAAAAAAAAAAAAAAAAAAAAAAAAAAAAAAAAAAAAAAAAAAAAAAAAAAAAAAAAAAAAAAAAAAAAAAAAAAAAAAAAAAAAAAAAAAAAAAAAAAAAAAAAAAAAAAAAAAAAAAAAAAAAAAAAAAAAAAAAAAAAAAAAAAAAAAAAAAAAAAAAAAAAAAAAAAAAAAAAAAAAAAAAAAAAAAAAAAAAAAAAAAAAAAAAAAAAAAAAAAAAAAAAAAAAAAAAAAAAAAAAAAAAAAAAAAAAAAAAAAAAAAAAAAAAAAAAAAAAAAAAAAAAAAAAAAAAAAAAAAAAAAAAAAAAAAAAAAAAAAAAAAAAAAAAAAAAAAAAAAAAAAAAAAAAAAAAAAAAAAAAAAAAAAAAAAAAAAAAAAAAAAAAAAAAAAAAAAAAAAAAAAAAAAAAAAAAAAAAAAAAAAAAAAAAAAAAAAAAAAAAAAAAAAAAAAAAAAAAAAAAAAAAAAAAAAAAAAAAAAAAAAAAAAAAAAAAAAAAAAAAAAAAAAAAAAAAAAAAAAAAAAAAAAAAAAAAAAAAAAAAAAAAAAAAAAAAAAAAAAAAAAAAAAAAAAAAAAAAAAAAAAAAAAAAAAAAAAAAAAAAAAAAAAAAAAAAAAAAAAAAAAAAAAAAAAAAAAAAAAAAAAAAAAAAAAAAAAAAAAAAAAAAAAAAAAAAAAAAAAAAAAAAAAAAAAAAAAAAAAAAAAAAAAAAAAAAAAAAAAAAAAAAAAAAAAAAAAAAAAAAAAAAAAAAAAAAAAAAAAAAAAAAAAAAAAAAAAAAAAAAAAAAAAAAAAAAAAAAAAAAAAAAAAAAAAAAAAAAAAAAAAAAAAAAAAAAAAAAAAAAAAAAAAAAAAAAAAAAAAAAAAAAAAAAAAAAAAAAAAAAAAAAAAAAAAAAAAAAAAAAAAAAAAAAAAAAAAAAAAAAAAAAAAAAAAAAAAAAAAAAAAAAAAAAAAAAAAAAAAAAAAAAAAAAAAAAAAAAAAAAAAAAAAAAAAAAAAAAAAAAAAAAAAAAAAAAAAAAAAAAAAAAAAAAAAAAAAAAAAAAAAAAAAAAAAAAAAAAAAAAAAAAAAAAAAAAAAAAAAAAAAAAAAAAAAAAAAAAAAAAAAAAAAAAAAAAAAAAAAAAAAAAAAAAAAAAAAAAAAAAAAAAAAAAAAAAAAAAAAAAAAAAAAAAAAAAAAAAAAAAAAAAAAAAAAAAAAAAAAAAAAAAAAAAAAAAAAAAAAAAAAAAAAAAAAAAAAAAAAAAAAAAAAAAAAAAAAAAAAAAAAAAAAAAAAAAAAAAAAAAAAAAAAAAAAAAAAAAAAAAAAAAAAAAAAAAAAAAAAAAAAAAAAAAAAAAAAAAAAAAAAAAAAAAAAAAAAAAAAAAAAAAAAAAAAAAAAAAAAAAAAAAAAAAAAAAAAAAAAAAAAAAAAAAAAAAAAAAAAAAAAAAAAAAAAAAAAAAAAAAAAAAAAAAAAAAAAAAAAAAAAAAAAAAAAAAAAAAAAAAAAAAAAAAAAAAAAAAAAAAAAAAAAAAAAAAAAAAAAAAAAAAAAAAAAAAAAAAAAAAAAAAAAAAAAAAAAAAAAAAAAAAAAAAAAAAAAAAAAAAAAAAAAAAAAAAAAAAAAAAAAAAAAAAAAAAAAAAAAAAAAAAAAAAAAAAAAAAAAAAAAAAAAAAAAAAAAAAAAAAAAAAAAAAAAAAAAAAAAAAAAAAAAAAAAAAAAAAAAAAAAAAAAAAAAAAAAAAAAAAAAAAAAAAAAAAAAAAAAAAAAAAAAAAAAAAAAAAAAAAAAAAAAAAAAAAAAAAAAAAAAAAAAAAAAAAAAAAAAAAAAAAAAAAAAAAAAAAAAAAAAAAAAAAAAAAAAAAAAAAAAAAAAAAAAAAAAAAAAAAAAAAAAAAAAAAAAAAAAAAAAAAAAAAAAAAAAAAAAAAAAAAAAAAAAAAAAAAAAAAAAAAAAAAAAAAAAAAAAAAAAAAAAAAAAAAAAAAAAAAAAAAAAAAAAAAAAAAAAAAAAAAAAAAAAAAAAAAAAAAAAAAAAAAAAAAAAAAAAAAAAAAAAAAAAAAAAAAAAAAAAAAAAAAAAAAAAAAAAAAAAAAAAAAAAAAAAAAAAAAAAAAAAAAAAAAAAAAAAAAAAAAAAAAAAAAAAAAAAAAAAAAAAAAAAAAAAAAAAAAAAAAAAAAAAAAAAAAAAAAAAAAAAAAAAAAAAAAAAAAAAAAAAAAAAAAAAAAAAAAAAAAAAAAAAAAAAAAAAAAAAAAAAAAAAAAAAAAAAAAAAAAAAAAAAAAAAAAAAAAAAAAAAAAAAAAAAAAAAAAAAAAAAAAAAAAAAAAAAAAAAAAAAAAAAAAAAAAAAAAAAAAAAAAAAAAAAAAAAAAAAAAAAAAAAAAAAAAAAAAAAAAAAAAAAAAAAAAAAAAAAAAAAAAAAAAAAAAAAAAAAAAAAAAAAAAAAAAAAAAAAAAAAAAAAAAAAAAAAAAAAAAAAAAAAAAAAAAAAAAAAAAAAAAAAAAAAAAAAAAAAAAAAAAAAAAAAAAAAAAAAAAAAAAAAAAAAAAAAAAAAAAAAAAAAAAAAAAAAAAAAAAAAAAAAAAAAAAAAAAAAAAAAAAAAAAAAAAAAAAAAAAAAAAAAAAAAAAAAAAAAAAAAAAAAAAAAAAAAAAAAAAAAAAAAAAAAAAAAAAAAAAAAAAAAAAAAAAAAAAAAAAAAAAAAAAAAAAAAAAAAAAAAAAAAAAAAAAAAAAAAAAAAAAAAAAAAAAAAAAAAAAAAAAAAAAAAAAAAAAAAAAAAAAAAAAAAAAAAAAAAAAAAAAAAAAAAAAAAAAAAAAAAAAAAAAAAAAAAAAAAAAAAAAAAAAAAAAAAAAAAAAAAAAAAAAAAAAAAAAAAAAAAAAAAAAAAAAAAAAAAAAAAAAAAAAAAAAAAAAAAAAAAAAAAAAAAAAAAAAAAAAAAAAAAAAAAAAAAAAAAAAAAAAAAAAAAAAAAAAAAAAAAAAAAAAAAAAAAAAAAAAAAAAAAAAAAAAAAAAAAAAAAAAAAAAAAAAAAAAAAAAAAAAAAAAAAAAAAAAAAAAAAAAAAAAAAAAAAAAAAAAAAAAAAAAAAAAAAAAAAAAAAAAAAAAAAAAAAAAAAAAAAAAAAAAAAAAAAAAAAAAAAAAAAAAAAAAAAAAAAAAAAAAAAAAAAAAAAAAAAAAAAAAAAAAAAAAAAAAAAAAAAAAAAAAAAAAAAAAAAAAAAAAAAAAAAAAAAAAAAAAAAAAAAAAAAAAAAAAAAAAAAAAAAAAAAAAAAAAAAAAAAAAAAAAAAAAAAAAAAAAAAAAAAAAAAAAAAAAAAAAAAAAAAAAAAAAAAAAAAAAAAAAAAAAAAAAAAAAAAAAAAAAAAAAAAAAAAAAAAAAAAAAAAAAAAAAAAAAAAAAAAAAAAAAAAAAAAAAAAAAAAAAAAAAAAAAAAAAAAAAAAAAAAAAAAAAAAAAAAAAAAAAAAAAAAAAAAAAAAAAAAAAAAAAAAAAAAAAAAAAAAAAAAAAAAAAAAAAAAAAAAAAAAAAAAAAAAAAAAAAAAAAAAAAAAAAAAAAAAAAAAAAAAAAAAAAAAAAAAAAAAAAAAAAAAAAAAAAAAAAAAAAAAAAAAAAAAAAAAAAAAAAAAAAAAAAAAAAAAAAAAAAAAAAAAAAAAAAAAAAAAAAAAAAAAAAAAAAAAAAAAAAAAAAAAAAAAAAAAAAAAAAAAAAAAAAAAAAAAAAAAAAAAAAAAAAAAAAAAAAAAAAAAAAAAAAAAAAAAAAAAAAAAAAAAAAAAAAAAAAAAAAAAAAAAAAAAAAAAAAAAAAAAAAAAAAAAAAAAAAAAAAAAAAAAAAAAAAAAAAAAAAAAAAAAAAAAAAAAAAAAAAAAAAAAAAAAAAAAAAAAAAAAAAAAAAAAAAAAAAAAAAAAAAAAAAAAAAAAAAAAAAAAAAAAAAAAAAAAAAAAAAAAAAAAAAAAAAAAAAAAAAAAAAAAAAAAAAAAAAAAAAAAAAAAAAAAAAAAAAAAAAAAAAAAAAAAAAAAAAAAAAAAAAAAAAAAAAAAAAAAAAAAAAAAAAAAAAAAAAAAAAAAAAAAAAAAAAAAAAAAAAAAAAAAAAAAAAAAAAAAAAAAAAAAAAAAAAAAAAAAAAAAAAAAAAAAAAAAAAAAAAAAAAAAAAAAAAAAAAAAAAAAAAAAAAAAAAAAAAAAAAAAAAAAAAAAAAAAAAAAAAAAAAAAAAAAAAAAAAAAAAAAAAAAAAAAAAAAAAAAAAAAAAAAAAAAAAAAAAAAAAAAAAAAAAAAAAAAAAAAAAAAAAAAAAAAAAAAAAAAAAAAAAAAAAAAAAAAAAAAAAAAAAAAAAAAAAAAAAAAAAAAAAAAAAAAAAAAAAAAAAAAAAAAAAAAAAAAAAAAAAAAAAAAAAAAAAAAAAAAAAAAAAAAAAAAAAAAAAAAAAAAAAAAAAAAAAAAAAAAAAAAAAAAAAAAAAAAAAAAAAAAAAAAAAAAAAAAAAAAAAAAAAAAAAAAAAAAAAAAAAAAAAAAAAAAAAAAAAAAAAAAAAAAAAAAAAAAAAAAAAAAAAAAAAAAAAAAAAAAAAAAAAAAAAAAAAAAAAAAAAAAAAAAAAAAAAAAAAAAAAAAAAAAAAAAAAAAAAAAAAAAAAAAAAAAAAAAAAAAAAAAAAAAAAAAAAAAAAAAAAAAAAAAAAAAAAAAAAAAAAAAAAAAAAAAAAAAAAAAAAAAAAAAAAAAAAAAAAAAAAAAAAAAAAAAAAAAAAAAAAAAAAAAAAAAAAAAAAAAAAAAAAAAAAAAAAAAAAAAAAAAAAAAAAAAAAAAAAAAAAAAAAAAAAAAAAAAAAAAAAAAAAAAAAAAAAAAAAAAAAAAAAAAAAAAAAAAAAAAAAAAAAAAAAAAAAAAAAAAAAAAAAAAAAAAAAAAAAAAAAAAAAAAAAAAAAAAAAAAAAAAAAAAAAAAAAAAAAAAAAAAAAAAAAAAAAAAAAAAAAAAAAAAAAAAAAAAAAAAAAAAAAAAAAAAAAAAAAAAAAAAAAAAAAAAAAAAAAAAAAAAAAAAAAAAAAAAAAAAAAAAAAAAAAAAAAAAAAAAAAAAAAAAAAAAAAAAAAAAAAAAAAAAAAAAAAAAAAAAAAAAAAAAAAAAAAAAAAAAAAAAAAAAAAAAAAAAAAAAAAAAAAAAAAAAAAAAAAAAAAAAAAAAAAAAAAAAAAAAAAAAAAAAAAAAAAAAAAAAAAAAAAAAAAAAAAAAAAAAAAAAAAAAAAAAAAAAAAAAAAAAAAAAAAAAAAAAAAAAAAAAAAAAAAAAAAAAAAAAAAAAAAAAAAAAAAAAAAAAAAAAAAAAAAAAAAAAAAAAAAAAAAAAAAAAAAAAAAAAAAAAAAAAAAAAAAAAAAAAAAAAAAAAAAAAAAAAAAAAAAAAAAAAAAAAAAAAAAAAAAAAAAAAAAAAAAAAAAAAAAAAAAAAAAAAAAAAAAAAAAAAAAAAAAAAAAAAAAAAAAAAAAAAAAAAAAAAAAAAAAAAAAAAAAAAAAAAAAAAAAAAAAAAAAAAAAAAAAAAAAAAAAAAAAAAAAAAAAAAAAAAAAAAAAAAAAAAAAAAAAAAAAAAAAAAAAAAAAAAAAAAAAAAAAAAAAAAAAAAAAAAAAAAAAAAAAAAAAAAAAAAAAAAAAAAAAAAAAAAAAAAAAAAAAAAAAAAAAAAAAAAAAAAAAAAAAAAAAAAAAAAAAAAAAAAAAAAAAAAAAAAAAAAAAAAAAAAAAAAAAAAAAAAAAAAAAAAAAAAAAAAAAAAAAAAAAAAAAAAAAAAAAAAAAAAAAAAAAAAAAAAAAAAAAAAAAAAAAAAAAAAAAAAAAAAAAAAAAAAAAAAAAAAAAAAAAAAAAAAAAAAAAAAAAAAAAAAAAAAAAAAAAAAAAAAAAAAAAAAAAAAAAAAAAAAAAAAAAAAAAAAAAAAAAAAAAAAAAAAAAAAAAAAAAAAAAAAAAAAAAAAAAAAAAAAAAAAAAAAAAAAAAAAAAAAAAAAAAAAAAAAAAAAAAAAAAAAAAAAAAAAAAAAAAAAAAAAAAAAAAAAAAAAAAAAAAAAAAAAAAAAAAAAAAAAAAAAAAAAAAAAAAAAAAAAAAAAAAAAAAAAAAAAAAAAAAAAAAAAAAAAAAAAAAAAAAAAAAAAAAAAAAAAAAAAAAAAAAAAAAAAAAAAAAAAAAAAAAAAAAAAAAAAAAAAAAAAAAAAAAAAAAAAAAAAAAAAAAAAAAAAAAAAAAAAAAAAAAAAAAAAAAAAAAAAAAAAAAAAAAAAAAAAAAAAAAAAAAAAAAAAAAAAAAAAAAAAAAAAAAAAAAAAAAAAAAAAAAAAAAAAAAAAAAAAAAAAAAAAAAAAAAAAAAAAAAAAAAAAAAAAAAAAAAAAAAAAAAAAAAAAAAAAAAAAAAAAAAAAAAAAAAAAAAAAAAAAAAAAAAAAAAAAAAAAAAAAAAAAAAAAAAAAAAAAAAAAAAAAAAAAAAAAAAAAAAAAAAAAAAAAAAAAAAAAAAAAAAAAAAAAAAAAAAAAAAAAAAAAAAAAAAAAAAAAAAAAAAAAAAAAAAAAAAAAAAAAAAAAAAAAAAAAAAAAAAAAAAAAAAAAAAAAAAAAAAAAAAAAAAAAAAAAAAAAAAAAAAAAAAAAAAAAAAAAAAAAAAAAAAAAAAAAAAAAAAAAAAAAAAAAAAAAAAAAAAAAAAAAAAAAAAAAAAAAAAAAAAAAAAAAAAAAAAAAAAAAAAAAAAAAAAAAAAAAAAAAAAAAAAAAAAAAAAAAAAAAAAAAAAAAAAAAAAAAAAAAAAAAAAAAAAAAAAAAAAAAAAAAAAAAAAAAAAAAAAAAAAAAAAAAAAAAAAAAAAAAAAAAAAAAAAAAAAAAAAAAAAAAAAAAAAAAAAAAAAAAAAAAAAAAAAAAAAAAAAAAAAAAAAAAAAAAAAAAAAAAAAAAAAAAAAAAAAAAAAAAAAAAAAAAAAAAAAAAAAAAAAAAAAAAAAAAAAAAAAAAAAAAAAAAAAAAAAAAAAAAAAAAAAAAAAAAAAAAAAAAAAAAAAAAAAAAAAAAAAAAAAAAAAAAAAAAAAAAAAAAAAAAAAAAAAAAAAAAAAAAAAAAAAAAAAAAAAAAAAAAAAAAAAAAAAAAAAAAAAAAAAAAAAAAAAAAAAAAAAAAAAAAAAAAAAAAAAAAAAAAAAAAAAAAAAAAAAAAAAAAAAAAAAAAAAAAAAAAAAAAAAAAAAAAAAAAAAAAAAAAAAAAAAAAAAAAAAAAAAAAAAAAAAAAAAAAAAAAAAAAAAAAAAAAAAAAAAAAAAAAAAAAAAAAAAAAAAAAAAAAAAAAAAAAAAAAAAAAAAAAAAAAAAAAAAAAAAAAAAAAAAAAAAAAAAAAAAAAAAAAAAAAAAAAAAAAAAAAAAAAAAAAAAAAAAAAAAAAAAAAAAAAAAAAAAAAAAAAAAAAAAAAAAAAAAAAAAAAAAAAAAAAAAAAAAAAAAAAAAAAAAAAAAAAAAAAAAAAAAAAAAAAAAAAAAAAAAAAAAAAAAAAAAAAAAAAAAAAAAAAAAAAAAAAAAAAAAAAAAAAAAAAAAAAAAAAAAAAAAAAAAAAAAAAAAAAAAAAAAAAAAAAAAAAAAAAAAAAAAAAAAAAAAAAAAAAAAAAAAAAAAAAAAAAAAAAAAAAAAAAAAAAAAAAAAAAAAAAAAAAAAAAAAAAAAAAAAAAAAAAAAAAAAAAAAAAAAAAAAAAAAAAAAAAAAAAAAAAAAAAAAAAAAAAAAAAAAAAAAAAAAAAAAAAAAAAAAAAAAAAAAAAAAAAAAAAAAAAAAAAAAAAAAAAAAAAAAAAAAAAAAAAAAAAAAAAAAAAAAAAAAAAAAAAAAAAAAAAAAAAAAAAAAAAAAAAAAAAAAAAAAAAAAAAAAAAAAAAAAAAAAAAAAAAAAAAAAAAAAAAAAAAAAAAAAAAAAAAAAAAAAAAAAAAAAAAAAAAAAAAAAAAAAAAAAAAAAAAAAAAAAAAAAAAAAAAAAAAAAAAAAAAAAAAAAAAAAAAAAAAAAAAAAAAAAAAAAAAAAAAAAAAAAAAAAAAAAAAAAAAAAAAAAAAAAAAAAAAAAAAAAAAAAAAAAAAAAAAAAAAAAAAAAAAAAAAAAAAAAAAAAAAAAAAAAAAAAAAAAAAAAAAAAAAAAAAAAAAAAAAAAAAAAAAAAAAAAAAAAAAAAAAAAAAAAAAAAAAAAAAAAAAAAAAAAAAAAAAAAAAAAAAAAAAAAAAAAAAAAAAAAAAAAAAAAAAAAAAAAAAAAAAAAAAAAAAAAAAAAAAAAAAAAAAAAAAAAAAAAAAAAAAAAAAAAAAAAAAAAAAAAAAAAAAAAAAAAAAAAAAAAAAAAAAAAAAAAAAAAAAAAAAAAAAAAAAAAAAAAAAAAAAAAAAAAAAAAAAAAAAAAAAAAAAAAAAAAAAAAAAAAAAAAAAAAAAAAAAAAAAAAAAAAAAAAAAAAAAAAAAAAAAAAAAAAAAAAAAAAAAAAAAAAAAAAAAAAAAAAAAAAAAAAAAAAAAAAAAAAAAAAAAAAAAAAAAAAAAAAAAAAAAAAAAAAAAAAAAAAAAAAAAAAAAAAAAAAAAAAAAAAAAAAAAAAAAAAAAAAAAAAAAAAAAAAAAAAAAAAAAAAAAAAAAAAAAAAAAAAAAAAAAAAAAAAAAAAAAAAAAAAAAAAAAAAAAAAAAAAAAAAAAAAAAAAAAAAAAAAAAAAAAAAAAAAAAAAAAAAAAAAAAAAAAAAAAAAAAAAAAAAAAAAAAAAAAAAAAAAAAAAAAAAAAAAAAAAAAAAAAAAAAAAAAAAAAAAAAAAAAAAAAAAAAAAAAAAAAAAAAAAAAAAAAAAAAAAAAAAAAAAAAAAAAAAAAAAAAAAAAAAAAAAAAAAAAAAAAAAAAAAAAAAAAAAAAAAAAAAAAAAAAAAAAAAAAAAAAAAAAAAAAAAAAAAAAAAAAAAAAAAAAAAAAAAAAAAAAAAAAAAAAAAAAAAAAAAAAAAAAAAAAAAAAAAAAAAAAAAAAAAAAAAAAAAAAAAAAAAAAAAAAAAAAAAAAAAAAAAAAAAAAAAAAAAAAAAAAAAAAAAAAAAAAAAAAAAAAAAAAAAAAAAAAAAAAAAAAAAAAAAAAAAAAAAAAAAAAAAAAAAAAAAAAAAAAAAAAAAAAAAAAAAAAAAAAAAAAAAAAAAAAAAAAAAAAAAAAAAAAAAAAAAAAAAAAAAAAAAAAAAAAAAAAAAAAAAAAAAAAAAAAAAAAAAAAAAAAAAAAAAAAAAAAAAAAAAAAAAAAAAAAAAAAAAAAAAAAAAAAAAAAAAAAAAAAAAAAAAAAAAAAAAAAAAAAAAAAAAAAAAAAAAAAAAAAAAAAAAAAAAAAAAAAAAAAAAAAAAAAAAAAAAAAAAAAAAAAAAAAAAAAAAAAAAAAAAAAAAAAAAAAAAAAAAAAAAAAAAAAAAAAAAAAAAAAAAAAAAAAAAAAAAAAAAAAAAAAAAAAAAAAAAAAAAAAAAAAAAAAAAAAAAAAAAAAAAAAAAAAAAAAAAAAAAAAAAAAAAAAAAAAAAAAAAAAAAAAAAAAAAAAAAAAAAAAAAAAAAAAAAAAAAAAAAAAAAAAAAAAAAAAAAAAAAAAAAAAAAAAAAAAAAAAAAAAAAAAAAAAAAAAAAAAAAAAAAAAAAAAAAAAAAAAAAAAAAAAAAAAAAAAAAAAAAAAAAAAAAAAAAAAAAAAAAAAAAAAAAAAAAAAAAAAAAAAAAAAAAAAAAAAAAAAAAAAAAAAAAAAAAAAAAAAAAAAAAAAAAAAAAAAAAAAAAAAAAAAAAAAAAAAAAAAAAAAAAAAAAAAAAAAAAAAAAAAAAAAAAAAAAAAAAAAAAAAAAAAAAAAAAAAAAAAAAAAAAAAAAAAAAAAAAAAAAAAAAAAAAAAAAAAAAAAAAAAAAAAAAAAAAAAAAAAAAAAAAAAAAAAAAAAAAAAAAAAAAAAAAAAAAAAAAAAAAAAAAAAAAAAAAAAAAAAAAAAAAAAAAAAAAAAAAAAAAAAAAAAAAAAAAAAAAAAAAAAAAAAAAAAAAAAAAAAAAAAAAAAAAAAAAAAAAAAAAAAAAAAAAAAAAAAAAAAAAAAAAAAAAAAAAAAAAAAAAAAAAAAAAAAAAAAAAAAAAAAAAAAAAAAAAAAAAAAAAAAAAAAAAAAAAAAAAAAAAAAAAAAAAAAAAAAAAAAAAAAAAAAAAAAAAAAAAAAAAAAAAAAAAAAAAAAAAAAAAAAAAAAAAAAAAAAAAAAAAAAAAAAAAAAAAAAAAAAAAAAAAAAAAAAAAAAAAAAAAAAAAAAAAAAAAAAAAAAAAAAAAAAAAAAAAAAAAAAAAAAAAAAAAAAAAAAAAAAAAAAAAAAAAAAAAAAAAAAAAAAAAAAAAAAAAAAAAAAAAAAAAAAAAAAAAAAAAAAAAAAAAAAAAAAAAAAAAAAAAAAAAAAAAAAAAAAAAAAAAAAAAAAAAAAAAAAAAAAAAAAAAAAAAAAAAAAAAAAAAAAAAAAAAAAAAAAAAAAAAAAAAAAAAAAAAAAAAAAAAAAAAAAAAAAAAAAAAAAAAAAAAAAAAAAAAAAAAAAAAAAAAAAAAAAAAAAAAAAAAAAAAAAAAAAAAAAAAAAAAAAAAAAAAAAAAAAAAAAAAAAAAAAAAAAAAAAAAAAAAAAAAAAAAAAAAAAAAAAAAAAAAAAAAAAAAAAAAAAAAAAAAAAAAAAAAAAAAAAAAAAAAAAAAAAAAAAAAAAAAAAAAAAAAAAAAAAAAAAAAAAAAAAAAAAAAAAAAAAAAAAAAAAAAAAAAAAAAAAAAAAAAAAAAAAAAAAAAAAAAAAAAAAAAAAAAAAAAAAAAAAAAAAAAAAAAAAAAAAAAAAAAAAAAAAAAAAAAAAAAAAAAAAAAAAAAAAAAAAAAAAAAAAAAAAAAAAAAAAAAAAAAAAAAAAAAAAAAAAAAAAAAAAAAAAAAAAAAAAAAAAAAAAAAAAAAAAAAAAAAAAAAAAAAAAAAAAAAAAAAAAAAAAAAAAAAAAAAAAAAAAAAAAAAAAAAAAAAAAAAAAAAAAAAAAAAAAAAAAAAAAAAAAAAAAAAAAAAAAAAAAAAAAAAAAAAAAAAAAAAAAAAAAAAAAAAAAAAAAAAAAAAAAAAAAAAAAAAAAAAAAAAAAAAAAAAAAAAAAAAAAAAAAAAAAAAAAAAAAAAAAAAAAAAAAAAAAAAAAAAAAAAAAAAAAAAAAAAAAAAAAAAAAAAAAAAAAAAAAAAAAAAAAAAAAAAAAAAAAAAAAAAAAAAAAAAAAAAAAAAAAAAAAAAAAAAAAAAAAAAAAAAAAAAAAAAAAAAAAAAAAAAAAAAAAAAAAAAAAAAAAAAAAAAAAAAAAAAAAAAAAAAAAAAAAAAAAAAAAAAAAAAAAAAAAAAAAAAAAAAAAAAAAAAAAAAAAAAAAAAAAAAAAAAAAAAAAAAAAAAAAAAAAAAAAAAAAAAAAAAAAAAAAAAAAAAAAAAAAAAAAAAAAAAAAAAAAAAAAAAAAAAAAAAAAAAAAAAAAAAAAAAAAAAAAAAAAAAAAAAAAAAAAAAAAAAAAAAAAAAAAAAAAAAAAAAAAAAAAAAAAAAAAAAAAAAAAAAAAAAAAAAAAAAAAAAAAAAAAAAAAAAAAAAAAAAAAAAAAAAAAAAAAAAAAAAAAAAAAAAAAAAAAAAAAAAAAAAAAAAAAAAAAAAAAAAAAAAAAAAAAAAAAAAAAAAAAAAAAAAAAAAAAAAAAAAAAAAAAAAAAAAAAAAAAAAAAAAAAAAAAAAAAAAAAAAAAAAAAAAAAAAAAAAAAAAAAAAAAAAAAAAAAAAAAAAAAAAAAAAAAAAAAAAAAAAAAAAAAAAAAAAAAAAAAAAAAAAAAAAAAAAAAAAAAAAAAAAAAAAAAAAAAAAAAAAAAAAAAAAAAAAAAAAAAAAAAAAAAAAAAAAAAAAAAAAAAAAAAAAAAAAAAAAAAAAAAAAAAAAAAAAAAAAAAAAAAAAAAAAAAAAAAAAAAAAAAAAAAAAAAAAAAAAAAAAAAAAAAAAAAAAAAAAAAAAAAAAAAAAAAAAAAAAAAAAAAAAAAAAAAAAAAAAAAAAAAAAAAAAAAAAAAAAAAAAAAAAAAAAAAAAAAAAAAAAAAAAAAAAAAAAAAAAAAAAAAAAAAAAAAAAAAAAAAAAAAAAAAAAAAAAAAAAAAAAAAAAAAAAAAAAAAAAAAAAAAAAAAAAAAAAAAAAAAAAAAAAAAAAAAAAAAAAAAAAAAAAAAAAAAAAAAAAAAAAAAAAAAAAAAAAAAAAAAAAAAAAAAAAAAAAAAAAAAAAAAAAAAAAAAAAAAAAAAAAAAAAAAAAAAAAAAAAAAAAAAAAAAAAAAAAAAAAAAAAAAAAAAAAAAAAAAAAAAAAAAAAAAAAAAAAAAAAAAAAAAAAAAAAAAAAAAAAAAAAAAAAAAAAAAAAAAAAAAAAAAAAAAAAAAAAAAAAAAAAAAAAAAAAAAAAAAAAAAAAAAAAAAAAAAAAAAAAAAAAAAAAAAAAAAAAAAAAAAAAAAAAAAAAAAAAAAAAAAAAAAAAAAAAAAAAAAAAAAAAAAAAAAAAAAAAAAAAAAAAAAAAAAAAAAAAAAAAAAAAAAAAAAAAAAAAAAAAAAAAAAAAAAAAAAAAAAAAAAAAAAAAAAAAAAAAAAAAAAAAAAAAAAAAAAAAAAAAAAAAAAAAAAAAAAAAAAAAAAAAAAAAAAAAAAAAAAAAAAAAAAAAAAAAAAAAAAAAAAAAAAAAAAAAAAAAAAAAAAAAAAAAAAAAAAAAAAAAAAAAAAAAAAAAAAAAAAAAAAAAAAAAAAAAAAAAAAAAAAAAAAAAAAAAAAAAAAAAAAAAAAAAAAAAAAAAAAAAAAAAAAAAAAAAAAAAAAAAAAAAAAAAAAAAAAAAAAAAAAAAAAAAAAAAAAAAAAAAAAAAAAAAAAAAAAAAAAAAAAAAAAAAAAAAAAAAAAAAAAAAAAAAAAAAAAAAAAAAAAAAAAAAAAAAAAAAAAAAAAAAAAAAAAAAAAAAAAAAAAAAAAAAAAAAAAAAAAAAAAAAAAAAAAAAAAAAAAAAAAAAAAAAAAAAAAAAAAAAAAAAAAAAAAAAAAAAAAAAAAAAAAAAAAAAAAAAAAAAAAAAAAAAAAAAAAAAAAAAAAAAAAAAAAAAAAAAAAAAAAAAAAAAAAAAAAAAAAAAAAAAAAAAAAAAAAAAAAAAAAAAAAAAAAAAAAAAAAAAAAAAAAAAAAAAAAAAAAAAAAAAAAAAAAAAAAAAAAAAAAAAAAAAAAAAAAAAAAAAAAAAAAAAAAAAAAAAAAAAAAAAAAAAAAAAAAAAAAAAAAAAAAAAAAAAAAAAAAAAAAAAAAAAAAAAAAAAAAAAAAAAAAAAAAAAAAAAAAAAAAAAAAAAAAAAAAAAAAAAAAAAAAAAAAAAAAAAAAAAAAAAAAAAAAAAAAAAAAAAAAAAAAAAAAAAAAAAAAAAAAAAAAAAAAAAAAAAAAAAAAAAAAAAAAAAAAAAAAAAAAAAAAAAAAAAAAAAAAAAAAAAAAAAAAAAAAAAAAAAAAAAAAAAAAAAAAAAAAAAAAAAAAAAAAAAAAAAAAAAAAAAAAAAAAAAAAAAAAAAAAAAAAAAAAAAAAAAAAAAAAAAAAAAAAAAAAAAAAAAAAAAAAAAAAAAAAAAAAAAAAAAAAAAAAAAAAAAAAAAAAAAAAAAAAAAAAAAAAAAAAAAAAAAAAAAAAAAAAAAAAAAAAAAAAAAAAAAAAAAAAAAAAAAAAAAAAAAAAAAAAAAAAAAAAAAAAAAAAAAAAAAAAAAAAAAAAAAAAAAAAAAAAAAAAAAAAAAAAAAAAAAAAAAAAAAAAAAAAAAAAAAAAAAAAAAAAAAAAAAAAAAAAAAAAAAAAAAAAAAAAAAAAAAAAAAAAAAAAAAAAAAAAAAAAAAAAAAAAAAAAAAAAAAAAAAAAAAAAAAAAAAAAAAAAAAAAAAAAAAAAAAAAAAAAAAAAAAAAAAAAAAAAAAAAAAAAAAAAAAAAAAAAAAAAAAAAAAAAAAAAAAAAAAAAAAAAAAAAAAAAAAAAAAAAAAAAAAAAAAAAAAAAAAAAAAAAAAAAAAAAAAAAAAAAAAAAAAAAAAAAAAAAAAAAAAAAAAAAAAAAAAAAAAAAAAAAAAAAAAAAAAAAAAAAAAAAAAAAAAAAAAAAAAAAAAAAAAAAAAAAAAAAAAAAAAAAAAAAAAAAAAAAAAAAAAAAAAAAAAAAAAAAAAAAAAAAAAAAAAAAAAAAAAAAAAAAAAAAAAAAAAAAAAAAAAAAAAAAAAAAAAAAAAAAAAAAAAAAAAAAAAAAAAAAAAAAAAAAAAAAAAAAAAAAAAAAAAAAAAAAAAAAAAAAAAAAAAAAAAAAAAAAAAAAAAAAAAAAAAAAAAAAAAAAAAAAAAAAAAAAAAAAAAAAAAAAAAAAAAAAAAAAAAAAAAAAAAAAAAAAAAAAAAAAAAAAAAAAAAAAAAAAAAAAAAAAAAAAAAAAAAAAAAAAAAAAAAAAAAAAAAAAAAAAAAAAAAAAAAAAAAAAAAAAAAAAAAAAAAAAAAAAAAAAAAAAAAAAAAAAAAAAAAAAAAAAAAAAAAAAAAAAAAAAAAAAAAAAAAAAAAAAAAAAAAAAAAAAAAAAAAAAAAAAAAAAAAAAAAAAAAAAAAAAAAAAAAAAAAAAAAAAAAAAAAAAAAAAAAAAAAAAAAAAAAAAAAAAAAAAAAAAAAAAAAAAAAAAAAAAAAAAAAAAAAAAAAAAAAAAAAAAAAAAAAAAAAAAAAAAAAAAAAAAAAAAAAAAAAAAAAAAAAAAAAAAAAAAAAAAAAAAAAAAAAAAAAAAAAAAAAAAAAAAAAAAAAAAAAAAAAAAAAAAAAAAAAAAAAAAAAAAAAAAAAAAAAAAAAAAAAAAAAAAAAAAAAAAAAAAAAAAAAAAAAAAAAAAAAAAAAAAAAAAAAAAAAAAAAAAAAAAAAAAAAAAAAAAAAAAAAAAAAAAAAAAAAAAAAAAAAAAAAAAAAAAAAAAAAAAAAAAAAAAAAAAAAAAAAAAAAAAAAAAAAAAAAAAAAAAAAAAAAAAAAAAAAAAAAAAAAAAAAAAAAAAAAAAAAAAAAAAAAAAAAAAAAAAAAAAAAAAAAAAAAAAAAAAAAAAAAAAAAAAAAAAAAAAAAAAAAAAAAAAAAAAAAAAAAAAAAAAAAAAAAAAAAAAAAAAAAAAAAAAAAAAAAAAAAAAAAAAAAAAAAAAAAAAAAAAAAAAAAAAAAAAAAAAAAAAAAAAAAAAAAAAAAAAAAAAAAAAAAAAAAAAAAAAAAAAAAAAAAAAAAAAAAAAAAAAAAAAAAAAAAAAAAAAAAAAAAAAAAAAAAAAAAAAAAAAAAAAAAAAAAAAAAAAAAAAAAAAAAAAAAAAAAAAAAAAAAAAAAAAAAAAAAAAAAAAAAAAAAAAAAAAAAAAAAAAAAAAAAAAAAAAAAAAAAAAAAAAAAAAAAAAAAAAAAAAAAAAAAAAAAAAAAAAAAAAAAAAAAAAAAAAAAAAAAAAAAAAAAAAAAAAAAAAAAAAAAAAAAAAAAAAAAAAAAAAAAAAAAAAAAAAAAAAAAAAAAAAAAAAAAAAAAAAAAAAAAAAAAAAAAAAAAAAAAAAAAAAAAAAAAAAAAAAAAAAAAAAAAAAAAAAAAAAAAAAAAAAAAAAAAAAAAAAAAAAAAAAAAAAAAAAAAAAAAAAAAAAAAAAAAAAAAAAAAAAAAAAAAAAAAAAAAAAAAAAAAAAAAAAAAAAAAAAAAAAAAAAAAAAAAAAAAAAAAAAAAAAAAAAAAAAAAAAAAAAAAAAAAAAAAAAAAAAAAAAAAAAAAAAAAAAAAAAAAAAAAAAAAAAAAAAAAAAAAAAAAAAAAAAAAAAAAAAAAAAAAAAAAAAAAAAAAAAAAAAAAAAAAAAAAAAAAAAAAAAAAAAAAAAAAAAAAAAAAAAAAAAAAAAAAAAAAAAAAAAAAAAAAAAAAAAAAAAAAAAAAAAAAAAAAAAAAAAAAAAAAAAAAAAAAAAAAAAAAAAAAAAAAAAAAAAAAAAAAAAAAAAAAAAAAAAAAAAAAAAAAAAAAAAAAAAAAAAAAAAAAAAAAAAAAAAAAAAAAAAAAAAAAAAAAAAAAAAAAAAAAAAAAAAAAAAAAAAAAAAAAAAAAAAAAAAAAAAAAAAAAAAAAAAAAAAAAAAAAAAAAAAAAAAAAAAAAAAAAAAAAAAAAAAAAAAAAAAAAAAAAAAAAAAAAAAAAAAAAAAAAAAAAAAAAAAAAAAAAAAAAAAAAAAAAAAAAAAAAAAAAAAAAAAAAAAAAAAAAAAAAAAAAAAAAAAAAAAAAAAAAAAAAAAAAAAAAAAAAAAAAAAAAAAAAAAAAAAAAAAAAAAAAAAAAAAAAAAAAAAAAAAAAAAAAAAAAAAAAAAAAAAAAAAAAAAAAAAAAAAAAAAAAAAAAAAAAAAAAAAAAAAAAAAAAAAAAAAAAAAAAAAAAAAAAAAAAAAAAAAAAAAAAAAAAAAAAAAAAAAAAAAAAAAAAAAAAAAAAAAAAAAAAAAAAAAAAAAAAAAAAAAAAAAAAAAAAAAAAAAAAAAAAAAAAAAAAAAAAAAAAAAAAAAAAAAAAAAAAAAAAAAAAAAAAAAAAAAAAAAAAAAAAAAAAAAAAAAAAAAAAAAAAAAAAAAAAAAAAAAAAAAAAAAAAAAAAAAAAAAAAAAAAAAAAAAAAAAAAAAAAAAAAAAAAAAAAAAAAAAAAAAAAAAAAAAAAAAAAAAAAAAAAAAAAAAAAAAAAAAAAAAAAAAAAAAAAAAAAAAAAAAAAAAAAAAAAAAAAAAAAAAAAAAAAAAAAAAAAAAAAAAAAAAAAAAAAAAAAAAAAAAAAAAAAAAAAAAAAAAAAAAAAAAAAAAAAAAAAAAAAAAAAAAAAAAAAAAAAAAAAAAAAAAAAAAAAAAAAAAAAAAAAAAAAAAAAAAAAAAAAAAAAAAAAAAAAAAAAAAAAAAAAAAAAAAAAAAAAAAAAAAAAAAAAAAAAAAAAAAAAAAAAAAAAAAAAAAAAAAAAAAAAAAAAAAAAAAAAAAAAAAAAAAAAAAAAAAAAAAAAAAAAAAAAAAAAAAAAAAAAAAAAAAAAAAAAAAAAAAAAAAAAAAAAAAAAAAAAAAAAAAAAAAAAAAAAAAAAAAAAAAAAAAAAAAAAAAAAAAAAAAAAAAAAAAAAAAAAAAAAAAAAAAAAAAAAAAAAAAAAAAAAAAAAAAAAAAAAAAAAAAAAAAAAAAAAAAAAAAAAAAAAAAAAAAAAAAAAAAAAAAAAAAAAAAAAAAAAAAAAAAAAAAAAAAAAAAAAAAAAAAAAAAAAAAAAAAAAAAAAAAAAAAAAAAAAAAAAAAAAAAAAAAAAAAAAAAAAAAAAAAAAAAAAAAAAAAAAAAAAAAAAAAAAAAAAAAAAAAAAAAAAAAAAAAAAAAAAAAAAAAAAAAAAAAAAAAAAAAAAAAAAAAAAAAAAAAAAAAAAAAAAAAAAAAAAAAAAAAAAAAAAAAAAAAAAAAAAAAAAAAAAAAAAAAAAAAAAAAAAAAAAAAAAAAAAAAAAAAAAAAAAAAAAAAAAAAAAAAAAAAAAAAAAAAAAAAAAAAAAAAAAAAAAAAAAAAAAAAAAAAAAAAAAAAAAAAAAAAAAAAAAAAAAAAAAAAAAAAAAAAAAAAAAAAAAAAAAAAAAAAAAAAAAAAAAAAAAAAAAAAAAAAAAAAAAAAAAAAAAAAAAAAAAAAAAAAAAAAAAAAAAAAAAAAAAAAAAAAAAAAAAAAAAAAAAAAAAAAAAAAAAAAAAAAAAAAAAAAAAAAAAAAAAAAAAAAAAAAAAAAAAAAAAAAAAAAAAAAAAAAAAAAAAAAAAAAAAAAAAAAAAAAAAAAAAAAAAAAAAAAAAAAAAAAAAAAAAAAAAAAAAAAAAAAAAAAAAAAAAAAAAAAAAAAAAAAAAAAAAAAAAAAAAAAAAAAAAAAAAAAAAAAAAAAAAAAAAAAAAAAAAAAAAAAAAAAAAAAAAAAAAAAAAAAAAAAAAAAAAAAAAAAAAAAAAAAAAAAAAAAAAAAAAAAAAAAAAAAAAAAAAAAAAAAAAAAAAAAAAAAAAAAAAAAAAAAAAAAAAAAAAAAAAAAAAAAAAAAAAAAAAAAAAAAAAAAAAAAAAAAAAAAAAAAAAAAAAAAAAAAAAAAAAAAAAAAAAAAAAAAAAAAAAAAAAAAAAAAAAAAAAAAAAAAAAAAAAAAAAAAAAAAAAAAAAAAAAAAAAAAAAAAAAAAAAAAAAAAAAAAAAAAAAAAAAAAAAAAAAAAAAAAAAAAAAAAAAAAAAAAAAAAAAAAAAAAAAAAAAAAAAAAAAAAAAAAAAAAAAAAAAAAAAAAAAAAAAAAAAAAAAAAAAAAAAAAAAAAAAAAAAAAAAAAAAAAAAAAAAAAAAAAAAAAAAAAAAAAAAAAAAAAAAAAAAAAAAAAAAAAAAAAAAAAAAAAAAAAAAAAAAAAAAAAAAAAAAAAAAAAAAAAAAAAAAAAAAAAAAAAAAAAAAAAAAAAAAAAAAAAAAAAAAAAAAAAAAAAAAAAAAAAAAAAAAAAAAAAAAAAAAAAAAAAAAAAAAAAAAAAAAAAAAAAAAAAAAAAAAAAAAAAAAAAAAAAAAAAAAAAAAAAAAAAAAAAAAAAAAAAAAAAAAAAAAAAAAAAAAAAAAAAAAAAAAAAAAAAAAAAAAAAAAAAAAAAAAAAAAAAAAAAAAAAAAAAAAAAAAAAAAAAAAAAAAAAAAAAAAAAAAAAAAAAAAAAAAAAAAAAAAAAAAAAAAAAAAAAAAAAAAAAAAAAAAAAAAAAAAAAAAAAAAAAAAAAAAAAAAAAAAAAAAAAAAAAAAAAAAAAAAAAAAAAAAAAAAAAAAAAAAAAAAAAAAAAAAAAAAAAAAAAAAAAAAAAAAAAAAAAAAAAAAAAAAAAAAAAAAAAAAAAAAAAAAAAAAAAAAAAAAAAAAAAAAAAAAAAAAAAAAAAAAAAAAAAAAAAAAAAAAAAAAAAAAAAAAAAAAAAAAAAAAAAAAAAAAAAAAAAAAAAAAAAAAAAAAAAAAAAAAAAAAAAAAAAAAAAAAAAAAAAAAAAAAAAAAAAAAAAAAAAAAAAAAAAAAAAAAAAAAAAAAAAAAAAAAAAAAAAAAAAAAAAAAAAAAAAAAAAAAAAAAAAAAAAAAAAAAAAAAAAAAAAAAAAAAAAAAAAAAAAAAAAAAAAAAAAAAAAAAAAAAAAAAAAAAAAAAAAAAAAAAAAAAAAAAAAAAAAAAAAAAAAAAAAAAAAAAAAAAAAAAAAAAAAAAAAAAAAAAAAAAAAAAAAAAAAAAAAAAAAAAAAAAAAAAAAAAAAAAAAAAAAAAAAAAAAAAAAAAAAAAAAAAAAAAAAAAAAAAAAAAAAAAAAAAAAAAAAAAAAAAAAAAAAAAAAAAAAAAAAAAAAAAAAAAAAAAAAAAAAAAAAAAAAAAAAAAAAAAAAAAAAAAAAAAAAAAAAAAAAAAAAAAAAAAAAAAAAAAAAAAAAAAAAAAAAAAAAAAAAAAAAAAAAAAAAAAAAAAAAAAAAAAAAAAAAAAAAAAAAAAAAAAAAAAAAAAAAAAAAAAAAAAAAAAAAAAAAAAAAAAAAAAAAAAAAAAAAAAAAAAAAAAAAAAAAAAAAAAAAAAAAAAAAAAAAAAAAAAAAAAAAAAAAAAAAAAAAAAAAAAAAAAAAAAAAAAAAAAAAAAAAAAAAAAAAAAAAAAAAAAAAAAAAAAAAAAAAAAAAAAAAAAAAAAAAAAAAAAAAAAAAAAAAAAAAAAAAAAAAAAAAAAAAAAAAAAAAAAAAAAAAAAAAAAAAAAAAAAAAAAAAAAAAAAAAAAAAAAAAAAAAAAAAAAAAAAAAAAAAAAAAAAAAAAAAAAAAAAAAAAAAAAAAAAAAAAAAAAAAAAAAAAAAAAAAAAAAAAAAAAAAAAAAAAAAAAAAAAAAAAAAAAAAAAAAAAAAAAAAAAAAAAAAAAAAAAAAAAAAAAAAAAAAAAAAAAAAAAAAAAAAAAAAAAAAAAAAAAAAAAAAAAAAAAAAAAAAAAAAAAAAAAAAAAAAAAAAAAAAAAAAAAAAAAAAAAAAAAAAAAAAAAAAAAAAAAAAAAAAAAAAAAAAAAAAAAAAAAAAAAAAAAAAAAAAAAAAAAAAAAAAAAAAAAAAAAAAAAAAAAAAAAAAAAAAAAAAAAAAAAAAAAAAAAAAAAAAAAAAAAAAAAAAAAAAAAAAAAAAAAAAAAAAAAAAAAAAAAAAAAAAAAAAAAAAAAAAAAAAAAAAAAAAAAAAAAAAAAAAAAAAAAAAAAAAAAAAAAAAAAAAAAAAAAAAAAAAAAAAAAAAAAAAAAAAAAAAAAAAAAAAAAAAAAAAAAAAAAAAAAAAAAAAAAAAAAAAAAAAAAAAAAAAAAAAAAAAAAAAAAAAAAAAAAAAAAAAAAAAAAAAAAAAAAAAAAAAAAAAAAAAAAAAAAAAAAAAAAAAAAAAAAAAAAAAAAAAAAAAAAAAAAAAAAAAAAAAAAAAAAAAAAAAAAAAAAAAAAAAAAAAAAAAAAAAAAAAAAAAAAAAAAAAAAAAAAAAAAAAAAAAAAAAAAAAAAAAAAAAAAAAAAAAAAAAAAAAAAAAAAAAAAAAAAAAAAAAAAAAAAAAAAAAAAAAAAAAAAAAAAAAAAAAAAAAAAAAAAAAAAAAAAAAAAAAAAAAAAAAAAAAAAAAAAAAAAAAAAAAAAAAAAAAAAAAAAAAAAAAAAAAAAAAAAAAAAAAAAAAAAAAAAAAAAAAAAAAAAAAAAAAAAAAAAAAAAAAAAAAAAAAAAAAAAAAAAAAAAAAAAAAAAAAAAAAAAAAAAAAAAAAAAAAAAAAAAAAAAAAAAAAAAAAAAAAAAAAAAAAAAAAAAAAAAAAAAAAAAAAAAAAAAAAAAAAAAAAAAAAAAAAAAAAAAAAAAAAAAAAAAAAAAAAAAAAAAAAAAAAAAAAAAAAAAAAAAAAAAAAAAAAAAAAAAAAAAAAAAAAAAAAAAAAAAAAAAAAAAAAAAAAAAAAAAAAAAAAAAAAAAAAAAAAAAAAAAAAAAAAAAAAAAAAAAAAAAAAAAAAAAAAAAAAAAAAAAAAAAAAAAAAAAAAAAAAAAAAAAAAAAAAAAAAAAAAAAAAAAAAAAAAAAAAAAAAAAAAAAAAAAAAAAAAAAAAAAAAAAAAAAAAAAAAAAAAAAAAAAAAAAAAAAAAAAAAAAAAAAAAAAAAAAAAAAAAAAAAAAAAAAAAAAAAAAAAAAAAAAAAAAAAAAAAAAAAAAAAAAAAAAAAAAAAAAAAAAAAAAAAAAAAAAAAAAAAAAAAAAAAAAAAAAAAAAAAAAAAAAAAAAAAAAAAAAAAAAAAAAAAAAAAAAAAAAAAAAAAAAAAAAAAAAAAAAAAAAAAAAAAAAAAAAAAAAAAAAAAAAAAAAAAAAAAAAAAAAAAAAAAAAAAAAAAAAAAAAAAAAAAAAAAAAAAAAAAAAAAAAAAAAAAAAAAAAAAAAAAAAAAAAAAAAAAAAAAAAAAAAAAAAAAAAAAAAAAAAAAAAAAAAAAAAAAAAAAAAAAAAAAAAAAAAAAAAAAAAAAAAAAAAAAAAAAAAAAAAAAAAAAAAAAAAAAAAAAAAAAAAAAAAAAAAAAAAAAAAAAAAAAAAAAAAAAAAAAAAAAAAAAAAAAAAAAAAAAAAAAAAAAAAAAAAAAAAAAAAAAAAAAAAAAAAAAAAAAAAAAAAAAAAAAAAAAAAAAAAAAAAAAAAAAAAAAAAAAAAAAAAAAAAAAAAAAAAAAAAAAAAAAAAAAAAAAAAAAAAAAAAAAAAAAAAAAAAAAAAAAAAAAAAAAAAAAAAAAAAAAAAAAAAAAAAAAAAAAAAAAAAAAAAAAAAAAAAAAAAAAAAAAAAAAAAAAAAAAAAAAAAAAAAAAAAAAAAAAAAAAAAAAAAAAAAAAAAAAAAAAAAAAAAAAAAAAAAAAAAAAAAAAAAAAAAAAAAAAAAAAAAAAAAAAAAAAAAAAAAAAAAAAAAAAAAAAAAAAAAAAAAAAAAAAAAAAAAAAAAAAAAAAAAAAAAAAAAAAAAAAAAAAAAAAAAAAAAAAAAAAAAAAAAAAAAAAAAAAAAAAAAAAAAAAAAAAAAAAAAAAAAAAAAAAAAAAAAAAAAAAAAAAAAAAAAAAAAAAAAAAAAAAAAAAAAAAAAAAAAAAAAAAAAAAAAAAAAAAAAAAAAAAAAAAAAAAAAAAAAAAAAAAAAAAAAAAAAAAAAAAAAAAAAAAAAAAAAAAAAAAAAAAAAAAAAAAAAAAAAAAAAAAAAAAAAAAAAAAAAAAAAAAAAAAAAAAAAAAAAAAAAAAAAAAAAAAAAAAAAAAAAAAAAAAAAAAAAAAAAAAAAAAAAAAAAAAAAAAAAAAAAAAAAAAAAAAAAAAAAAAAAAAAAAAAAAAAAAAAAAAAAAAAAAAAAAAAAAAAAAAAAAAAAAAAAAAAAAAAAAAAAAAAAAAAAAAAAAAAAAAAAAAAAAAAAAAAAAAAAAAAAAAAAAAAAAAAAAAAAAAAAAAAAAAAAAAAAAAAAAAAAAAAAAAAAAAAAAAAAAAAAAAAAAAAAAAAAAAAAAAAAAAAAAAAAAAAAAAAAAAAAAAAAAAAAAAAAAAAAAAAAAAAAAAAAAAAAAAAAAAAAAAAAAAAAAAAAAAAAAAAAAAAAAAAAAAAAAAAAAAAAAAAAAAAAAAAAAAAAAAAAAAAAAAAAAAAAAAAAAAAAAAAAAAAAAAAAAAAAAAAAAAAAAAAAAAAAAAAAAAAAAAAAAAAAAAAAAAAAAAAAAAAAAAAAAAAAAAAAAAAAAAAAAAAAAAAAAAAAAAAAAAAAAAAAAAAAAAAAAAAAAAAAAAAAAAAAAAAAAAAAAAAAAAAAAAAAAAAAAAAAAAAAAAAAAAAAAAAAAAAAAAAAAAAAAAAAAAAAAAAAAAAAAAAAAAAAAAAAAAAAAAAAAAAAAAAAAAAAAAAAAAAAAAAAAAAAAAAAAAAAAAAAAAAAAAAAAAAAAAAAAAAAAAAAAAAAAAAAAAAAAAAAAAAAAAAAAAAAAAAAAAAAAAAAAAAAAAAAAAAAAAAAAAAAAAAAAAAAAAAAAAAAAAAAAAAAAAAAAAAAAAAAAAAAAAAAAAAAAAAAAAAAAAAAAAAAAAAAAAAAAAAAAAAAAAAAAAAAAAAAAAAAAAAAAAAAAAAAAAAAAAAAAAAAAAAAAAAAAAAAAAAAAAAAAAAAAAAAAAAAAAAAAAAAAAAAAAAAAAAAAAAAAAAAAAAAAAAAAAAAAAAAAAAAAAAAAAAAAAAAAAAAAAAAAAAAAAAAAAAAAAAAAAAAAAAAAAAAAAAAAAAAAAAAAAAAAAAAAAAAAAAAAAAAAAAAAAAAAAAAAAAAAAAAAAAAAAAAAAAAAAAAAAAAAAAAAAAAAAAAAAAAAAAAAAAAAAAAAAAAAAAAAAAAAAAAAAAAAAAAAAAAAAAAAAAAAAAAAAAAAAAAAAAAAAAAAAAAAAAAAAAAAAAAAAAAAAAAAAAAAAAAAAAAAAAAAAAAAAAAAAAAAAAAAAAAAAAAAAAAAAAAAAAAAAAAAAAAAAAAAAAAAAAAAAAAAAAAAAAAAAAAAAAAAAAAAAAAAAAAAAAAAAAAAAAAAAAAAAAAAAAAAAAAAAAAAAAAAAAAAAAAAAAAAAAAAAAAAAAAAAAAAAAAAAAAAAAAAAAAAAAAAAAAAAAAAAAAAAAAAAAAAAAAAAAAAAAAAAAAAAAAAAAAAAAAAAAAAAAAAAAAAAAAAAAAAAAAAAAAAAAAAAAAAAAAAAAAAAAAAAAAAAAAAAAAAAAAAAAAAAAAAAAAAAAAAAAAAAAAAAAAAAAAAAAAAAAAAAAAAAAAAAAAAAAAAAAAAAAAAAAAAAAAAAAAAAAAAAAAAAAAAAAAAAAAAAAAAAAAAAAAAAAAAAAAAAAAAAAAAAAAAAAAAAAAAAAAAAAAAAAAAAAAAAAAAAAAAAAAAAAAAAAAAAAAAAAAAAAAAAAAAAAAAAAAAAAAAAAAAAAAAAAAAAAAAAAAAAAAAAAAAAAAAAAAAAAAAAAAAAAAAAAAAAAAAAAAAAAAAAAAAAAAAAAAAAAAAAAAAAAAAAAAAAAAAAAAAAAAAAAAAAAAAAAAAAAAAAAAAAAAAAAAAAAAAAAAAAAAAAAAAAAAAAAAAAAAAAAAAAAAAAAAAAAAAAAAAAAAAAAAAAAAAAAAAAAAAAAAAAAAAAAAAAAAAAAAAAAAAAAAAAAAAAAAAAAAAAAAAAAAAAAAAAAAAAAAAAAAAAAAAAAAAAAAAAAAAAAAAAAAAAAAAAAAAAAAAAAAAAAAAAAAAAAAAAAAAAAAAAAAAAAAAAAAAAAAAAAAAAAAAAAAAAAAAAAAAAAAAAAAAAAAAAAAAAAAAAAAAAAAAAAAAAAAAAAAAAAAAAAAAAAAAAAAAAAAAAAAAAAAAAAAAAAAAAAAAAAAAAAAAAAAAAAAAAAAAAAAAAAAAAAAAAAAAAAAAAAAAAAAAAAAAAAAAAAAAAAAAAAAAAAAAAAAAAAAAAAAAAAAAAAAAAAAAAAAAAAAAAAAAAAAAAAAAAAAAAAAAAAAAAAAAAAAAAAAAAAAAAAAAAAAAAAAAAAAAAAAAAAAAAAAAAAAAAAAAAAAAAAAAAAAAAAAAAAAAAAAAAAAAAAAAAAAAAAAAAAAAAAAAAAAAAAAAAAAAAAAAAAAAAAAAAAAAAAAAAAAAAAAAAAAAAAAAAAAAAAAAAAAAAAAAAAAAAAAAAAAAAAAAAAAAAAAAAAAAAAAAAAAAAAAAAAAAAAAAAAAAAAAAAAAAAAAAAAAAAAAAAAAAAAAAAAAAAAAAAAAAAAAAAAAAAAAAAAAAAAAAAAAAAAAAAAAAAAAAAAAAAAAAAAAAAAAAAAAAAAAAAAAAAAAAAAAAAAAAAAAAAAAAAAAAAAAAAAAAAAAAAAAAAAAAAAAAAAAAAAAAAAAAAAAAAAAAAAAAAAAAAAAAAAAAAAAAAAAAAAAAAAAAAAAAAAAAAAAAAAAAAAAAAAAAAAAAAAAAAAAAAAAAAAAAAAAAAAAAAAAAAAAAAAAAAAAAAAAAAAAAAAAAAAAAAAAAAAAAAAAAAAAAAAAAAAAAAAAAAAAAAAAAAAAAAAAAAAAAAAAAAAAAAAAAAAAAAAAAAAAAAAAAAAAAAAAAAAAAAAAAAAAAAAAAAAAAAAAAAAAAAAAAAAAAAAAAAAAAAAAAAAAAAAAAAAAAAAAAAAAAAAAAAAAAAAAAAAAAAAAAAAAAAAAAAAAAAAAAAAAAAAAAAAAAAAAAAAAAAAAAAAAAAAAAAAAAAAAAAAAAAAAAAAAAAAAAAAAAAAAAAAAAAAAAAAAAAAAAAAAAAAAAAAAAAAAAAAAAAAAAAAAAAAAAAAAAAAAAAAAAAAAAAAAAAAAAAAAAAAAAAAAAAAAAAAAAAAAAAAAAAAAAAAAAAAAAAAAAAAAAAAAAAAAAAAAAAAAAAAAAAAAAAAAAAAAAAAAAAAAAAAAAAAAAAAAAAAAAAAAAAAAAAAAAAAAAAAAAAAAAAAAAAAAAAAAAAAAAAAAAAAAAAAAAAAAAAAAAAAAAAAAAAAAAAAAAAAAAAAAAAAAAAAAAAAAAAAAAAAAAAAAAAAAAAAAAAAAAAAAAAAAAAAAAAAAAAAAAAAAAAAAAAAAAAAAAAAAAAAAAAAAAAAAAAAAAAAAAAAAAAAAAAAAAAAAAAAAAAAAAAAAAAAAAAAAAAAAAAAAAAAAAAAAAAAAAAAAAAAAAAAAAAAAAAAAAAAAAAAAAAAAAAAAAAAAAAAAAAAAAAAAAAAAAAAAAAAAAAAAAAAAAAAAAAAAAAAAAAAAAAAAAAAAAAAAAAAAAAAAAAAAAAAAAAAAAAAAAAAAAAAAAAAAAAAAAAAAAAAAAAAAAAAAAAAAAAAAAAAAAAAAAAAAAAAAAAAAAAAAAAAAAAAAAAAAAAAAAAAAAAAAAAAAAAAAAAAAAAAAAAAAAAAAAAAAAAAAAAAAAAAAAAAAAAAAAAAAAAAAAAAAAAAAAAAAAAAAAAAAAAAAAAAAAAAAAAAAAAAAAAAAAAAAAAAAAAAAAAAAAAAAAAAAAAAAAAAAAAAAAAAAAAAAAAAAAAAAAAAAAAAAAAAAAAAAAAAAAAAAAAAAAAAAAAAAAAAAAAAAAAAAAAAAAAAAAAAAAAAAAAAAAAAAAAAAAAAAAAAAAAAAAAAAAAAAAAAAAAAAAAAAAAAAAAAAAAAAAAAAAAAAAAAAAAAAAAAAAAAAAAAAAAAAAAAAAAAAAAAAAAAAAAAAAAAAAAAAAAAAAAAAAAAAAAAAAAAAAAAAAAAAAAAAAAAAAAAAAAAAAAAAAAAAAAAAAAAAAAAAAAAAAAAAAAAAAAAAAAAAAAAAAAAAAAAAAAAAAAAAAAAAAAAAAAAAAAAAAAAAAAAAAAAAAAAAAAAAAAAAAAAAAAAAAAAAAAAAAAAAAAAAAAAAAAAAAAAAAAAAAAAAAAAAAAAAAAAAAAAAAAAAAAAAAAAAAAAAAAAAAAAAAAAAAAAAAAAAAAAAAAAAAAAAAAAAAAAAAAAAAAAAAAAAAAAAAAAAAAAAAAAAAAAAAAAAAAAAAAAAAAAAAAAAAAAAAAAAAAAAAAAAAAAAAAAAAAAAAAAAAAAAAAAAAAAAAAAAAAAAAAAAAAAAAAAAAAAAAAAAAAAAAAAAAAAAAAAAAAAAAAAAAAAAAAAAAAAAAAAAAAAAAAAAAAAAAAAAAAAAAAAAAAAAAAAAAAAAAAAAAAAAAAAAAAAAAAAAAAAAAAAAAAAAAAAAAAAAAAAAAAAAAAAAAAAAAAAAAAAAAAAAAAAAAAAAAAAAAAAAAAAAAAAAAAAAAAAAAAAAAAAAAAAAAAAAAAAAAAAAAAAAAAAAAAAAAAAAAAAAAAAAAAAAAAAAAAAAAAAAAAAAAAAAAAAAAAAAAAAAAAAAAAAAAAAAAAAAAAAAAAAAAAAAAAAAAAAAAAAAAAAAAAAAAAAAAAAAAAAAAAAAAAAAAAAAAAAAAAAAAAAAAAAAAAAAAAAAAAAAAAAAAAAAAAAAAAAAAAAAAAAAAAAAAAAAAAAAAAAAAAAAAAAAAAAAAAAAAAAAAAAAAAAAAAAAAAAAAAAAAAAAAAAAAAAAAAAAAAAAAAAAAAAAAAAAAAAAAAAAAAAAAAAAAAAAAAAAAAAAAAAAAAAAAAAAAAAAAAAAAAAAAAAAAAAAAAAAAAAAAAAAAAAAAAAAAAAAAAAAAAAAAAAAAAAAAAAAAAAAAAAAAAAAAAAAAAAAAAAAAAAAAAAAAAAAAAAAAAAAAAAAAAAAAAAAAAAAAAAAAAAAAAAAAAAAAAAAAAAAAAAAAAAAAAAAAAAAAAAAAAAAAAAAAAAAAAAAAAAAAAAAAAAAAAAAAAAAAAAAAAAAAAAAAAAAAAAAAAAAAAAAAAAAAAAAAAAAAAAAAAAAAAAAAAAAAAAAAAAAAAAAAAAAAAAAAAAAAAAAAAAAAAAAAAAAAAAAAAAAAAAAAAAAAAAAAAAAAAAAAAAAAAAAAAAAAAAAAAAAAAAAAAAAAAAAAAAAAAAAAAAAAAAAAAAAAAAAAAAAAAAAAAAAAAAAAAAAAAAAAAAAAAAAAAAAAAAAAAAAAAAAAAAAAAAAAAAAAAAAAAAAAAAAAAAAAAAAAAAAAAAAAAAAAAAAAAAAAAAAAAAAAAAAAAAAAAAAAAAAAAAAAAAAAAAAAAAAAAAAAAAAAAAAAAAAAAAAAAAAAAAAAAAAAAAAAAAAAAAAAAAAAAAAAAAAAAAAAAAAAAAAAAAAAAAAAAAAAAAAAAAAAAAAAAAAAAAAAAAAAAAAAAAAAAAAAAAAAAAAAAAAAAAAAAAAAAAAAAAAAAAAAAAAAAAAAAAAAAAAAAAAAAAAAAAAAAAAAAAAAAAAAAAAAAAAAAAAAAAAAAAAAAAAAAAAAAAAAAAAAAAAAAAAAAAAAAAAAAAAAAAAAAAAAAAAAAAAAAAAAAAAAAAAAAAAAAAAAAAAAAAAAAAAAAAAAAAAAAAAAAAAAAAAAAAAAAAAAAAAAAAAAAAAAAAAAAAAAAAAAAAAAAAAAAAAAAAAAAAAAAAAAAAAAAAAAAAAAAAAAAAAAAAAAAAAAAAAAAAAAAAAAAAAAAAAAAAAAAAAAAAAAAAAAAAAAAAAAAAAAAAAAAAAAAAAAAAAAAAAAAAAAAAAAAAAAAAAAAAAAAAAAAAAAAAAAAAAAAAAAAAAAAAAAAAAAAAAAAAAAAAAAAAAAAAAAAAAAAAAAAAAAAAAAAAAAAAAAAAAAAAAAAAAAAAAAAAAAAAAAAAAAAAAAAAAAAAAAAAAAAAAAAAAAAAAAAAAAAAAAAAAAAAAAAAAAAAAAAAAAAAAAAAAAAAAAAAAAAAAAAAAAAAAAAAAAAAAAAAAAAAAAAAAAAAAAAAAAAAAAAAAAAAAAAAAAAAAAAAAAAAAAAAAAAAAAAAAAAAAAAAAAAAAAAAAAAAAAAAAAAAAAAAAAAAAAAAAAAAAAAAAAAAAAAAAAAAAAAAAAAAAAAAAAAAAAAAAAAAAAAAAAAAAAAAAAAAAAAAAAAAAAAAAAAAAAAAAAAAAAAAAAAAAAAAAAAAAAAAAAAAAAAAAAAAAAAAAAAAAAAAAAAAAAAAAAAAAAAAAAAAAAAAAAAAAAAAAAAAAAAAAAAAAAAAAAAAAAAAAAAAAAAAAAAAAAAAAAAAAAAAAAAAAAAAAAAAAAAAAAAAAAAAAAAAAAAAAAAAAAAAAAAAAAAAAAAAAAAAAAAAAAAAAAAAAAAAAAAAAAAAAAAAAAAAAAAAAAAAAAAAAAAAAAAAAAAAAAAAAAAAAAAAAAAAAAAAAAAAAAAAAAAAAAAAAAAAAAAAAAAAAAAAAAAAAAAAAAAAAAAAAAAAAAAAAAAAAAAAAAAAAAAAAAAAAAAAAAAAAAAAAAAAAAAAAAAAAAAAAAAAAAAAAAAAAAAAAAAAAAAAAAAAAAAAAAAAAAAAAAAAAAAAAAAAAAAAAAAAAAAAAAAAAAAAAAAAAAAAAAAAAAAAAAAAAAAAAAAAAAAAAAAAAAAAAAAAAAAAAAAAAAAAAAAAAAAAAAAAAAAAAAAAAAAAAAAAAAAAAAAAAAAAAAAAAAAAAAAAAAAAAAAAAAAAAAAAAAAAAAAAAAAAAAAAAAAAAAAAAAAAAAAAAAAAAAAAAAAAAAAAAAAAAAAAAAAAAAAAAAAAAAAAAAAAAAAAAAAAAAAAAAAAAAAAAAAAAAAAAAAAAAAAAAAAAAAAAAAAAAAAAAAAAAAAAAAAAAAAAAAAAAAAAAAAAAAAAAAAAAAAAAAAAAAAAAAAAAAAAAAAAAAAAAAAAAAAAAAAAAAAAAAAAAAAAAAAAAAAAAAAAAAAAAAAAAAAAAAAAAAAAAAAAAAAAAAAAAAAAAAAAAAAAAAAAAAAAAAAAAAAAAAAAAAAAAAAAAAAAAAAAAAAAAAAAAAAAAAAAAAAAAAAAAAAAAAAAAAAAAAAAAAAAAAAAAAAAAAAAAAAAAAAAAAAAAAAAAAAAAAAAAAAAAAAAAAAAAAAAAAAAAAAAAAAAAAAAAAAAAAAAAAAAAAAAAAAAAAAAAAAAAAAAAAAAAAAAAAAAAAAAAAAAAAAAAAAAAAAAAAAAAAAAAAAAAAAAAAAAAAAAAAAAAAAAAAAAAAAAAAAAAAAAAAAAAAAAAAAAAAAAAAAAAAAAAAAAAAAAAAAAAAAAAAAAAAAAAAAAAAAAAAAAAAAAAAAAAAAAAAAAAAAAAAAAAAAAAAAAAAAAAAAAAAAAAAAAAAAAAAAAAAAAAAAAAAAAAAAAAAAAAAAAAAAAAAAAAAAAAAAAAAAAAAAAAAAAAAAAAAAAAAAAAAAAAAAAAAAAAAAAAAAAAAAAAAAAAAAAAAAAAAAAAAAAAAAAAAAAAAAAAAAAAAAAAAAAAAAAAAAAAAAAAAAAAAAAAAAAAAAAAAAAAAAAAAAAAAAAAAAAAAAAAAAAAAAAAAAAAAAAAAAAAAAAAAAAAAAAAAAAAAAAAAAAAAAAAAAAAAAAAAAAAAAAAAAAAAAAAAAAAAAAAAAAAAAAAAAAAAAAAAAAAAAAAAAAAAAAAAAAAAAAAAAAAAAAAAAAAAAAAAAAAAAAAAAAAAAAAAAAAAAAAAAAAAAAAAAAAAAAAAAAAAAAAAAAAAAAAAAAAAAAAAAAAAAAAAAAAAAAAAAAAAAAAAAAAAAAAAAAAAAAAAAAAAAAAAAAAAAAAAAAAAAAAAAAAAAAAAAAAAAAAAAAAAAAAAAAAAAAAAAAAAAAAAAAAAAAAAAAAAAAAAAAAAAAAAAAAAAAAAAAAAAAAAAAAAAAAAAAAAAAAAAAAAAAAAAAAAAAAAAAAAAAAAAAAAAAAAAAAAAAAAAAAAAAAAAAAAAAAAAAAAAAAAAAAAAAAAAAAAAAAAAAAAAAAAAAAAAAAAAAAAAAAAAAAAAAAAAAAAAAAAAAAAAAAAAAAAAAAAAAAAAAAAAAAAAAAAAAAAAAAAAAAAAAAAAAAAAAAAAAAAAAAAAAAAAAAAAAAAAAAAAAAAAAAAAAAAAAAAAAAAAAAAAAAAAAAAAAAAAAAAAAAAAAAAAAAAAAAAAAAAAAAAAAAAAAAAAAAAAAAAAAAAAAAAAAAAAAAAAAAAAAAAAAAAAAAAAAAAAAAAAAAAAAAAAAAAAAAAAAAAAAAAAAAAAAAAAAAAAAAAAAAAAAAAAAAAAAAAAAAAAAAAAAAAAAAAAAAAAAAAAAAAAAAAAAAAAAAAAAAAAAAAAAAAAAAAAAAAAAAAAAAAAAAAAAAAAAAAAAAAAAAAAAAAAAAAAAAAAAAAAAAAAAAAAAAAAAAAAAAAAAAAAAAAAAAAAAAAAAAAAAAAAAAAAAAAAAAAAAAAAAAAAAAAAAAAAAAAAAAAAAAAAAAAAAAAAAAAAAAAAAAAAAAAAAAAAAAAAAAAAAAAAAAAAAAAAAAAAAAAAAAAAAAAAAAAAAAAAAAAAAAAAAAAAAAAAAAAAAAAAAAAAAAAAAAAAAAAAAAAAAAAAAAAAAAAAAAAAAAAAAAAAAAAAAAAAAAAAAAAAAAAAAAAAAAAAAAAAAAAAAAAAAAAAAAAAAAAAAAAAAAAAAAAAAAAAAAAAAAAAAAAAAAAAAAAAAAAAAAAAAAAAAAAAAAAAAAAAAAAAAAAAAAAAAAAAAAAAAAAAAAAAAAAAAAAAAAAAAAAAAAAAAAAAAAAAAAAAAAAAAAAAAAAAAAAAAAAAAAAAAAAAAAAAAAAAAAAAAAAAAAAAAAAAAAAAAAAAAAAAAAAAAAAAAAAAAAAAAAAAAAAAAAAAAAAAAAAAAAAAAAAAAAAAAAAAAAAAAAAAAAAAAAAAAAAAAAAAAAAAAAAAAAAAAAAAAAAAAAAAAAAAAAAAAAAAAAAAAAAAAAAAAAAAAAAAAAAAAAAAAAAAAAAAAAAAAAAAAAAAAAAAAAAAAAAAAAAAAAAAAAAAAAAAAAAAAAAAAAAAAAAAAAAAAAAAAAAAAAAAAAAAAAAAAAAAAAAAAAAAAAAAAAAAAAAAAAAAAAAAAAAAAAAAAAAAAAAAAAAAAAAAAAAAAAAAAAAAAAAAAAAAAAAAAAAAAAAAAAAAAAAAAAAAAAAAAAAAAAAAAAAAAAAAAAAAAAAAAAAAAAAAAAAAAAAAAAAAAAAAAAAAAAAAAAAAAAAAAAAAAAAAAAAAAAAAAAAAAAAAAAAAAAAAAAAAAAAAAAAAAAAAAAAAAAAAAAAAAAAAAAAAAAAAAAAAAAAAAAAAAAAAAAAAAAAAAAAAAAAAAAAAAAAAAAAAAAAAAAAAAAAAAAAAAAAAAAAAAAAAAAAAAAAAAAAAAAAAAAAAAAAAAAAAAAAAAAAAAAAAAAAAAAAAAAAAAAAAAAAAAAAAAAAAAAAAAAAAAAAAAAAAAAAAAAAAAAAAAAAAAAAAAAAAAAAAAAAAAAAAAAAAAAAAAAAAAAAAAAAAAAAAAAAAAAAAAAAAAAAAAAAAAAAAAAAAAAAAAAAAAAAAAAAAAAAAAAAAAAAAAAAAAAAAAAAAAAAAAAAAAAAAAAAAAAAAAAAAAAAAAAAAAAAAAAAAAAAAAAAAAAAAAAAAAAAAAAAAAAAAAAAAAAAAAAAAAAAAAAAAAAAAAAAAAAAAAAAAAAAAAAAAAAAAAAAAAAAAAAAAAAAAAAAAAAAAAAAAAAAAAAAAAAAAAAAAAAAAAAAAAAAAAAAAAAAAAAAAAAAAAAAAAAAAAAAAAAAAAAAAAAAAAAAAAAAAAAAAAAAAAAAAAAAAAAAAAAAAAAAAAAAAAAAAAAAAAAAAAAAAAAAAAAAAAAAAAAAAAAAAAAAAAAAAAAAAAAAAAAAAAAAAAAAAAAAAAAAAAAAAAAAAAAAAAAAAAAAAAAAAAAAAAAAAAAAAAAAAAAAAAAAAAAAAAAAAAAAAAAAAAAAAAAAAAAAAAAAAAAAAAAAAAAAAAAAAAAAAAAAAAAAAAAAAAAAAAAAAAAAAAAAAAAAAAAAAAAAAAAAAAAAAAAAAAAAAAAAAAAAAAAAAAAAAAAAAAAAAAAAAAAAAAAAAAAAAAAAAAAAAAAAAAAAAAAAAAAAAAAAAAAAAAAAAAAAAAAAAAAAAAAAAAAAAAAAAAAAAAAAAAAAAAAAAAAAAAAAAAAAAAAAAAAAAAAAAAAAAAAAAAAAAAAAAAAAAAAAAAAAAAAAAAAAAAAAAAAAAAAAAAAAAAAAAAAAAAAAAAAAAAAAAAAAAAAAAAAAAAAAAAAAAAAAAAAAAAAAAAAAAAAAAAAAAAAAAAAAAAAAAAAAAAAAAAAAAAAAAAAAAAAAAAAAAAAAAAAAAAAAAAAAAAAAAAAAAAAAAAAAAAAAAAAAAAAAAAAAAAAAAAAAAAAAAAAAAAAAAAAAAAAAAAAAAAAAAAAAAAAAAAAAAAAAAAAAAAAAAAAAAAAAAAAAAAAAAAAAAAAAAAAAAAAAAAAAAAAAAAAAAAAAAAAAAAAAAAAAAAAAAAAAAAAAAAAAAAAAAAAAAAAAAAAAAAAAAAAAAAAAAAAAAAAAAAAAAAAAAAAAAAAAAAAAAAAAAAAAAAAAAAAAAAAAAAAAAAAAAAAAAAAAAAAAAAAAAAAAAAAAAAAAAAAAAAAAAAAAAAAAAAAAAAAAAAAAAAAAAAAAAAAAAAAAAAAAAAAAAAAAAAAAAAAAAAAAAAAAAAAAAAAAAAAAAAAAAAAAAAAAAAAAAAAAAAAAAAAAAAAAAAAAAAAAAAAAAAAAAAAAAAAAAAAAAAAAAAAAAAAAAAAAAAAAAAAAAAAAAAAAAAAAAAAAAAAAAAAAAAAAAAAAAAAAAAAAAAAAAAAAAAAAAAAAAAAAAAAAAAAAAAAAAAAAAAAAAAAAAAAAAAAAAAAAAAAAAAAAAAAAAAAAAAAAAAAAAAAAAAAAAAAAAAAAAAAAAAAAAAAAAAAAAAAAAAAAAAAAAAAAAAAAAAAAAAAAAAAAAAAAAAAAAAAAAAAAAAAAAAAAAAAAAAAAAAAAAAAAAAAAAAAAAAAAAAAAAAAAAAAAAAAAAAAAAAAAAAAAAAAAAAAAAAAAAAAAAAAAAAAAAAAAAAAAAAAAAAAAAAAAAAAAAAAAAAAAAAAAAAAAAAAAAAAAAAAAAAAAAAAAAAAAAAAAAAAAAAAAAAAAAAAAAAAAAAAAAAAAAAAAAAAAAAAAAAAAAAAAAAAAAAAAAAAAAAAAAAAAAAAAAAAAAAAAAAAAAAAAAAAAAAAAAAAAAAAAAAAAAAAAAAAAAAAAAAAAAAAAAAAAAAAAAAAAAAAAAAAAAAAAAAAAAAAAAAAAAAAAAAAAAAAAAAAAAAAAAAAAAAAAAAAAAAAAAAAAAAAAAAAAAAAAAAAAAAAAAAAAAAAAAAAAAAAAAAAAAAAAAAAAAAAAAAAAAAAAAAAAAAAAAAAAAAAAAAAAAAAAAAAAAAAAAAAAAAAAAAAAAAAAAAAAAAAAAAAAAAAAAAAAAAAAAAAAAAAAAAAAAAAAAAAAAAAAAAAAAAAAAAAAAAAAAAAAAAAAAAAAAAAAAAAAAAAAAAAAAAAAAAAAAAAAAAAAAAAAAAAAAAAAAAAAAAAAAAAAAAAAAAAAAAAAAAAAAAAAAAAAAAAAAAAAAAAAAAAAAAAAAAAAAAAAAAAAAAAAAAAAAAAAAAAAAAAAAAAAAAAAAAAAAAAAAAAAAAAAAAAAAAAAAAAAAAAAAAAAAAAAAAAAAAAAAAAAAAAAAAAAAAAAAAAAAAAAAAAAAAAAAAAAAAAAAAAAAAAAAAAAAAAAAAAAAAAAAAAAAAAAAAAAAAAAAAAAAAAAAAAAAAAAAAAAAAAAAAAAAAAAAAAAAAAAAAAAAAAAAAAAAAAAAAAAAAAAAAAAAAAAAAAAAAAAAAAAAAAA==",
                    "dtype": "f8"
                  },
                  "x0": " ",
                  "xaxis": "x",
                  "y": {
                    "bdata": "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",
                    "dtype": "i1"
                  },
                  "y0": " ",
                  "yaxis": "y"
                },
                {
                  "alignmentgroup": "True",
                  "hovertemplate": "Estado del Cliente=%{x}<br>Tiempo de Permanencia (meses)=%{y}<extra></extra>",
                  "legendgroup": "1.0",
                  "marker": {
                    "color": "#d62728"
                  },
                  "name": "1.0",
                  "notched": false,
                  "offsetgroup": "1.0",
                  "orientation": "v",
                  "showlegend": true,
                  "type": "box",
                  "x": {
                    "bdata": "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",
                    "dtype": "f8"
                  },
                  "x0": " ",
                  "xaxis": "x",
                  "y": {
                    "bdata": "BA0DLQENBAECKAsBATEVJQcPAgwBAxkBFjoKBkYZDwQCBQEBDxwbAgkgAwUxAQgFPRoBFwIBRAgBAwUDKQY6HyQgARcRAzoCATslAzY8AQgBHDAXKSs3AQEFGwUBARIFASMeDzcJRQUbFgg+DjUUAQFAMRwKFRYXAg0QQy8VBwEBDwECQQ0uNQQECQwEATcJGAQBAkYCAQMJCRADARsCNAkBNSIUBQ0JCgU2BAIbATYLSAMDByMKOgcUDSABAUUSAQcFAQsBAQwpOAEBARABAQMRLw8ONhABAgJDAQomDQcHFwYMAjIOAQIfBAk3RBAMBAECFQMuNQ8BCj8BAQsEBwMVAwELHUYBOQEDCjgBCgocAQECOgwJBzQBIEYNBAgFDB4HAQwRQgMzIwIaBAECKgUKRBQhEgEOAyIMCSoFNgEELwEJAQEdEQEFAQEyAQEoKQsMAkUUFjAWCgENBwEBAQ4QAQEDAkYbAUIBEgsBAQ0HDCsYAiYhAxUFBwIGAR0eHwUDBA4ZAQQWJQ8NLgwHFg8vAQcBBwgPRgEEJzoUAgQOAzAKEAEmORAJHBgnJAUCBj4BBAgNKTsKGBYGAQwoBQYoKQofAgQGAQECJhFHPQEEJQcDBgQBDAQBBEI1AQQbCQcPBBpDCggBBh0eGQkLBBECAUABAgI/CgkCDwEYNRAFDQFHNAIYAikOASsRFAQBAQItKAEjP0gZFScECDgfAgEEBREBGAwEAgoRAQsCBAYoIDcCPgwhAQkwCgEDKQEBAQcFAT0BQwwbAgI8CDkGOA0GAQIFAQEBATFEMgM5JxEIGhIIAwEKBBNHJwElATsPBSMGHAMiASESHEMQDQQFCBkMFTcCQQE6DwEGOhAIAQ8BRgMlFiADDyEBHUEKAQgjDQ4JAR8HFgMBDwIFAQQkAg4GOgItASAqAQIBBgsVAQIBDwIQIEIBOQE4DQEHAQEyBAcfAwdCIxcEDAI2AQcBEUgBAQwGMgE1BBcaDAEYHB4qASUGCBkTBx0CJAEfCwgTCQM3FQEnAQoJFh8DBTQFCA0IKR8DLgoFAQIBAgQBBAYFAR4RBkQBAQgJEwcoAzUMAUQHEwIBAUMpAQYOEAMXAxkbARUCAwIuBQ09AioDNBAjAQsGASYCEDsCBwoQBQFGMREvCwoWKwMEAwYBAzgYGQEZOAEIBzkjAg8GDRAVEwIBAgEREgI3HwEWCzgCLAEaAQEEAQEECS4BLzsFATABJgEEAhcKHh0UDQgZAS4dASUBRgEBGAEgAQsBHQULCQEfOAMFAw8BCwQEByMCGwEyCjYHBgIBAQEDASc8ARI6AysBCxkBIQoKAQkCBAEJBAEWAQEBJxMCIQ0ICDkBIQREAQICJEcLMwQKAyAgAgIBCQ0zFCQBAQUiCDQgASUEARlFAws+BxNBPQMYBAICAgEiRQE2AQwVDDE3AQEBAgEQAwkcAxYPARYUARQUAQICGwwEMQUBAgUEDwEBCQk6AgQKRQMdAQECIRMCAQMFAQYBBhMBMg0DDS0PARIBEwoHARMECBIFIAEKLCgMGgkaBRQgAyUBHkgYBQUBEEIRBgQDARABAQEBCQMCAzEvDCsDGQkWAg8BBRIqPAIWIRYfA0UdNQEUOwgLCxQKAywKIwEBGAEBBAoxASIwKwYZCREBA0IFBy0BAS8CQwMHAQEmATUJHkcBEDIBGQIiLwEOAQEBBR4iPjUxASo4KwMoFC8LAQUOAQckGgU0LgE5AQM1Rj1EDRcNGi8TAQELBwESAQQYASUaAQ8kAQQUBRkDAQEuCAEBJzZBAgEUBh0CIxEBNjUBQQMYDwghAT0IGUYlKwENAQECAUEKAQIECAIBCRIBLwoBLgEWAwEpAQQCRwsFBAFAAgMDCREBEgcBDA8NBzIxKwQBCBABDgkTDCYYAiQqBT8GARAFAQIDAgIDBgEBAQIqDAwxAhgBCyVCBxYuJgEBAScDDgVDFzA7KwEgCDwPAkIBHx4KEgwEBRECEwESAQIIAQIBFgIBDwItAxwBAQEHHiYBAwkhKAMVGAEIAQ4PFyoPKAEBBgEJARsQCg0BQQEEAgQEJxcHARhCCy4cDAIGQxYKBBAOAwECITMBIBMBKwEOCgIHBAMBKwEBCCoZIhUCBQYWAhoKBEICAQUFEw0ZDw4VBxgBSAMFATEPIjMxGCxCRS8MBAIBBDwBAxAWJQcqHw0FGQEFMwQsEQkBAQYSCwwDCEgBIAEDAggjDTYSChwwAwcMHywZCQEvAgEzHQcEIgEDCwEGCQUMJwMSQxsDAQ09NkQFMhEPAQEHATEpESkKGgEOGBMHDQcOAQEEAgYBNAUdESIDBAENJgEBCAMCAQ0rCCE2GAwBBDAoEg8EDgEkAQcEIA8BKhIBARIBQBIBGgsIAhABBCY7HgMQKx4ZIANBDQEeNREqAR4FDgISJR0BAQECCQEEMwEnARYLIxEBJ0IDBgkDCikjExECAQgBAygBGg4JAQMPJhUJAQQW",
                    "dtype": "i1"
                  },
                  "y0": " ",
                  "yaxis": "y"
                }
              ],
              "layout": {
                "boxmode": "overlay",
                "legend": {
                  "title": {
                    "text": "Estado del Cliente"
                  },
                  "tracegroupgap": 0
                },
                "template": {
                  "data": {
                    "bar": [
                      {
                        "error_x": {
                          "color": "#2a3f5f"
                        },
                        "error_y": {
                          "color": "#2a3f5f"
                        },
                        "marker": {
                          "line": {
                            "color": "#E5ECF6",
                            "width": 0.5
                          },
                          "pattern": {
                            "fillmode": "overlay",
                            "size": 10,
                            "solidity": 0.2
                          }
                        },
                        "type": "bar"
                      }
                    ],
                    "barpolar": [
                      {
                        "marker": {
                          "line": {
                            "color": "#E5ECF6",
                            "width": 0.5
                          },
                          "pattern": {
                            "fillmode": "overlay",
                            "size": 10,
                            "solidity": 0.2
                          }
                        },
                        "type": "barpolar"
                      }
                    ],
                    "carpet": [
                      {
                        "aaxis": {
                          "endlinecolor": "#2a3f5f",
                          "gridcolor": "white",
                          "linecolor": "white",
                          "minorgridcolor": "white",
                          "startlinecolor": "#2a3f5f"
                        },
                        "baxis": {
                          "endlinecolor": "#2a3f5f",
                          "gridcolor": "white",
                          "linecolor": "white",
                          "minorgridcolor": "white",
                          "startlinecolor": "#2a3f5f"
                        },
                        "type": "carpet"
                      }
                    ],
                    "choropleth": [
                      {
                        "colorbar": {
                          "outlinewidth": 0,
                          "ticks": ""
                        },
                        "type": "choropleth"
                      }
                    ],
                    "contour": [
                      {
                        "colorbar": {
                          "outlinewidth": 0,
                          "ticks": ""
                        },
                        "colorscale": [
                          [
                            0,
                            "#0d0887"
                          ],
                          [
                            0.1111111111111111,
                            "#46039f"
                          ],
                          [
                            0.2222222222222222,
                            "#7201a8"
                          ],
                          [
                            0.3333333333333333,
                            "#9c179e"
                          ],
                          [
                            0.4444444444444444,
                            "#bd3786"
                          ],
                          [
                            0.5555555555555556,
                            "#d8576b"
                          ],
                          [
                            0.6666666666666666,
                            "#ed7953"
                          ],
                          [
                            0.7777777777777778,
                            "#fb9f3a"
                          ],
                          [
                            0.8888888888888888,
                            "#fdca26"
                          ],
                          [
                            1,
                            "#f0f921"
                          ]
                        ],
                        "type": "contour"
                      }
                    ],
                    "contourcarpet": [
                      {
                        "colorbar": {
                          "outlinewidth": 0,
                          "ticks": ""
                        },
                        "type": "contourcarpet"
                      }
                    ],
                    "heatmap": [
                      {
                        "colorbar": {
                          "outlinewidth": 0,
                          "ticks": ""
                        },
                        "colorscale": [
                          [
                            0,
                            "#0d0887"
                          ],
                          [
                            0.1111111111111111,
                            "#46039f"
                          ],
                          [
                            0.2222222222222222,
                            "#7201a8"
                          ],
                          [
                            0.3333333333333333,
                            "#9c179e"
                          ],
                          [
                            0.4444444444444444,
                            "#bd3786"
                          ],
                          [
                            0.5555555555555556,
                            "#d8576b"
                          ],
                          [
                            0.6666666666666666,
                            "#ed7953"
                          ],
                          [
                            0.7777777777777778,
                            "#fb9f3a"
                          ],
                          [
                            0.8888888888888888,
                            "#fdca26"
                          ],
                          [
                            1,
                            "#f0f921"
                          ]
                        ],
                        "type": "heatmap"
                      }
                    ],
                    "histogram": [
                      {
                        "marker": {
                          "pattern": {
                            "fillmode": "overlay",
                            "size": 10,
                            "solidity": 0.2
                          }
                        },
                        "type": "histogram"
                      }
                    ],
                    "histogram2d": [
                      {
                        "colorbar": {
                          "outlinewidth": 0,
                          "ticks": ""
                        },
                        "colorscale": [
                          [
                            0,
                            "#0d0887"
                          ],
                          [
                            0.1111111111111111,
                            "#46039f"
                          ],
                          [
                            0.2222222222222222,
                            "#7201a8"
                          ],
                          [
                            0.3333333333333333,
                            "#9c179e"
                          ],
                          [
                            0.4444444444444444,
                            "#bd3786"
                          ],
                          [
                            0.5555555555555556,
                            "#d8576b"
                          ],
                          [
                            0.6666666666666666,
                            "#ed7953"
                          ],
                          [
                            0.7777777777777778,
                            "#fb9f3a"
                          ],
                          [
                            0.8888888888888888,
                            "#fdca26"
                          ],
                          [
                            1,
                            "#f0f921"
                          ]
                        ],
                        "type": "histogram2d"
                      }
                    ],
                    "histogram2dcontour": [
                      {
                        "colorbar": {
                          "outlinewidth": 0,
                          "ticks": ""
                        },
                        "colorscale": [
                          [
                            0,
                            "#0d0887"
                          ],
                          [
                            0.1111111111111111,
                            "#46039f"
                          ],
                          [
                            0.2222222222222222,
                            "#7201a8"
                          ],
                          [
                            0.3333333333333333,
                            "#9c179e"
                          ],
                          [
                            0.4444444444444444,
                            "#bd3786"
                          ],
                          [
                            0.5555555555555556,
                            "#d8576b"
                          ],
                          [
                            0.6666666666666666,
                            "#ed7953"
                          ],
                          [
                            0.7777777777777778,
                            "#fb9f3a"
                          ],
                          [
                            0.8888888888888888,
                            "#fdca26"
                          ],
                          [
                            1,
                            "#f0f921"
                          ]
                        ],
                        "type": "histogram2dcontour"
                      }
                    ],
                    "mesh3d": [
                      {
                        "colorbar": {
                          "outlinewidth": 0,
                          "ticks": ""
                        },
                        "type": "mesh3d"
                      }
                    ],
                    "parcoords": [
                      {
                        "line": {
                          "colorbar": {
                            "outlinewidth": 0,
                            "ticks": ""
                          }
                        },
                        "type": "parcoords"
                      }
                    ],
                    "pie": [
                      {
                        "automargin": true,
                        "type": "pie"
                      }
                    ],
                    "scatter": [
                      {
                        "fillpattern": {
                          "fillmode": "overlay",
                          "size": 10,
                          "solidity": 0.2
                        },
                        "type": "scatter"
                      }
                    ],
                    "scatter3d": [
                      {
                        "line": {
                          "colorbar": {
                            "outlinewidth": 0,
                            "ticks": ""
                          }
                        },
                        "marker": {
                          "colorbar": {
                            "outlinewidth": 0,
                            "ticks": ""
                          }
                        },
                        "type": "scatter3d"
                      }
                    ],
                    "scattercarpet": [
                      {
                        "marker": {
                          "colorbar": {
                            "outlinewidth": 0,
                            "ticks": ""
                          }
                        },
                        "type": "scattercarpet"
                      }
                    ],
                    "scattergeo": [
                      {
                        "marker": {
                          "colorbar": {
                            "outlinewidth": 0,
                            "ticks": ""
                          }
                        },
                        "type": "scattergeo"
                      }
                    ],
                    "scattergl": [
                      {
                        "marker": {
                          "colorbar": {
                            "outlinewidth": 0,
                            "ticks": ""
                          }
                        },
                        "type": "scattergl"
                      }
                    ],
                    "scattermap": [
                      {
                        "marker": {
                          "colorbar": {
                            "outlinewidth": 0,
                            "ticks": ""
                          }
                        },
                        "type": "scattermap"
                      }
                    ],
                    "scattermapbox": [
                      {
                        "marker": {
                          "colorbar": {
                            "outlinewidth": 0,
                            "ticks": ""
                          }
                        },
                        "type": "scattermapbox"
                      }
                    ],
                    "scatterpolar": [
                      {
                        "marker": {
                          "colorbar": {
                            "outlinewidth": 0,
                            "ticks": ""
                          }
                        },
                        "type": "scatterpolar"
                      }
                    ],
                    "scatterpolargl": [
                      {
                        "marker": {
                          "colorbar": {
                            "outlinewidth": 0,
                            "ticks": ""
                          }
                        },
                        "type": "scatterpolargl"
                      }
                    ],
                    "scatterternary": [
                      {
                        "marker": {
                          "colorbar": {
                            "outlinewidth": 0,
                            "ticks": ""
                          }
                        },
                        "type": "scatterternary"
                      }
                    ],
                    "surface": [
                      {
                        "colorbar": {
                          "outlinewidth": 0,
                          "ticks": ""
                        },
                        "colorscale": [
                          [
                            0,
                            "#0d0887"
                          ],
                          [
                            0.1111111111111111,
                            "#46039f"
                          ],
                          [
                            0.2222222222222222,
                            "#7201a8"
                          ],
                          [
                            0.3333333333333333,
                            "#9c179e"
                          ],
                          [
                            0.4444444444444444,
                            "#bd3786"
                          ],
                          [
                            0.5555555555555556,
                            "#d8576b"
                          ],
                          [
                            0.6666666666666666,
                            "#ed7953"
                          ],
                          [
                            0.7777777777777778,
                            "#fb9f3a"
                          ],
                          [
                            0.8888888888888888,
                            "#fdca26"
                          ],
                          [
                            1,
                            "#f0f921"
                          ]
                        ],
                        "type": "surface"
                      }
                    ],
                    "table": [
                      {
                        "cells": {
                          "fill": {
                            "color": "#EBF0F8"
                          },
                          "line": {
                            "color": "white"
                          }
                        },
                        "header": {
                          "fill": {
                            "color": "#C8D4E3"
                          },
                          "line": {
                            "color": "white"
                          }
                        },
                        "type": "table"
                      }
                    ]
                  },
                  "layout": {
                    "annotationdefaults": {
                      "arrowcolor": "#2a3f5f",
                      "arrowhead": 0,
                      "arrowwidth": 1
                    },
                    "autotypenumbers": "strict",
                    "coloraxis": {
                      "colorbar": {
                        "outlinewidth": 0,
                        "ticks": ""
                      }
                    },
                    "colorscale": {
                      "diverging": [
                        [
                          0,
                          "#8e0152"
                        ],
                        [
                          0.1,
                          "#c51b7d"
                        ],
                        [
                          0.2,
                          "#de77ae"
                        ],
                        [
                          0.3,
                          "#f1b6da"
                        ],
                        [
                          0.4,
                          "#fde0ef"
                        ],
                        [
                          0.5,
                          "#f7f7f7"
                        ],
                        [
                          0.6,
                          "#e6f5d0"
                        ],
                        [
                          0.7,
                          "#b8e186"
                        ],
                        [
                          0.8,
                          "#7fbc41"
                        ],
                        [
                          0.9,
                          "#4d9221"
                        ],
                        [
                          1,
                          "#276419"
                        ]
                      ],
                      "sequential": [
                        [
                          0,
                          "#0d0887"
                        ],
                        [
                          0.1111111111111111,
                          "#46039f"
                        ],
                        [
                          0.2222222222222222,
                          "#7201a8"
                        ],
                        [
                          0.3333333333333333,
                          "#9c179e"
                        ],
                        [
                          0.4444444444444444,
                          "#bd3786"
                        ],
                        [
                          0.5555555555555556,
                          "#d8576b"
                        ],
                        [
                          0.6666666666666666,
                          "#ed7953"
                        ],
                        [
                          0.7777777777777778,
                          "#fb9f3a"
                        ],
                        [
                          0.8888888888888888,
                          "#fdca26"
                        ],
                        [
                          1,
                          "#f0f921"
                        ]
                      ],
                      "sequentialminus": [
                        [
                          0,
                          "#0d0887"
                        ],
                        [
                          0.1111111111111111,
                          "#46039f"
                        ],
                        [
                          0.2222222222222222,
                          "#7201a8"
                        ],
                        [
                          0.3333333333333333,
                          "#9c179e"
                        ],
                        [
                          0.4444444444444444,
                          "#bd3786"
                        ],
                        [
                          0.5555555555555556,
                          "#d8576b"
                        ],
                        [
                          0.6666666666666666,
                          "#ed7953"
                        ],
                        [
                          0.7777777777777778,
                          "#fb9f3a"
                        ],
                        [
                          0.8888888888888888,
                          "#fdca26"
                        ],
                        [
                          1,
                          "#f0f921"
                        ]
                      ]
                    },
                    "colorway": [
                      "#636efa",
                      "#EF553B",
                      "#00cc96",
                      "#ab63fa",
                      "#FFA15A",
                      "#19d3f3",
                      "#FF6692",
                      "#B6E880",
                      "#FF97FF",
                      "#FECB52"
                    ],
                    "font": {
                      "color": "#2a3f5f"
                    },
                    "geo": {
                      "bgcolor": "white",
                      "lakecolor": "white",
                      "landcolor": "#E5ECF6",
                      "showlakes": true,
                      "showland": true,
                      "subunitcolor": "white"
                    },
                    "hoverlabel": {
                      "align": "left"
                    },
                    "hovermode": "closest",
                    "mapbox": {
                      "style": "light"
                    },
                    "paper_bgcolor": "white",
                    "plot_bgcolor": "#E5ECF6",
                    "polar": {
                      "angularaxis": {
                        "gridcolor": "white",
                        "linecolor": "white",
                        "ticks": ""
                      },
                      "bgcolor": "#E5ECF6",
                      "radialaxis": {
                        "gridcolor": "white",
                        "linecolor": "white",
                        "ticks": ""
                      }
                    },
                    "scene": {
                      "xaxis": {
                        "backgroundcolor": "#E5ECF6",
                        "gridcolor": "white",
                        "gridwidth": 2,
                        "linecolor": "white",
                        "showbackground": true,
                        "ticks": "",
                        "zerolinecolor": "white"
                      },
                      "yaxis": {
                        "backgroundcolor": "#E5ECF6",
                        "gridcolor": "white",
                        "gridwidth": 2,
                        "linecolor": "white",
                        "showbackground": true,
                        "ticks": "",
                        "zerolinecolor": "white"
                      },
                      "zaxis": {
                        "backgroundcolor": "#E5ECF6",
                        "gridcolor": "white",
                        "gridwidth": 2,
                        "linecolor": "white",
                        "showbackground": true,
                        "ticks": "",
                        "zerolinecolor": "white"
                      }
                    },
                    "shapedefaults": {
                      "line": {
                        "color": "#2a3f5f"
                      }
                    },
                    "ternary": {
                      "aaxis": {
                        "gridcolor": "white",
                        "linecolor": "white",
                        "ticks": ""
                      },
                      "baxis": {
                        "gridcolor": "white",
                        "linecolor": "white",
                        "ticks": ""
                      },
                      "bgcolor": "#E5ECF6",
                      "caxis": {
                        "gridcolor": "white",
                        "linecolor": "white",
                        "ticks": ""
                      }
                    },
                    "title": {
                      "x": 0.05
                    },
                    "xaxis": {
                      "automargin": true,
                      "gridcolor": "white",
                      "linecolor": "white",
                      "ticks": "",
                      "title": {
                        "standoff": 15
                      },
                      "zerolinecolor": "white",
                      "zerolinewidth": 2
                    },
                    "yaxis": {
                      "automargin": true,
                      "gridcolor": "white",
                      "linecolor": "white",
                      "ticks": "",
                      "title": {
                        "standoff": 15
                      },
                      "zerolinecolor": "white",
                      "zerolinewidth": 2
                    }
                  }
                },
                "title": {
                  "text": "Relación entre Tiempo de Permanencia y Estado del Cliente"
                },
                "xaxis": {
                  "anchor": "y",
                  "categoryarray": [
                    0,
                    1,
                    null
                  ],
                  "categoryorder": "array",
                  "domain": [
                    0,
                    1
                  ],
                  "ticktext": [
                    "Cliente Activo",
                    "Cliente Perdido"
                  ],
                  "tickvals": [
                    0,
                    1
                  ],
                  "title": {
                    "text": "Estado del Cliente"
                  }
                },
                "yaxis": {
                  "anchor": "x",
                  "domain": [
                    0,
                    1
                  ],
                  "title": {
                    "text": "Tiempo de Permanencia (meses)"
                  }
                }
              }
            }
          },
          "metadata": {},
          "output_type": "display_data"
        }
      ],
      "source": [
        "\n",
        "# Creamos  gráfico de boxplot\n",
        "fig = px.box(df, x=\"Churn\", y=\"customer.tenure\", color=\"Churn\",\n",
        "             title=\"Relación entre Tiempo de Permanencia y Estado del Cliente\",\n",
        "             labels={\"Churn\": \"Estado del Cliente\", \"customer.tenure\": \"Tiempo de Permanencia (meses)\"},\n",
        "             color_discrete_map={0: \"#2ca02c\", 1: \"#d62728\"})\n",
        "\n",
        "# Mejorar etiquetas en eje X\n",
        "fig.update_xaxes(tickvals=[0, 1], ticktext=[\"Cliente Activo\", \"Cliente Perdido\"])\n",
        "\n",
        "\n",
        "fig.show()"
      ]
    },
    {
      "cell_type": "markdown",
      "metadata": {},
      "source": []
    },
    {
      "cell_type": "markdown",
      "metadata": {},
      "source": [
        "- Distribucion de la Perdida de clientes por genero\n",
        "- No se aprecia diferencia significativa en la tasa de abandono separado por genero"
      ]
    },
    {
      "cell_type": "code",
      "execution_count": 20,
      "metadata": {},
      "outputs": [
        {
          "data": {
            "image/png": "[encoded data removed]",
            "text/plain": [
              "<Figure size 640x480 with 1 Axes>"
            ]
          },
          "metadata": {},
          "output_type": "display_data"
        }
      ],
      "source": [
        "\n",
        "sns.countplot(data=df, x=\"customer.gender\", hue=\"Churn\")\n",
        "plt.title(\"Distribución de la Perdida de clientes por Género\")\n",
        "plt.xlabel(\"Género (0 = Femenino, 1 = Masculino)\")\n",
        "plt.ylabel(\"Cantidad de Clientes\")\n",
        "plt.show()"
      ]
    },
    {
      "cell_type": "markdown",
      "metadata": {},
      "source": []
    },
    {
      "cell_type": "markdown",
      "metadata": {},
      "source": [
        "- Graficamos perdida de clientes segun tipo de contrato\n",
        "- Observamos que los clientes con contratos más cortos tienen mayor probabilidad de que se pierdan (0.0 = Cliente activo, 1.0 = Cliente perdido)"
      ]
    },
    {
      "cell_type": "code",
      "execution_count": 21,
      "metadata": {},
      "outputs": [
        {
          "data": {
            "application/vnd.plotly.v1+json": {
              "config": {
                "plotlyServerURL": "https://plot.ly"
              },
              "data": [
                {
                  "alignmentgroup": "True",
                  "hovertemplate": "color=0.0<br>Tipo de Contrato=%{x}<br>Cantidad de Clientes=%{y}<extra></extra>",
                  "legendgroup": "0.0",
                  "marker": {
                    "color": "#00cc96",
                    "pattern": {
                      "shape": ""
                    }
                  },
                  "name": "0.0",
                  "offsetgroup": "0.0",
                  "orientation": "v",
                  "showlegend": true,
                  "textposition": "auto",
                  "type": "bar",
                  "x": [
                    "Mensual",
                    "Un año",
                    "Dos años"
                  ],
                  "xaxis": "x",
                  "y": {
                    "bdata": "rAgbBW8G",
                    "dtype": "i2"
                  },
                  "yaxis": "y"
                },
                {
                  "alignmentgroup": "True",
                  "hovertemplate": "color=1.0<br>Tipo de Contrato=%{x}<br>Cantidad de Clientes=%{y}<extra></extra>",
                  "legendgroup": "1.0",
                  "marker": {
                    "color": "#ab63fa",
                    "pattern": {
                      "shape": ""
                    }
                  },
                  "name": "1.0",
                  "offsetgroup": "1.0",
                  "orientation": "v",
                  "showlegend": true,
                  "textposition": "auto",
                  "type": "bar",
                  "x": [
                    "Mensual",
                    "Un año",
                    "Dos años"
                  ],
                  "xaxis": "x",
                  "y": {
                    "bdata": "dwamADAA",
                    "dtype": "i2"
                  },
                  "yaxis": "y"
                }
              ],
              "layout": {
                "barmode": "group",
                "legend": {
                  "title": {
                    "text": "color"
                  },
                  "tracegroupgap": 0
                },
                "margin": {
                  "b": 50,
                  "l": 50,
                  "r": 50,
                  "t": 50
                },
                "template": {
                  "data": {
                    "bar": [
                      {
                        "error_x": {
                          "color": "#2a3f5f"
                        },
                        "error_y": {
                          "color": "#2a3f5f"
                        },
                        "marker": {
                          "line": {
                            "color": "#E5ECF6",
                            "width": 0.5
                          },
                          "pattern": {
                            "fillmode": "overlay",
                            "size": 10,
                            "solidity": 0.2
                          }
                        },
                        "type": "bar"
                      }
                    ],
                    "barpolar": [
                      {
                        "marker": {
                          "line": {
                            "color": "#E5ECF6",
                            "width": 0.5
                          },
                          "pattern": {
                            "fillmode": "overlay",
                            "size": 10,
                            "solidity": 0.2
                          }
                        },
                        "type": "barpolar"
                      }
                    ],
                    "carpet": [
                      {
                        "aaxis": {
                          "endlinecolor": "#2a3f5f",
                          "gridcolor": "white",
                          "linecolor": "white",
                          "minorgridcolor": "white",
                          "startlinecolor": "#2a3f5f"
                        },
                        "baxis": {
                          "endlinecolor": "#2a3f5f",
                          "gridcolor": "white",
                          "linecolor": "white",
                          "minorgridcolor": "white",
                          "startlinecolor": "#2a3f5f"
                        },
                        "type": "carpet"
                      }
                    ],
                    "choropleth": [
                      {
                        "colorbar": {
                          "outlinewidth": 0,
                          "ticks": ""
                        },
                        "type": "choropleth"
                      }
                    ],
                    "contour": [
                      {
                        "colorbar": {
                          "outlinewidth": 0,
                          "ticks": ""
                        },
                        "colorscale": [
                          [
                            0,
                            "#0d0887"
                          ],
                          [
                            0.1111111111111111,
                            "#46039f"
                          ],
                          [
                            0.2222222222222222,
                            "#7201a8"
                          ],
                          [
                            0.3333333333333333,
                            "#9c179e"
                          ],
                          [
                            0.4444444444444444,
                            "#bd3786"
                          ],
                          [
                            0.5555555555555556,
                            "#d8576b"
                          ],
                          [
                            0.6666666666666666,
                            "#ed7953"
                          ],
                          [
                            0.7777777777777778,
                            "#fb9f3a"
                          ],
                          [
                            0.8888888888888888,
                            "#fdca26"
                          ],
                          [
                            1,
                            "#f0f921"
                          ]
                        ],
                        "type": "contour"
                      }
                    ],
                    "contourcarpet": [
                      {
                        "colorbar": {
                          "outlinewidth": 0,
                          "ticks": ""
                        },
                        "type": "contourcarpet"
                      }
                    ],
                    "heatmap": [
                      {
                        "colorbar": {
                          "outlinewidth": 0,
                          "ticks": ""
                        },
                        "colorscale": [
                          [
                            0,
                            "#0d0887"
                          ],
                          [
                            0.1111111111111111,
                            "#46039f"
                          ],
                          [
                            0.2222222222222222,
                            "#7201a8"
                          ],
                          [
                            0.3333333333333333,
                            "#9c179e"
                          ],
                          [
                            0.4444444444444444,
                            "#bd3786"
                          ],
                          [
                            0.5555555555555556,
                            "#d8576b"
                          ],
                          [
                            0.6666666666666666,
                            "#ed7953"
                          ],
                          [
                            0.7777777777777778,
                            "#fb9f3a"
                          ],
                          [
                            0.8888888888888888,
                            "#fdca26"
                          ],
                          [
                            1,
                            "#f0f921"
                          ]
                        ],
                        "type": "heatmap"
                      }
                    ],
                    "histogram": [
                      {
                        "marker": {
                          "pattern": {
                            "fillmode": "overlay",
                            "size": 10,
                            "solidity": 0.2
                          }
                        },
                        "type": "histogram"
                      }
                    ],
                    "histogram2d": [
                      {
                        "colorbar": {
                          "outlinewidth": 0,
                          "ticks": ""
                        },
                        "colorscale": [
                          [
                            0,
                            "#0d0887"
                          ],
                          [
                            0.1111111111111111,
                            "#46039f"
                          ],
                          [
                            0.2222222222222222,
                            "#7201a8"
                          ],
                          [
                            0.3333333333333333,
                            "#9c179e"
                          ],
                          [
                            0.4444444444444444,
                            "#bd3786"
                          ],
                          [
                            0.5555555555555556,
                            "#d8576b"
                          ],
                          [
                            0.6666666666666666,
                            "#ed7953"
                          ],
                          [
                            0.7777777777777778,
                            "#fb9f3a"
                          ],
                          [
                            0.8888888888888888,
                            "#fdca26"
                          ],
                          [
                            1,
                            "#f0f921"
                          ]
                        ],
                        "type": "histogram2d"
                      }
                    ],
                    "histogram2dcontour": [
                      {
                        "colorbar": {
                          "outlinewidth": 0,
                          "ticks": ""
                        },
                        "colorscale": [
                          [
                            0,
                            "#0d0887"
                          ],
                          [
                            0.1111111111111111,
                            "#46039f"
                          ],
                          [
                            0.2222222222222222,
                            "#7201a8"
                          ],
                          [
                            0.3333333333333333,
                            "#9c179e"
                          ],
                          [
                            0.4444444444444444,
                            "#bd3786"
                          ],
                          [
                            0.5555555555555556,
                            "#d8576b"
                          ],
                          [
                            0.6666666666666666,
                            "#ed7953"
                          ],
                          [
                            0.7777777777777778,
                            "#fb9f3a"
                          ],
                          [
                            0.8888888888888888,
                            "#fdca26"
                          ],
                          [
                            1,
                            "#f0f921"
                          ]
                        ],
                        "type": "histogram2dcontour"
                      }
                    ],
                    "mesh3d": [
                      {
                        "colorbar": {
                          "outlinewidth": 0,
                          "ticks": ""
                        },
                        "type": "mesh3d"
                      }
                    ],
                    "parcoords": [
                      {
                        "line": {
                          "colorbar": {
                            "outlinewidth": 0,
                            "ticks": ""
                          }
                        },
                        "type": "parcoords"
                      }
                    ],
                    "pie": [
                      {
                        "automargin": true,
                        "type": "pie"
                      }
                    ],
                    "scatter": [
                      {
                        "fillpattern": {
                          "fillmode": "overlay",
                          "size": 10,
                          "solidity": 0.2
                        },
                        "type": "scatter"
                      }
                    ],
                    "scatter3d": [
                      {
                        "line": {
                          "colorbar": {
                            "outlinewidth": 0,
                            "ticks": ""
                          }
                        },
                        "marker": {
                          "colorbar": {
                            "outlinewidth": 0,
                            "ticks": ""
                          }
                        },
                        "type": "scatter3d"
                      }
                    ],
                    "scattercarpet": [
                      {
                        "marker": {
                          "colorbar": {
                            "outlinewidth": 0,
                            "ticks": ""
                          }
                        },
                        "type": "scattercarpet"
                      }
                    ],
                    "scattergeo": [
                      {
                        "marker": {
                          "colorbar": {
                            "outlinewidth": 0,
                            "ticks": ""
                          }
                        },
                        "type": "scattergeo"
                      }
                    ],
                    "scattergl": [
                      {
                        "marker": {
                          "colorbar": {
                            "outlinewidth": 0,
                            "ticks": ""
                          }
                        },
                        "type": "scattergl"
                      }
                    ],
                    "scattermap": [
                      {
                        "marker": {
                          "colorbar": {
                            "outlinewidth": 0,
                            "ticks": ""
                          }
                        },
                        "type": "scattermap"
                      }
                    ],
                    "scattermapbox": [
                      {
                        "marker": {
                          "colorbar": {
                            "outlinewidth": 0,
                            "ticks": ""
                          }
                        },
                        "type": "scattermapbox"
                      }
                    ],
                    "scatterpolar": [
                      {
                        "marker": {
                          "colorbar": {
                            "outlinewidth": 0,
                            "ticks": ""
                          }
                        },
                        "type": "scatterpolar"
                      }
                    ],
                    "scatterpolargl": [
                      {
                        "marker": {
                          "colorbar": {
                            "outlinewidth": 0,
                            "ticks": ""
                          }
                        },
                        "type": "scatterpolargl"
                      }
                    ],
                    "scatterternary": [
                      {
                        "marker": {
                          "colorbar": {
                            "outlinewidth": 0,
                            "ticks": ""
                          }
                        },
                        "type": "scatterternary"
                      }
                    ],
                    "surface": [
                      {
                        "colorbar": {
                          "outlinewidth": 0,
                          "ticks": ""
                        },
                        "colorscale": [
                          [
                            0,
                            "#0d0887"
                          ],
                          [
                            0.1111111111111111,
                            "#46039f"
                          ],
                          [
                            0.2222222222222222,
                            "#7201a8"
                          ],
                          [
                            0.3333333333333333,
                            "#9c179e"
                          ],
                          [
                            0.4444444444444444,
                            "#bd3786"
                          ],
                          [
                            0.5555555555555556,
                            "#d8576b"
                          ],
                          [
                            0.6666666666666666,
                            "#ed7953"
                          ],
                          [
                            0.7777777777777778,
                            "#fb9f3a"
                          ],
                          [
                            0.8888888888888888,
                            "#fdca26"
                          ],
                          [
                            1,
                            "#f0f921"
                          ]
                        ],
                        "type": "surface"
                      }
                    ],
                    "table": [
                      {
                        "cells": {
                          "fill": {
                            "color": "#EBF0F8"
                          },
                          "line": {
                            "color": "white"
                          }
                        },
                        "header": {
                          "fill": {
                            "color": "#C8D4E3"
                          },
                          "line": {
                            "color": "white"
                          }
                        },
                        "type": "table"
                      }
                    ]
                  },
                  "layout": {
                    "annotationdefaults": {
                      "arrowcolor": "#2a3f5f",
                      "arrowhead": 0,
                      "arrowwidth": 1
                    },
                    "autotypenumbers": "strict",
                    "coloraxis": {
                      "colorbar": {
                        "outlinewidth": 0,
                        "ticks": ""
                      }
                    },
                    "colorscale": {
                      "diverging": [
                        [
                          0,
                          "#8e0152"
                        ],
                        [
                          0.1,
                          "#c51b7d"
                        ],
                        [
                          0.2,
                          "#de77ae"
                        ],
                        [
                          0.3,
                          "#f1b6da"
                        ],
                        [
                          0.4,
                          "#fde0ef"
                        ],
                        [
                          0.5,
                          "#f7f7f7"
                        ],
                        [
                          0.6,
                          "#e6f5d0"
                        ],
                        [
                          0.7,
                          "#b8e186"
                        ],
                        [
                          0.8,
                          "#7fbc41"
                        ],
                        [
                          0.9,
                          "#4d9221"
                        ],
                        [
                          1,
                          "#276419"
                        ]
                      ],
                      "sequential": [
                        [
                          0,
                          "#0d0887"
                        ],
                        [
                          0.1111111111111111,
                          "#46039f"
                        ],
                        [
                          0.2222222222222222,
                          "#7201a8"
                        ],
                        [
                          0.3333333333333333,
                          "#9c179e"
                        ],
                        [
                          0.4444444444444444,
                          "#bd3786"
                        ],
                        [
                          0.5555555555555556,
                          "#d8576b"
                        ],
                        [
                          0.6666666666666666,
                          "#ed7953"
                        ],
                        [
                          0.7777777777777778,
                          "#fb9f3a"
                        ],
                        [
                          0.8888888888888888,
                          "#fdca26"
                        ],
                        [
                          1,
                          "#f0f921"
                        ]
                      ],
                      "sequentialminus": [
                        [
                          0,
                          "#0d0887"
                        ],
                        [
                          0.1111111111111111,
                          "#46039f"
                        ],
                        [
                          0.2222222222222222,
                          "#7201a8"
                        ],
                        [
                          0.3333333333333333,
                          "#9c179e"
                        ],
                        [
                          0.4444444444444444,
                          "#bd3786"
                        ],
                        [
                          0.5555555555555556,
                          "#d8576b"
                        ],
                        [
                          0.6666666666666666,
                          "#ed7953"
                        ],
                        [
                          0.7777777777777778,
                          "#fb9f3a"
                        ],
                        [
                          0.8888888888888888,
                          "#fdca26"
                        ],
                        [
                          1,
                          "#f0f921"
                        ]
                      ]
                    },
                    "colorway": [
                      "#636efa",
                      "#EF553B",
                      "#00cc96",
                      "#ab63fa",
                      "#FFA15A",
                      "#19d3f3",
                      "#FF6692",
                      "#B6E880",
                      "#FF97FF",
                      "#FECB52"
                    ],
                    "font": {
                      "color": "#2a3f5f"
                    },
                    "geo": {
                      "bgcolor": "white",
                      "lakecolor": "white",
                      "landcolor": "#E5ECF6",
                      "showlakes": true,
                      "showland": true,
                      "subunitcolor": "white"
                    },
                    "hoverlabel": {
                      "align": "left"
                    },
                    "hovermode": "closest",
                    "mapbox": {
                      "style": "light"
                    },
                    "paper_bgcolor": "white",
                    "plot_bgcolor": "#E5ECF6",
                    "polar": {
                      "angularaxis": {
                        "gridcolor": "white",
                        "linecolor": "white",
                        "ticks": ""
                      },
                      "bgcolor": "#E5ECF6",
                      "radialaxis": {
                        "gridcolor": "white",
                        "linecolor": "white",
                        "ticks": ""
                      }
                    },
                    "scene": {
                      "xaxis": {
                        "backgroundcolor": "#E5ECF6",
                        "gridcolor": "white",
                        "gridwidth": 2,
                        "linecolor": "white",
                        "showbackground": true,
                        "ticks": "",
                        "zerolinecolor": "white"
                      },
                      "yaxis": {
                        "backgroundcolor": "#E5ECF6",
                        "gridcolor": "white",
                        "gridwidth": 2,
                        "linecolor": "white",
                        "showbackground": true,
                        "ticks": "",
                        "zerolinecolor": "white"
                      },
                      "zaxis": {
                        "backgroundcolor": "#E5ECF6",
                        "gridcolor": "white",
                        "gridwidth": 2,
                        "linecolor": "white",
                        "showbackground": true,
                        "ticks": "",
                        "zerolinecolor": "white"
                      }
                    },
                    "shapedefaults": {
                      "line": {
                        "color": "#2a3f5f"
                      }
                    },
                    "ternary": {
                      "aaxis": {
                        "gridcolor": "white",
                        "linecolor": "white",
                        "ticks": ""
                      },
                      "baxis": {
                        "gridcolor": "white",
                        "linecolor": "white",
                        "ticks": ""
                      },
                      "bgcolor": "#E5ECF6",
                      "caxis": {
                        "gridcolor": "white",
                        "linecolor": "white",
                        "ticks": ""
                      }
                    },
                    "title": {
                      "x": 0.05
                    },
                    "xaxis": {
                      "automargin": true,
                      "gridcolor": "white",
                      "linecolor": "white",
                      "ticks": "",
                      "title": {
                        "standoff": 15
                      },
                      "zerolinecolor": "white",
                      "zerolinewidth": 2
                    },
                    "yaxis": {
                      "automargin": true,
                      "gridcolor": "white",
                      "linecolor": "white",
                      "ticks": "",
                      "title": {
                        "standoff": 15
                      },
                      "zerolinecolor": "white",
                      "zerolinewidth": 2
                    }
                  }
                },
                "title": {
                  "text": "Pérdida de Cliente según Tipo de Contrato"
                },
                "xaxis": {
                  "anchor": "y",
                  "domain": [
                    0,
                    1
                  ],
                  "title": {
                    "text": "Tipo de Contrato"
                  }
                },
                "yaxis": {
                  "anchor": "x",
                  "domain": [
                    0,
                    1
                  ],
                  "title": {
                    "text": "Cantidad de Clientes"
                  }
                }
              }
            }
          },
          "metadata": {},
          "output_type": "display_data"
        }
      ],
      "source": [
        "# Contar clientes activos y perdidos por tipo de contrato\n",
        "df_grouped = df.groupby([\"account.Contract\", \"Churn\"]).size().reset_index(name=\"count\")\n",
        "\n",
        "# Mapeo de etiquetas de contrato para mejor legibilidad\n",
        "contract_labels = {0: \"Mensual\", 1: \"Un año\", 2: \"Dos años\"}\n",
        "df_grouped[\"account.Contract\"] = df_grouped[\"account.Contract\"].map(contract_labels)\n",
        "\n",
        "# Crear gráfico de barras interactivo\n",
        "fig = px.bar(df_grouped, x=\"account.Contract\", y=\"count\", color=df_grouped[\"Churn\"].astype(str),\n",
        "             title=\"Pérdida de Cliente según Tipo de Contrato\",\n",
        "             labels={\"account.Contract\": \"Tipo de Contrato\", \"count\": \"Cantidad de Clientes\"},\n",
        "             color_discrete_map={\"0\": \"#A7C7E7\", \"1\": \"#F4C2C2\"},\n",
        "             barmode=\"group\")\n",
        "\n",
        "# Ajustar tamaño y presentación para mejor apariencia\n",
        "fig.update_layout(margin=dict(l=50, r=50, t=50, b=50))\n",
        "\n",
        "# Mostrar gráfico interactivo\n",
        "fig.show()"
      ]
    },
    {
      "cell_type": "markdown",
      "metadata": {},
      "source": []
    },
    {
      "cell_type": "markdown",
      "metadata": {},
      "source": [
        "- Graficamos perdida de clientes según método de pago\n",
        "- El metodo de  pago \"Electronic check\" y en menor medida \"Mailed check\" presentan  mayor tasa de clientes perdidos\n",
        "- ( 0.0 = Clientes activos, 1.0 = clientes perdidos)"
      ]
    },
    {
      "cell_type": "code",
      "execution_count": 22,
      "metadata": {},
      "outputs": [
        {
          "data": {
            "application/vnd.plotly.v1+json": {
              "config": {
                "plotlyServerURL": "https://plot.ly"
              },
              "data": [
                {
                  "alignmentgroup": "True",
                  "hovertemplate": "color=0.0<br>Método de Pago=%{x}<br>Cantidad de Clientes=%{y}<extra></extra>",
                  "legendgroup": "0.0",
                  "marker": {
                    "color": "#00cc96",
                    "pattern": {
                      "shape": ""
                    }
                  },
                  "name": "0.0",
                  "offsetgroup": "0.0",
                  "orientation": "v",
                  "showlegend": true,
                  "textposition": "auto",
                  "type": "bar",
                  "x": [
                    "Bank transfer (automatic)",
                    "Credit card (automatic)",
                    "Electronic check",
                    "Mailed check"
                  ],
                  "xaxis": "x",
                  "y": {
                    "bdata": "BgUKBQ4FGAU=",
                    "dtype": "i2"
                  },
                  "yaxis": "y"
                },
                {
                  "alignmentgroup": "True",
                  "hovertemplate": "color=1.0<br>Método de Pago=%{x}<br>Cantidad de Clientes=%{y}<extra></extra>",
                  "legendgroup": "1.0",
                  "marker": {
                    "color": "#ab63fa",
                    "pattern": {
                      "shape": ""
                    }
                  },
                  "name": "1.0",
                  "offsetgroup": "1.0",
                  "orientation": "v",
                  "showlegend": true,
                  "textposition": "auto",
                  "type": "bar",
                  "x": [
                    "Bank transfer (automatic)",
                    "Credit card (automatic)",
                    "Electronic check",
                    "Mailed check"
                  ],
                  "xaxis": "x",
                  "y": {
                    "bdata": "AgHoAC8ENAE=",
                    "dtype": "i2"
                  },
                  "yaxis": "y"
                }
              ],
              "layout": {
                "barmode": "group",
                "legend": {
                  "title": {
                    "text": "color"
                  },
                  "tracegroupgap": 0
                },
                "margin": {
                  "b": 50,
                  "l": 50,
                  "r": 50,
                  "t": 50
                },
                "template": {
                  "data": {
                    "bar": [
                      {
                        "error_x": {
                          "color": "#2a3f5f"
                        },
                        "error_y": {
                          "color": "#2a3f5f"
                        },
                        "marker": {
                          "line": {
                            "color": "#E5ECF6",
                            "width": 0.5
                          },
                          "pattern": {
                            "fillmode": "overlay",
                            "size": 10,
                            "solidity": 0.2
                          }
                        },
                        "type": "bar"
                      }
                    ],
                    "barpolar": [
                      {
                        "marker": {
                          "line": {
                            "color": "#E5ECF6",
                            "width": 0.5
                          },
                          "pattern": {
                            "fillmode": "overlay",
                            "size": 10,
                            "solidity": 0.2
                          }
                        },
                        "type": "barpolar"
                      }
                    ],
                    "carpet": [
                      {
                        "aaxis": {
                          "endlinecolor": "#2a3f5f",
                          "gridcolor": "white",
                          "linecolor": "white",
                          "minorgridcolor": "white",
                          "startlinecolor": "#2a3f5f"
                        },
                        "baxis": {
                          "endlinecolor": "#2a3f5f",
                          "gridcolor": "white",
                          "linecolor": "white",
                          "minorgridcolor": "white",
                          "startlinecolor": "#2a3f5f"
                        },
                        "type": "carpet"
                      }
                    ],
                    "choropleth": [
                      {
                        "colorbar": {
                          "outlinewidth": 0,
                          "ticks": ""
                        },
                        "type": "choropleth"
                      }
                    ],
                    "contour": [
                      {
                        "colorbar": {
                          "outlinewidth": 0,
                          "ticks": ""
                        },
                        "colorscale": [
                          [
                            0,
                            "#0d0887"
                          ],
                          [
                            0.1111111111111111,
                            "#46039f"
                          ],
                          [
                            0.2222222222222222,
                            "#7201a8"
                          ],
                          [
                            0.3333333333333333,
                            "#9c179e"
                          ],
                          [
                            0.4444444444444444,
                            "#bd3786"
                          ],
                          [
                            0.5555555555555556,
                            "#d8576b"
                          ],
                          [
                            0.6666666666666666,
                            "#ed7953"
                          ],
                          [
                            0.7777777777777778,
                            "#fb9f3a"
                          ],
                          [
                            0.8888888888888888,
                            "#fdca26"
                          ],
                          [
                            1,
                            "#f0f921"
                          ]
                        ],
                        "type": "contour"
                      }
                    ],
                    "contourcarpet": [
                      {
                        "colorbar": {
                          "outlinewidth": 0,
                          "ticks": ""
                        },
                        "type": "contourcarpet"
                      }
                    ],
                    "heatmap": [
                      {
                        "colorbar": {
                          "outlinewidth": 0,
                          "ticks": ""
                        },
                        "colorscale": [
                          [
                            0,
                            "#0d0887"
                          ],
                          [
                            0.1111111111111111,
                            "#46039f"
                          ],
                          [
                            0.2222222222222222,
                            "#7201a8"
                          ],
                          [
                            0.3333333333333333,
                            "#9c179e"
                          ],
                          [
                            0.4444444444444444,
                            "#bd3786"
                          ],
                          [
                            0.5555555555555556,
                            "#d8576b"
                          ],
                          [
                            0.6666666666666666,
                            "#ed7953"
                          ],
                          [
                            0.7777777777777778,
                            "#fb9f3a"
                          ],
                          [
                            0.8888888888888888,
                            "#fdca26"
                          ],
                          [
                            1,
                            "#f0f921"
                          ]
                        ],
                        "type": "heatmap"
                      }
                    ],
                    "histogram": [
                      {
                        "marker": {
                          "pattern": {
                            "fillmode": "overlay",
                            "size": 10,
                            "solidity": 0.2
                          }
                        },
                        "type": "histogram"
                      }
                    ],
                    "histogram2d": [
                      {
                        "colorbar": {
                          "outlinewidth": 0,
                          "ticks": ""
                        },
                        "colorscale": [
                          [
                            0,
                            "#0d0887"
                          ],
                          [
                            0.1111111111111111,
                            "#46039f"
                          ],
                          [
                            0.2222222222222222,
                            "#7201a8"
                          ],
                          [
                            0.3333333333333333,
                            "#9c179e"
                          ],
                          [
                            0.4444444444444444,
                            "#bd3786"
                          ],
                          [
                            0.5555555555555556,
                            "#d8576b"
                          ],
                          [
                            0.6666666666666666,
                            "#ed7953"
                          ],
                          [
                            0.7777777777777778,
                            "#fb9f3a"
                          ],
                          [
                            0.8888888888888888,
                            "#fdca26"
                          ],
                          [
                            1,
                            "#f0f921"
                          ]
                        ],
                        "type": "histogram2d"
                      }
                    ],
                    "histogram2dcontour": [
                      {
                        "colorbar": {
                          "outlinewidth": 0,
                          "ticks": ""
                        },
                        "colorscale": [
                          [
                            0,
                            "#0d0887"
                          ],
                          [
                            0.1111111111111111,
                            "#46039f"
                          ],
                          [
                            0.2222222222222222,
                            "#7201a8"
                          ],
                          [
                            0.3333333333333333,
                            "#9c179e"
                          ],
                          [
                            0.4444444444444444,
                            "#bd3786"
                          ],
                          [
                            0.5555555555555556,
                            "#d8576b"
                          ],
                          [
                            0.6666666666666666,
                            "#ed7953"
                          ],
                          [
                            0.7777777777777778,
                            "#fb9f3a"
                          ],
                          [
                            0.8888888888888888,
                            "#fdca26"
                          ],
                          [
                            1,
                            "#f0f921"
                          ]
                        ],
                        "type": "histogram2dcontour"
                      }
                    ],
                    "mesh3d": [
                      {
                        "colorbar": {
                          "outlinewidth": 0,
                          "ticks": ""
                        },
                        "type": "mesh3d"
                      }
                    ],
                    "parcoords": [
                      {
                        "line": {
                          "colorbar": {
                            "outlinewidth": 0,
                            "ticks": ""
                          }
                        },
                        "type": "parcoords"
                      }
                    ],
                    "pie": [
                      {
                        "automargin": true,
                        "type": "pie"
                      }
                    ],
                    "scatter": [
                      {
                        "fillpattern": {
                          "fillmode": "overlay",
                          "size": 10,
                          "solidity": 0.2
                        },
                        "type": "scatter"
                      }
                    ],
                    "scatter3d": [
                      {
                        "line": {
                          "colorbar": {
                            "outlinewidth": 0,
                            "ticks": ""
                          }
                        },
                        "marker": {
                          "colorbar": {
                            "outlinewidth": 0,
                            "ticks": ""
                          }
                        },
                        "type": "scatter3d"
                      }
                    ],
                    "scattercarpet": [
                      {
                        "marker": {
                          "colorbar": {
                            "outlinewidth": 0,
                            "ticks": ""
                          }
                        },
                        "type": "scattercarpet"
                      }
                    ],
                    "scattergeo": [
                      {
                        "marker": {
                          "colorbar": {
                            "outlinewidth": 0,
                            "ticks": ""
                          }
                        },
                        "type": "scattergeo"
                      }
                    ],
                    "scattergl": [
                      {
                        "marker": {
                          "colorbar": {
                            "outlinewidth": 0,
                            "ticks": ""
                          }
                        },
                        "type": "scattergl"
                      }
                    ],
                    "scattermap": [
                      {
                        "marker": {
                          "colorbar": {
                            "outlinewidth": 0,
                            "ticks": ""
                          }
                        },
                        "type": "scattermap"
                      }
                    ],
                    "scattermapbox": [
                      {
                        "marker": {
                          "colorbar": {
                            "outlinewidth": 0,
                            "ticks": ""
                          }
                        },
                        "type": "scattermapbox"
                      }
                    ],
                    "scatterpolar": [
                      {
                        "marker": {
                          "colorbar": {
                            "outlinewidth": 0,
                            "ticks": ""
                          }
                        },
                        "type": "scatterpolar"
                      }
                    ],
                    "scatterpolargl": [
                      {
                        "marker": {
                          "colorbar": {
                            "outlinewidth": 0,
                            "ticks": ""
                          }
                        },
                        "type": "scatterpolargl"
                      }
                    ],
                    "scatterternary": [
                      {
                        "marker": {
                          "colorbar": {
                            "outlinewidth": 0,
                            "ticks": ""
                          }
                        },
                        "type": "scatterternary"
                      }
                    ],
                    "surface": [
                      {
                        "colorbar": {
                          "outlinewidth": 0,
                          "ticks": ""
                        },
                        "colorscale": [
                          [
                            0,
                            "#0d0887"
                          ],
                          [
                            0.1111111111111111,
                            "#46039f"
                          ],
                          [
                            0.2222222222222222,
                            "#7201a8"
                          ],
                          [
                            0.3333333333333333,
                            "#9c179e"
                          ],
                          [
                            0.4444444444444444,
                            "#bd3786"
                          ],
                          [
                            0.5555555555555556,
                            "#d8576b"
                          ],
                          [
                            0.6666666666666666,
                            "#ed7953"
                          ],
                          [
                            0.7777777777777778,
                            "#fb9f3a"
                          ],
                          [
                            0.8888888888888888,
                            "#fdca26"
                          ],
                          [
                            1,
                            "#f0f921"
                          ]
                        ],
                        "type": "surface"
                      }
                    ],
                    "table": [
                      {
                        "cells": {
                          "fill": {
                            "color": "#EBF0F8"
                          },
                          "line": {
                            "color": "white"
                          }
                        },
                        "header": {
                          "fill": {
                            "color": "#C8D4E3"
                          },
                          "line": {
                            "color": "white"
                          }
                        },
                        "type": "table"
                      }
                    ]
                  },
                  "layout": {
                    "annotationdefaults": {
                      "arrowcolor": "#2a3f5f",
                      "arrowhead": 0,
                      "arrowwidth": 1
                    },
                    "autotypenumbers": "strict",
                    "coloraxis": {
                      "colorbar": {
                        "outlinewidth": 0,
                        "ticks": ""
                      }
                    },
                    "colorscale": {
                      "diverging": [
                        [
                          0,
                          "#8e0152"
                        ],
                        [
                          0.1,
                          "#c51b7d"
                        ],
                        [
                          0.2,
                          "#de77ae"
                        ],
                        [
                          0.3,
                          "#f1b6da"
                        ],
                        [
                          0.4,
                          "#fde0ef"
                        ],
                        [
                          0.5,
                          "#f7f7f7"
                        ],
                        [
                          0.6,
                          "#e6f5d0"
                        ],
                        [
                          0.7,
                          "#b8e186"
                        ],
                        [
                          0.8,
                          "#7fbc41"
                        ],
                        [
                          0.9,
                          "#4d9221"
                        ],
                        [
                          1,
                          "#276419"
                        ]
                      ],
                      "sequential": [
                        [
                          0,
                          "#0d0887"
                        ],
                        [
                          0.1111111111111111,
                          "#46039f"
                        ],
                        [
                          0.2222222222222222,
                          "#7201a8"
                        ],
                        [
                          0.3333333333333333,
                          "#9c179e"
                        ],
                        [
                          0.4444444444444444,
                          "#bd3786"
                        ],
                        [
                          0.5555555555555556,
                          "#d8576b"
                        ],
                        [
                          0.6666666666666666,
                          "#ed7953"
                        ],
                        [
                          0.7777777777777778,
                          "#fb9f3a"
                        ],
                        [
                          0.8888888888888888,
                          "#fdca26"
                        ],
                        [
                          1,
                          "#f0f921"
                        ]
                      ],
                      "sequentialminus": [
                        [
                          0,
                          "#0d0887"
                        ],
                        [
                          0.1111111111111111,
                          "#46039f"
                        ],
                        [
                          0.2222222222222222,
                          "#7201a8"
                        ],
                        [
                          0.3333333333333333,
                          "#9c179e"
                        ],
                        [
                          0.4444444444444444,
                          "#bd3786"
                        ],
                        [
                          0.5555555555555556,
                          "#d8576b"
                        ],
                        [
                          0.6666666666666666,
                          "#ed7953"
                        ],
                        [
                          0.7777777777777778,
                          "#fb9f3a"
                        ],
                        [
                          0.8888888888888888,
                          "#fdca26"
                        ],
                        [
                          1,
                          "#f0f921"
                        ]
                      ]
                    },
                    "colorway": [
                      "#636efa",
                      "#EF553B",
                      "#00cc96",
                      "#ab63fa",
                      "#FFA15A",
                      "#19d3f3",
                      "#FF6692",
                      "#B6E880",
                      "#FF97FF",
                      "#FECB52"
                    ],
                    "font": {
                      "color": "#2a3f5f"
                    },
                    "geo": {
                      "bgcolor": "white",
                      "lakecolor": "white",
                      "landcolor": "#E5ECF6",
                      "showlakes": true,
                      "showland": true,
                      "subunitcolor": "white"
                    },
                    "hoverlabel": {
                      "align": "left"
                    },
                    "hovermode": "closest",
                    "mapbox": {
                      "style": "light"
                    },
                    "paper_bgcolor": "white",
                    "plot_bgcolor": "#E5ECF6",
                    "polar": {
                      "angularaxis": {
                        "gridcolor": "white",
                        "linecolor": "white",
                        "ticks": ""
                      },
                      "bgcolor": "#E5ECF6",
                      "radialaxis": {
                        "gridcolor": "white",
                        "linecolor": "white",
                        "ticks": ""
                      }
                    },
                    "scene": {
                      "xaxis": {
                        "backgroundcolor": "#E5ECF6",
                        "gridcolor": "white",
                        "gridwidth": 2,
                        "linecolor": "white",
                        "showbackground": true,
                        "ticks": "",
                        "zerolinecolor": "white"
                      },
                      "yaxis": {
                        "backgroundcolor": "#E5ECF6",
                        "gridcolor": "white",
                        "gridwidth": 2,
                        "linecolor": "white",
                        "showbackground": true,
                        "ticks": "",
                        "zerolinecolor": "white"
                      },
                      "zaxis": {
                        "backgroundcolor": "#E5ECF6",
                        "gridcolor": "white",
                        "gridwidth": 2,
                        "linecolor": "white",
                        "showbackground": true,
                        "ticks": "",
                        "zerolinecolor": "white"
                      }
                    },
                    "shapedefaults": {
                      "line": {
                        "color": "#2a3f5f"
                      }
                    },
                    "ternary": {
                      "aaxis": {
                        "gridcolor": "white",
                        "linecolor": "white",
                        "ticks": ""
                      },
                      "baxis": {
                        "gridcolor": "white",
                        "linecolor": "white",
                        "ticks": ""
                      },
                      "bgcolor": "#E5ECF6",
                      "caxis": {
                        "gridcolor": "white",
                        "linecolor": "white",
                        "ticks": ""
                      }
                    },
                    "title": {
                      "x": 0.05
                    },
                    "xaxis": {
                      "automargin": true,
                      "gridcolor": "white",
                      "linecolor": "white",
                      "ticks": "",
                      "title": {
                        "standoff": 15
                      },
                      "zerolinecolor": "white",
                      "zerolinewidth": 2
                    },
                    "yaxis": {
                      "automargin": true,
                      "gridcolor": "white",
                      "linecolor": "white",
                      "ticks": "",
                      "title": {
                        "standoff": 15
                      },
                      "zerolinecolor": "white",
                      "zerolinewidth": 2
                    }
                  }
                },
                "title": {
                  "text": "Pérdida de Clientes según Método de Pago"
                },
                "xaxis": {
                  "anchor": "y",
                  "domain": [
                    0,
                    1
                  ],
                  "tickangle": 45,
                  "title": {
                    "text": "Método de Pago"
                  }
                },
                "yaxis": {
                  "anchor": "x",
                  "domain": [
                    0,
                    1
                  ],
                  "title": {
                    "text": "Cantidad de Clientes"
                  }
                }
              }
            }
          },
          "metadata": {},
          "output_type": "display_data"
        }
      ],
      "source": [
        "# Contar clientes activos y perdidos por método de pago\n",
        "df_grouped = df.groupby([\"account.PaymentMethod\", \"Churn\"]).size().reset_index(name=\"count\")\n",
        "\n",
        "# Crear gráfico de barras interactivo con etiquetas mejoradas\n",
        "fig = px.bar(df_grouped, x=\"account.PaymentMethod\", y=\"count\", color=df_grouped[\"Churn\"].astype(str),\n",
        "             title=\"Pérdida de Clientes según Método de Pago\",\n",
        "             labels={\"account.PaymentMethod\": \"Método de Pago\", \"count\": \"Cantidad de Clientes\"},\n",
        "             color_discrete_map={\"0\": \"#A7C7E7\", \"1\": \"#F4C2C2\"},\n",
        "             barmode=\"group\")\n",
        "\n",
        "# Rotación de etiquetas en eje X para mejorar la legibilidad\n",
        "fig.update_xaxes(title_text=\"Método de Pago\", tickangle=45)\n",
        "\n",
        "# Ajustar márgenes para mejor presentación\n",
        "fig.update_layout(margin=dict(l=50, r=50, t=50, b=50))\n",
        "\n",
        "# Mostrar gráfico interactivo\n",
        "fig.show()"
      ]
    },
    {
      "cell_type": "markdown",
      "metadata": {},
      "source": []
    },
    {
      "cell_type": "code",
      "execution_count": 23,
      "metadata": {},
      "outputs": [
        {
          "name": "stdout",
          "output_type": "stream",
          "text": [
            "   account.Charges.Monthly  account.DailyCharges\n",
            "0                     65.6              2.186667\n",
            "1                     59.9              1.996667\n",
            "2                     73.9              2.463333\n",
            "3                     98.0              3.266667\n",
            "4                     83.9              2.796667\n"
          ]
        }
      ],
      "source": [
        "# Calculamos  de la facturacion diaria\n",
        "df[\"account.DailyCharges\"] = df[\"account.Charges.Monthly\"] / 30\n",
        "\n",
        "print(df[[\"account.Charges.Monthly\", \"account.DailyCharges\"]].head())"
      ]
    },
    {
      "cell_type": "markdown",
      "metadata": {},
      "source": []
    },
    {
      "cell_type": "markdown",
      "metadata": {},
      "source": [
        "- Creamos una nueva columna account.DailyCharges que representa el gasto diario de cada cliente\n",
        "- Esto puede ser útil para identificar patrones de consumo más precisos, como fluctuaciones de gasto o correlaciones con cancelaciones.\n",
        "- el grafico  permite ver si hay diferencias marcadas en el comportamiento de gasto diario."
      ]
    },
    {
      "cell_type": "code",
      "execution_count": 24,
      "metadata": {},
      "outputs": [
        {
          "data": {
            "application/vnd.plotly.v1+json": {
              "config": {
                "plotlyServerURL": "https://plot.ly"
              },
              "data": [
                {
                  "bingroup": "x",
                  "hovertemplate": "account.DailyCharges=%{x}<br>count=%{y}<extra></extra>",
                  "legendgroup": "",
                  "marker": {
                    "color": "#8E09EC",
                    "opacity": 0.8,
                    "pattern": {
                      "shape": ""
                    }
                  },
                  "name": "",
                  "nbinsx": 30,
                  "orientation": "v",
                  "showlegend": false,
                  "type": "histogram",
                  "x": {
                    "bdata": "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",
                    "dtype": "f8"
                  },
                  "xaxis": "x",
                  "yaxis": "y"
                },
                {
                  "hovertemplate": "account.DailyCharges=%{x}<extra></extra>",
                  "legendgroup": "",
                  "marker": {
                    "color": "#8E09EC"
                  },
                  "name": "",
                  "notched": true,
                  "showlegend": false,
                  "type": "box",
                  "x": {
                    "bdata": "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",
                    "dtype": "f8"
                  },
                  "xaxis": "x2",
                  "yaxis": "y2"
                }
              ],
              "layout": {
                "bargap": 0.05,
                "barmode": "relative",
                "legend": {
                  "tracegroupgap": 0
                },
                "template": {
                  "data": {
                    "bar": [
                      {
                        "error_x": {
                          "color": "#2a3f5f"
                        },
                        "error_y": {
                          "color": "#2a3f5f"
                        },
                        "marker": {
                          "line": {
                            "color": "white",
                            "width": 0.5
                          },
                          "pattern": {
                            "fillmode": "overlay",
                            "size": 10,
                            "solidity": 0.2
                          }
                        },
                        "type": "bar"
                      }
                    ],
                    "barpolar": [
                      {
                        "marker": {
                          "line": {
                            "color": "white",
                            "width": 0.5
                          },
                          "pattern": {
                            "fillmode": "overlay",
                            "size": 10,
                            "solidity": 0.2
                          }
                        },
                        "type": "barpolar"
                      }
                    ],
                    "carpet": [
                      {
                        "aaxis": {
                          "endlinecolor": "#2a3f5f",
                          "gridcolor": "#C8D4E3",
                          "linecolor": "#C8D4E3",
                          "minorgridcolor": "#C8D4E3",
                          "startlinecolor": "#2a3f5f"
                        },
                        "baxis": {
                          "endlinecolor": "#2a3f5f",
                          "gridcolor": "#C8D4E3",
                          "linecolor": "#C8D4E3",
                          "minorgridcolor": "#C8D4E3",
                          "startlinecolor": "#2a3f5f"
                        },
                        "type": "carpet"
                      }
                    ],
                    "choropleth": [
                      {
                        "colorbar": {
                          "outlinewidth": 0,
                          "ticks": ""
                        },
                        "type": "choropleth"
                      }
                    ],
                    "contour": [
                      {
                        "colorbar": {
                          "outlinewidth": 0,
                          "ticks": ""
                        },
                        "colorscale": [
                          [
                            0,
                            "#0d0887"
                          ],
                          [
                            0.1111111111111111,
                            "#46039f"
                          ],
                          [
                            0.2222222222222222,
                            "#7201a8"
                          ],
                          [
                            0.3333333333333333,
                            "#9c179e"
                          ],
                          [
                            0.4444444444444444,
                            "#bd3786"
                          ],
                          [
                            0.5555555555555556,
                            "#d8576b"
                          ],
                          [
                            0.6666666666666666,
                            "#ed7953"
                          ],
                          [
                            0.7777777777777778,
                            "#fb9f3a"
                          ],
                          [
                            0.8888888888888888,
                            "#fdca26"
                          ],
                          [
                            1,
                            "#f0f921"
                          ]
                        ],
                        "type": "contour"
                      }
                    ],
                    "contourcarpet": [
                      {
                        "colorbar": {
                          "outlinewidth": 0,
                          "ticks": ""
                        },
                        "type": "contourcarpet"
                      }
                    ],
                    "heatmap": [
                      {
                        "colorbar": {
                          "outlinewidth": 0,
                          "ticks": ""
                        },
                        "colorscale": [
                          [
                            0,
                            "#0d0887"
                          ],
                          [
                            0.1111111111111111,
                            "#46039f"
                          ],
                          [
                            0.2222222222222222,
                            "#7201a8"
                          ],
                          [
                            0.3333333333333333,
                            "#9c179e"
                          ],
                          [
                            0.4444444444444444,
                            "#bd3786"
                          ],
                          [
                            0.5555555555555556,
                            "#d8576b"
                          ],
                          [
                            0.6666666666666666,
                            "#ed7953"
                          ],
                          [
                            0.7777777777777778,
                            "#fb9f3a"
                          ],
                          [
                            0.8888888888888888,
                            "#fdca26"
                          ],
                          [
                            1,
                            "#f0f921"
                          ]
                        ],
                        "type": "heatmap"
                      }
                    ],
                    "histogram": [
                      {
                        "marker": {
                          "pattern": {
                            "fillmode": "overlay",
                            "size": 10,
                            "solidity": 0.2
                          }
                        },
                        "type": "histogram"
                      }
                    ],
                    "histogram2d": [
                      {
                        "colorbar": {
                          "outlinewidth": 0,
                          "ticks": ""
                        },
                        "colorscale": [
                          [
                            0,
                            "#0d0887"
                          ],
                          [
                            0.1111111111111111,
                            "#46039f"
                          ],
                          [
                            0.2222222222222222,
                            "#7201a8"
                          ],
                          [
                            0.3333333333333333,
                            "#9c179e"
                          ],
                          [
                            0.4444444444444444,
                            "#bd3786"
                          ],
                          [
                            0.5555555555555556,
                            "#d8576b"
                          ],
                          [
                            0.6666666666666666,
                            "#ed7953"
                          ],
                          [
                            0.7777777777777778,
                            "#fb9f3a"
                          ],
                          [
                            0.8888888888888888,
                            "#fdca26"
                          ],
                          [
                            1,
                            "#f0f921"
                          ]
                        ],
                        "type": "histogram2d"
                      }
                    ],
                    "histogram2dcontour": [
                      {
                        "colorbar": {
                          "outlinewidth": 0,
                          "ticks": ""
                        },
                        "colorscale": [
                          [
                            0,
                            "#0d0887"
                          ],
                          [
                            0.1111111111111111,
                            "#46039f"
                          ],
                          [
                            0.2222222222222222,
                            "#7201a8"
                          ],
                          [
                            0.3333333333333333,
                            "#9c179e"
                          ],
                          [
                            0.4444444444444444,
                            "#bd3786"
                          ],
                          [
                            0.5555555555555556,
                            "#d8576b"
                          ],
                          [
                            0.6666666666666666,
                            "#ed7953"
                          ],
                          [
                            0.7777777777777778,
                            "#fb9f3a"
                          ],
                          [
                            0.8888888888888888,
                            "#fdca26"
                          ],
                          [
                            1,
                            "#f0f921"
                          ]
                        ],
                        "type": "histogram2dcontour"
                      }
                    ],
                    "mesh3d": [
                      {
                        "colorbar": {
                          "outlinewidth": 0,
                          "ticks": ""
                        },
                        "type": "mesh3d"
                      }
                    ],
                    "parcoords": [
                      {
                        "line": {
                          "colorbar": {
                            "outlinewidth": 0,
                            "ticks": ""
                          }
                        },
                        "type": "parcoords"
                      }
                    ],
                    "pie": [
                      {
                        "automargin": true,
                        "type": "pie"
                      }
                    ],
                    "scatter": [
                      {
                        "fillpattern": {
                          "fillmode": "overlay",
                          "size": 10,
                          "solidity": 0.2
                        },
                        "type": "scatter"
                      }
                    ],
                    "scatter3d": [
                      {
                        "line": {
                          "colorbar": {
                            "outlinewidth": 0,
                            "ticks": ""
                          }
                        },
                        "marker": {
                          "colorbar": {
                            "outlinewidth": 0,
                            "ticks": ""
                          }
                        },
                        "type": "scatter3d"
                      }
                    ],
                    "scattercarpet": [
                      {
                        "marker": {
                          "colorbar": {
                            "outlinewidth": 0,
                            "ticks": ""
                          }
                        },
                        "type": "scattercarpet"
                      }
                    ],
                    "scattergeo": [
                      {
                        "marker": {
                          "colorbar": {
                            "outlinewidth": 0,
                            "ticks": ""
                          }
                        },
                        "type": "scattergeo"
                      }
                    ],
                    "scattergl": [
                      {
                        "marker": {
                          "colorbar": {
                            "outlinewidth": 0,
                            "ticks": ""
                          }
                        },
                        "type": "scattergl"
                      }
                    ],
                    "scattermap": [
                      {
                        "marker": {
                          "colorbar": {
                            "outlinewidth": 0,
                            "ticks": ""
                          }
                        },
                        "type": "scattermap"
                      }
                    ],
                    "scattermapbox": [
                      {
                        "marker": {
                          "colorbar": {
                            "outlinewidth": 0,
                            "ticks": ""
                          }
                        },
                        "type": "scattermapbox"
                      }
                    ],
                    "scatterpolar": [
                      {
                        "marker": {
                          "colorbar": {
                            "outlinewidth": 0,
                            "ticks": ""
                          }
                        },
                        "type": "scatterpolar"
                      }
                    ],
                    "scatterpolargl": [
                      {
                        "marker": {
                          "colorbar": {
                            "outlinewidth": 0,
                            "ticks": ""
                          }
                        },
                        "type": "scatterpolargl"
                      }
                    ],
                    "scatterternary": [
                      {
                        "marker": {
                          "colorbar": {
                            "outlinewidth": 0,
                            "ticks": ""
                          }
                        },
                        "type": "scatterternary"
                      }
                    ],
                    "surface": [
                      {
                        "colorbar": {
                          "outlinewidth": 0,
                          "ticks": ""
                        },
                        "colorscale": [
                          [
                            0,
                            "#0d0887"
                          ],
                          [
                            0.1111111111111111,
                            "#46039f"
                          ],
                          [
                            0.2222222222222222,
                            "#7201a8"
                          ],
                          [
                            0.3333333333333333,
                            "#9c179e"
                          ],
                          [
                            0.4444444444444444,
                            "#bd3786"
                          ],
                          [
                            0.5555555555555556,
                            "#d8576b"
                          ],
                          [
                            0.6666666666666666,
                            "#ed7953"
                          ],
                          [
                            0.7777777777777778,
                            "#fb9f3a"
                          ],
                          [
                            0.8888888888888888,
                            "#fdca26"
                          ],
                          [
                            1,
                            "#f0f921"
                          ]
                        ],
                        "type": "surface"
                      }
                    ],
                    "table": [
                      {
                        "cells": {
                          "fill": {
                            "color": "#EBF0F8"
                          },
                          "line": {
                            "color": "white"
                          }
                        },
                        "header": {
                          "fill": {
                            "color": "#C8D4E3"
                          },
                          "line": {
                            "color": "white"
                          }
                        },
                        "type": "table"
                      }
                    ]
                  },
                  "layout": {
                    "annotationdefaults": {
                      "arrowcolor": "#2a3f5f",
                      "arrowhead": 0,
                      "arrowwidth": 1
                    },
                    "autotypenumbers": "strict",
                    "coloraxis": {
                      "colorbar": {
                        "outlinewidth": 0,
                        "ticks": ""
                      }
                    },
                    "colorscale": {
                      "diverging": [
                        [
                          0,
                          "#8e0152"
                        ],
                        [
                          0.1,
                          "#c51b7d"
                        ],
                        [
                          0.2,
                          "#de77ae"
                        ],
                        [
                          0.3,
                          "#f1b6da"
                        ],
                        [
                          0.4,
                          "#fde0ef"
                        ],
                        [
                          0.5,
                          "#f7f7f7"
                        ],
                        [
                          0.6,
                          "#e6f5d0"
                        ],
                        [
                          0.7,
                          "#b8e186"
                        ],
                        [
                          0.8,
                          "#7fbc41"
                        ],
                        [
                          0.9,
                          "#4d9221"
                        ],
                        [
                          1,
                          "#276419"
                        ]
                      ],
                      "sequential": [
                        [
                          0,
                          "#0d0887"
                        ],
                        [
                          0.1111111111111111,
                          "#46039f"
                        ],
                        [
                          0.2222222222222222,
                          "#7201a8"
                        ],
                        [
                          0.3333333333333333,
                          "#9c179e"
                        ],
                        [
                          0.4444444444444444,
                          "#bd3786"
                        ],
                        [
                          0.5555555555555556,
                          "#d8576b"
                        ],
                        [
                          0.6666666666666666,
                          "#ed7953"
                        ],
                        [
                          0.7777777777777778,
                          "#fb9f3a"
                        ],
                        [
                          0.8888888888888888,
                          "#fdca26"
                        ],
                        [
                          1,
                          "#f0f921"
                        ]
                      ],
                      "sequentialminus": [
                        [
                          0,
                          "#0d0887"
                        ],
                        [
                          0.1111111111111111,
                          "#46039f"
                        ],
                        [
                          0.2222222222222222,
                          "#7201a8"
                        ],
                        [
                          0.3333333333333333,
                          "#9c179e"
                        ],
                        [
                          0.4444444444444444,
                          "#bd3786"
                        ],
                        [
                          0.5555555555555556,
                          "#d8576b"
                        ],
                        [
                          0.6666666666666666,
                          "#ed7953"
                        ],
                        [
                          0.7777777777777778,
                          "#fb9f3a"
                        ],
                        [
                          0.8888888888888888,
                          "#fdca26"
                        ],
                        [
                          1,
                          "#f0f921"
                        ]
                      ]
                    },
                    "colorway": [
                      "#636efa",
                      "#EF553B",
                      "#00cc96",
                      "#ab63fa",
                      "#FFA15A",
                      "#19d3f3",
                      "#FF6692",
                      "#B6E880",
                      "#FF97FF",
                      "#FECB52"
                    ],
                    "font": {
                      "color": "#2a3f5f"
                    },
                    "geo": {
                      "bgcolor": "white",
                      "lakecolor": "white",
                      "landcolor": "white",
                      "showlakes": true,
                      "showland": true,
                      "subunitcolor": "#C8D4E3"
                    },
                    "hoverlabel": {
                      "align": "left"
                    },
                    "hovermode": "closest",
                    "mapbox": {
                      "style": "light"
                    },
                    "paper_bgcolor": "white",
                    "plot_bgcolor": "white",
                    "polar": {
                      "angularaxis": {
                        "gridcolor": "#EBF0F8",
                        "linecolor": "#EBF0F8",
                        "ticks": ""
                      },
                      "bgcolor": "white",
                      "radialaxis": {
                        "gridcolor": "#EBF0F8",
                        "linecolor": "#EBF0F8",
                        "ticks": ""
                      }
                    },
                    "scene": {
                      "xaxis": {
                        "backgroundcolor": "white",
                        "gridcolor": "#DFE8F3",
                        "gridwidth": 2,
                        "linecolor": "#EBF0F8",
                        "showbackground": true,
                        "ticks": "",
                        "zerolinecolor": "#EBF0F8"
                      },
                      "yaxis": {
                        "backgroundcolor": "white",
                        "gridcolor": "#DFE8F3",
                        "gridwidth": 2,
                        "linecolor": "#EBF0F8",
                        "showbackground": true,
                        "ticks": "",
                        "zerolinecolor": "#EBF0F8"
                      },
                      "zaxis": {
                        "backgroundcolor": "white",
                        "gridcolor": "#DFE8F3",
                        "gridwidth": 2,
                        "linecolor": "#EBF0F8",
                        "showbackground": true,
                        "ticks": "",
                        "zerolinecolor": "#EBF0F8"
                      }
                    },
                    "shapedefaults": {
                      "line": {
                        "color": "#2a3f5f"
                      }
                    },
                    "ternary": {
                      "aaxis": {
                        "gridcolor": "#DFE8F3",
                        "linecolor": "#A2B1C6",
                        "ticks": ""
                      },
                      "baxis": {
                        "gridcolor": "#DFE8F3",
                        "linecolor": "#A2B1C6",
                        "ticks": ""
                      },
                      "bgcolor": "white",
                      "caxis": {
                        "gridcolor": "#DFE8F3",
                        "linecolor": "#A2B1C6",
                        "ticks": ""
                      }
                    },
                    "title": {
                      "x": 0.05
                    },
                    "xaxis": {
                      "automargin": true,
                      "gridcolor": "#EBF0F8",
                      "linecolor": "#EBF0F8",
                      "ticks": "",
                      "title": {
                        "standoff": 15
                      },
                      "zerolinecolor": "#EBF0F8",
                      "zerolinewidth": 2
                    },
                    "yaxis": {
                      "automargin": true,
                      "gridcolor": "#EBF0F8",
                      "linecolor": "#EBF0F8",
                      "ticks": "",
                      "title": {
                        "standoff": 15
                      },
                      "zerolinecolor": "#EBF0F8",
                      "zerolinewidth": 2
                    }
                  }
                },
                "title": {
                  "text": "Distribución de Facturación Diaria de los Clientes"
                },
                "xaxis": {
                  "anchor": "y",
                  "domain": [
                    0,
                    1
                  ],
                  "title": {
                    "text": "Facturación Diaria"
                  }
                },
                "xaxis2": {
                  "anchor": "y2",
                  "domain": [
                    0,
                    1
                  ],
                  "matches": "x",
                  "showgrid": true,
                  "showticklabels": false
                },
                "yaxis": {
                  "anchor": "x",
                  "domain": [
                    0,
                    0.8316
                  ],
                  "title": {
                    "text": "Cantidad de Clientes"
                  }
                },
                "yaxis2": {
                  "anchor": "x2",
                  "domain": [
                    0.8416,
                    1
                  ],
                  "matches": "y2",
                  "showgrid": false,
                  "showline": false,
                  "showticklabels": false,
                  "ticks": ""
                }
              }
            }
          },
          "metadata": {},
          "output_type": "display_data"
        }
      ],
      "source": [
        "import plotly.express as px\n",
        "\n",
        "# Creamos histograma \n",
        "fig = px.histogram(df, x=\"account.DailyCharges\", nbins=30, opacity=0.8, \n",
        "                   title=\"Distribución de Facturación Diaria de los Clientes\",\n",
        "                   color_discrete_sequence=[\"#8E09EC\"], \n",
        "                   marginal=\"box\") \n",
        "\n",
        "fig.update_layout(\n",
        "    xaxis_title=\"Facturación Diaria\",\n",
        "    yaxis_title=\"Cantidad de Clientes\",\n",
        "    template=\"plotly_white\",\n",
        "    bargap=0.05 \n",
        ")\n",
        "fig.show()"
      ]
    },
    {
      "cell_type": "markdown",
      "metadata": {},
      "source": []
    },
    {
      "cell_type": "code",
      "execution_count": 25,
      "metadata": {},
      "outputs": [
        {
          "name": "stdout",
          "output_type": "stream",
          "text": [
            "   CantidadServicios\n",
            "0                  5\n",
            "1                  4\n",
            "2                  3\n",
            "3                  6\n",
            "4                  4\n"
          ]
        }
      ],
      "source": [
        "# Creamos la columna cantidad de servicios contratados\n",
        "df[\"CantidadServicios\"] = (\n",
        "    (df[\"phone.PhoneService\"] == \"Yes\").astype(int) + \n",
        "    (df[\"phone.MultipleLines\"] == \"Yes\").astype(int) +\n",
        "    (df[\"internet.InternetService\"] != \"No\").astype(int) + \n",
        "    (df[\"internet.OnlineSecurity\"] == \"Yes\").astype(int) +\n",
        "    (df[\"internet.OnlineBackup\"] == \"Yes\").astype(int) + \n",
        "    (df[\"internet.DeviceProtection\"] == \"Yes\").astype(int) +\n",
        "    (df[\"internet.TechSupport\"] == \"Yes\").astype(int) +\n",
        "    (df[\"internet.StreamingTV\"] == \"Yes\").astype(int) +\n",
        "    (df[\"internet.StreamingMovies\"] == \"Yes\").astype(int)\n",
        ")\n",
        "\n",
        "print(df[[\"CantidadServicios\"]].head())  \n"
      ]
    },
    {
      "cell_type": "code",
      "execution_count": 26,
      "metadata": {},
      "outputs": [
        {
          "name": "stdout",
          "output_type": "stream",
          "text": [
            "                   CantidadServicios     Churn\n",
            "CantidadServicios           1.000000 -0.019375\n",
            "Churn                      -0.019375  1.000000\n"
          ]
        }
      ],
      "source": [
        "# Calculamos la correlación entre cantidad de servicios y Perdida de Clientes (Churn)\n",
        "print(df[[\"CantidadServicios\", \"Churn\"]].corr())"
      ]
    },
    {
      "cell_type": "markdown",
      "metadata": {},
      "source": [
        "- Se suman los servicios contratados por cada cliente.\n",
        "- Convertimos \"Yes\" en 1 y \"No\" en 0 para obtener un número total de servicios por cliente.\n",
        "- Verificamos si la cantidad de servicios contratados influye en la cancelacion de clientes"
      ]
    },
    {
      "cell_type": "code",
      "execution_count": 27,
      "metadata": {},
      "outputs": [
        {
          "data": {
            "application/vnd.plotly.v1+json": {
              "config": {
                "plotlyServerURL": "https://plot.ly"
              },
              "data": [
                {
                  "hovertemplate": "Número de Servicios Contratados=%{x}<br>Tasa de Cliente Perdido=%{y}<extra></extra>",
                  "legendgroup": "",
                  "line": {
                    "color": "#636efa",
                    "dash": "solid",
                    "shape": "linear"
                  },
                  "marker": {
                    "color": "red",
                    "size": 10,
                    "symbol": "circle-open"
                  },
                  "mode": "lines+markers",
                  "name": "",
                  "orientation": "v",
                  "showlegend": false,
                  "type": "scatter",
                  "x": {
                    "bdata": "AQIDBAUGBwgJ",
                    "dtype": "i1"
                  },
                  "xaxis": "x",
                  "y": {
                    "bdata": "5ne1uAnzuz91QjM8gtHTP8hD8FU+v9w/T95yA1dY1z9EmZx+jA/UP8QGPmM4WtA/p0K04fPHzD9QDGdDyMG/PzuxEzuxE6s/",
                    "dtype": "f8"
                  },
                  "yaxis": "y"
                }
              ],
              "layout": {
                "legend": {
                  "tracegroupgap": 0
                },
                "template": {
                  "data": {
                    "bar": [
                      {
                        "error_x": {
                          "color": "#2a3f5f"
                        },
                        "error_y": {
                          "color": "#2a3f5f"
                        },
                        "marker": {
                          "line": {
                            "color": "#E5ECF6",
                            "width": 0.5
                          },
                          "pattern": {
                            "fillmode": "overlay",
                            "size": 10,
                            "solidity": 0.2
                          }
                        },
                        "type": "bar"
                      }
                    ],
                    "barpolar": [
                      {
                        "marker": {
                          "line": {
                            "color": "#E5ECF6",
                            "width": 0.5
                          },
                          "pattern": {
                            "fillmode": "overlay",
                            "size": 10,
                            "solidity": 0.2
                          }
                        },
                        "type": "barpolar"
                      }
                    ],
                    "carpet": [
                      {
                        "aaxis": {
                          "endlinecolor": "#2a3f5f",
                          "gridcolor": "white",
                          "linecolor": "white",
                          "minorgridcolor": "white",
                          "startlinecolor": "#2a3f5f"
                        },
                        "baxis": {
                          "endlinecolor": "#2a3f5f",
                          "gridcolor": "white",
                          "linecolor": "white",
                          "minorgridcolor": "white",
                          "startlinecolor": "#2a3f5f"
                        },
                        "type": "carpet"
                      }
                    ],
                    "choropleth": [
                      {
                        "colorbar": {
                          "outlinewidth": 0,
                          "ticks": ""
                        },
                        "type": "choropleth"
                      }
                    ],
                    "contour": [
                      {
                        "colorbar": {
                          "outlinewidth": 0,
                          "ticks": ""
                        },
                        "colorscale": [
                          [
                            0,
                            "#0d0887"
                          ],
                          [
                            0.1111111111111111,
                            "#46039f"
                          ],
                          [
                            0.2222222222222222,
                            "#7201a8"
                          ],
                          [
                            0.3333333333333333,
                            "#9c179e"
                          ],
                          [
                            0.4444444444444444,
                            "#bd3786"
                          ],
                          [
                            0.5555555555555556,
                            "#d8576b"
                          ],
                          [
                            0.6666666666666666,
                            "#ed7953"
                          ],
                          [
                            0.7777777777777778,
                            "#fb9f3a"
                          ],
                          [
                            0.8888888888888888,
                            "#fdca26"
                          ],
                          [
                            1,
                            "#f0f921"
                          ]
                        ],
                        "type": "contour"
                      }
                    ],
                    "contourcarpet": [
                      {
                        "colorbar": {
                          "outlinewidth": 0,
                          "ticks": ""
                        },
                        "type": "contourcarpet"
                      }
                    ],
                    "heatmap": [
                      {
                        "colorbar": {
                          "outlinewidth": 0,
                          "ticks": ""
                        },
                        "colorscale": [
                          [
                            0,
                            "#0d0887"
                          ],
                          [
                            0.1111111111111111,
                            "#46039f"
                          ],
                          [
                            0.2222222222222222,
                            "#7201a8"
                          ],
                          [
                            0.3333333333333333,
                            "#9c179e"
                          ],
                          [
                            0.4444444444444444,
                            "#bd3786"
                          ],
                          [
                            0.5555555555555556,
                            "#d8576b"
                          ],
                          [
                            0.6666666666666666,
                            "#ed7953"
                          ],
                          [
                            0.7777777777777778,
                            "#fb9f3a"
                          ],
                          [
                            0.8888888888888888,
                            "#fdca26"
                          ],
                          [
                            1,
                            "#f0f921"
                          ]
                        ],
                        "type": "heatmap"
                      }
                    ],
                    "histogram": [
                      {
                        "marker": {
                          "pattern": {
                            "fillmode": "overlay",
                            "size": 10,
                            "solidity": 0.2
                          }
                        },
                        "type": "histogram"
                      }
                    ],
                    "histogram2d": [
                      {
                        "colorbar": {
                          "outlinewidth": 0,
                          "ticks": ""
                        },
                        "colorscale": [
                          [
                            0,
                            "#0d0887"
                          ],
                          [
                            0.1111111111111111,
                            "#46039f"
                          ],
                          [
                            0.2222222222222222,
                            "#7201a8"
                          ],
                          [
                            0.3333333333333333,
                            "#9c179e"
                          ],
                          [
                            0.4444444444444444,
                            "#bd3786"
                          ],
                          [
                            0.5555555555555556,
                            "#d8576b"
                          ],
                          [
                            0.6666666666666666,
                            "#ed7953"
                          ],
                          [
                            0.7777777777777778,
                            "#fb9f3a"
                          ],
                          [
                            0.8888888888888888,
                            "#fdca26"
                          ],
                          [
                            1,
                            "#f0f921"
                          ]
                        ],
                        "type": "histogram2d"
                      }
                    ],
                    "histogram2dcontour": [
                      {
                        "colorbar": {
                          "outlinewidth": 0,
                          "ticks": ""
                        },
                        "colorscale": [
                          [
                            0,
                            "#0d0887"
                          ],
                          [
                            0.1111111111111111,
                            "#46039f"
                          ],
                          [
                            0.2222222222222222,
                            "#7201a8"
                          ],
                          [
                            0.3333333333333333,
                            "#9c179e"
                          ],
                          [
                            0.4444444444444444,
                            "#bd3786"
                          ],
                          [
                            0.5555555555555556,
                            "#d8576b"
                          ],
                          [
                            0.6666666666666666,
                            "#ed7953"
                          ],
                          [
                            0.7777777777777778,
                            "#fb9f3a"
                          ],
                          [
                            0.8888888888888888,
                            "#fdca26"
                          ],
                          [
                            1,
                            "#f0f921"
                          ]
                        ],
                        "type": "histogram2dcontour"
                      }
                    ],
                    "mesh3d": [
                      {
                        "colorbar": {
                          "outlinewidth": 0,
                          "ticks": ""
                        },
                        "type": "mesh3d"
                      }
                    ],
                    "parcoords": [
                      {
                        "line": {
                          "colorbar": {
                            "outlinewidth": 0,
                            "ticks": ""
                          }
                        },
                        "type": "parcoords"
                      }
                    ],
                    "pie": [
                      {
                        "automargin": true,
                        "type": "pie"
                      }
                    ],
                    "scatter": [
                      {
                        "fillpattern": {
                          "fillmode": "overlay",
                          "size": 10,
                          "solidity": 0.2
                        },
                        "type": "scatter"
                      }
                    ],
                    "scatter3d": [
                      {
                        "line": {
                          "colorbar": {
                            "outlinewidth": 0,
                            "ticks": ""
                          }
                        },
                        "marker": {
                          "colorbar": {
                            "outlinewidth": 0,
                            "ticks": ""
                          }
                        },
                        "type": "scatter3d"
                      }
                    ],
                    "scattercarpet": [
                      {
                        "marker": {
                          "colorbar": {
                            "outlinewidth": 0,
                            "ticks": ""
                          }
                        },
                        "type": "scattercarpet"
                      }
                    ],
                    "scattergeo": [
                      {
                        "marker": {
                          "colorbar": {
                            "outlinewidth": 0,
                            "ticks": ""
                          }
                        },
                        "type": "scattergeo"
                      }
                    ],
                    "scattergl": [
                      {
                        "marker": {
                          "colorbar": {
                            "outlinewidth": 0,
                            "ticks": ""
                          }
                        },
                        "type": "scattergl"
                      }
                    ],
                    "scattermap": [
                      {
                        "marker": {
                          "colorbar": {
                            "outlinewidth": 0,
                            "ticks": ""
                          }
                        },
                        "type": "scattermap"
                      }
                    ],
                    "scattermapbox": [
                      {
                        "marker": {
                          "colorbar": {
                            "outlinewidth": 0,
                            "ticks": ""
                          }
                        },
                        "type": "scattermapbox"
                      }
                    ],
                    "scatterpolar": [
                      {
                        "marker": {
                          "colorbar": {
                            "outlinewidth": 0,
                            "ticks": ""
                          }
                        },
                        "type": "scatterpolar"
                      }
                    ],
                    "scatterpolargl": [
                      {
                        "marker": {
                          "colorbar": {
                            "outlinewidth": 0,
                            "ticks": ""
                          }
                        },
                        "type": "scatterpolargl"
                      }
                    ],
                    "scatterternary": [
                      {
                        "marker": {
                          "colorbar": {
                            "outlinewidth": 0,
                            "ticks": ""
                          }
                        },
                        "type": "scatterternary"
                      }
                    ],
                    "surface": [
                      {
                        "colorbar": {
                          "outlinewidth": 0,
                          "ticks": ""
                        },
                        "colorscale": [
                          [
                            0,
                            "#0d0887"
                          ],
                          [
                            0.1111111111111111,
                            "#46039f"
                          ],
                          [
                            0.2222222222222222,
                            "#7201a8"
                          ],
                          [
                            0.3333333333333333,
                            "#9c179e"
                          ],
                          [
                            0.4444444444444444,
                            "#bd3786"
                          ],
                          [
                            0.5555555555555556,
                            "#d8576b"
                          ],
                          [
                            0.6666666666666666,
                            "#ed7953"
                          ],
                          [
                            0.7777777777777778,
                            "#fb9f3a"
                          ],
                          [
                            0.8888888888888888,
                            "#fdca26"
                          ],
                          [
                            1,
                            "#f0f921"
                          ]
                        ],
                        "type": "surface"
                      }
                    ],
                    "table": [
                      {
                        "cells": {
                          "fill": {
                            "color": "#EBF0F8"
                          },
                          "line": {
                            "color": "white"
                          }
                        },
                        "header": {
                          "fill": {
                            "color": "#C8D4E3"
                          },
                          "line": {
                            "color": "white"
                          }
                        },
                        "type": "table"
                      }
                    ]
                  },
                  "layout": {
                    "annotationdefaults": {
                      "arrowcolor": "#2a3f5f",
                      "arrowhead": 0,
                      "arrowwidth": 1
                    },
                    "autotypenumbers": "strict",
                    "coloraxis": {
                      "colorbar": {
                        "outlinewidth": 0,
                        "ticks": ""
                      }
                    },
                    "colorscale": {
                      "diverging": [
                        [
                          0,
                          "#8e0152"
                        ],
                        [
                          0.1,
                          "#c51b7d"
                        ],
                        [
                          0.2,
                          "#de77ae"
                        ],
                        [
                          0.3,
                          "#f1b6da"
                        ],
                        [
                          0.4,
                          "#fde0ef"
                        ],
                        [
                          0.5,
                          "#f7f7f7"
                        ],
                        [
                          0.6,
                          "#e6f5d0"
                        ],
                        [
                          0.7,
                          "#b8e186"
                        ],
                        [
                          0.8,
                          "#7fbc41"
                        ],
                        [
                          0.9,
                          "#4d9221"
                        ],
                        [
                          1,
                          "#276419"
                        ]
                      ],
                      "sequential": [
                        [
                          0,
                          "#0d0887"
                        ],
                        [
                          0.1111111111111111,
                          "#46039f"
                        ],
                        [
                          0.2222222222222222,
                          "#7201a8"
                        ],
                        [
                          0.3333333333333333,
                          "#9c179e"
                        ],
                        [
                          0.4444444444444444,
                          "#bd3786"
                        ],
                        [
                          0.5555555555555556,
                          "#d8576b"
                        ],
                        [
                          0.6666666666666666,
                          "#ed7953"
                        ],
                        [
                          0.7777777777777778,
                          "#fb9f3a"
                        ],
                        [
                          0.8888888888888888,
                          "#fdca26"
                        ],
                        [
                          1,
                          "#f0f921"
                        ]
                      ],
                      "sequentialminus": [
                        [
                          0,
                          "#0d0887"
                        ],
                        [
                          0.1111111111111111,
                          "#46039f"
                        ],
                        [
                          0.2222222222222222,
                          "#7201a8"
                        ],
                        [
                          0.3333333333333333,
                          "#9c179e"
                        ],
                        [
                          0.4444444444444444,
                          "#bd3786"
                        ],
                        [
                          0.5555555555555556,
                          "#d8576b"
                        ],
                        [
                          0.6666666666666666,
                          "#ed7953"
                        ],
                        [
                          0.7777777777777778,
                          "#fb9f3a"
                        ],
                        [
                          0.8888888888888888,
                          "#fdca26"
                        ],
                        [
                          1,
                          "#f0f921"
                        ]
                      ]
                    },
                    "colorway": [
                      "#636efa",
                      "#EF553B",
                      "#00cc96",
                      "#ab63fa",
                      "#FFA15A",
                      "#19d3f3",
                      "#FF6692",
                      "#B6E880",
                      "#FF97FF",
                      "#FECB52"
                    ],
                    "font": {
                      "color": "#2a3f5f"
                    },
                    "geo": {
                      "bgcolor": "white",
                      "lakecolor": "white",
                      "landcolor": "#E5ECF6",
                      "showlakes": true,
                      "showland": true,
                      "subunitcolor": "white"
                    },
                    "hoverlabel": {
                      "align": "left"
                    },
                    "hovermode": "closest",
                    "mapbox": {
                      "style": "light"
                    },
                    "paper_bgcolor": "white",
                    "plot_bgcolor": "#E5ECF6",
                    "polar": {
                      "angularaxis": {
                        "gridcolor": "white",
                        "linecolor": "white",
                        "ticks": ""
                      },
                      "bgcolor": "#E5ECF6",
                      "radialaxis": {
                        "gridcolor": "white",
                        "linecolor": "white",
                        "ticks": ""
                      }
                    },
                    "scene": {
                      "xaxis": {
                        "backgroundcolor": "#E5ECF6",
                        "gridcolor": "white",
                        "gridwidth": 2,
                        "linecolor": "white",
                        "showbackground": true,
                        "ticks": "",
                        "zerolinecolor": "white"
                      },
                      "yaxis": {
                        "backgroundcolor": "#E5ECF6",
                        "gridcolor": "white",
                        "gridwidth": 2,
                        "linecolor": "white",
                        "showbackground": true,
                        "ticks": "",
                        "zerolinecolor": "white"
                      },
                      "zaxis": {
                        "backgroundcolor": "#E5ECF6",
                        "gridcolor": "white",
                        "gridwidth": 2,
                        "linecolor": "white",
                        "showbackground": true,
                        "ticks": "",
                        "zerolinecolor": "white"
                      }
                    },
                    "shapedefaults": {
                      "line": {
                        "color": "#2a3f5f"
                      }
                    },
                    "ternary": {
                      "aaxis": {
                        "gridcolor": "white",
                        "linecolor": "white",
                        "ticks": ""
                      },
                      "baxis": {
                        "gridcolor": "white",
                        "linecolor": "white",
                        "ticks": ""
                      },
                      "bgcolor": "#E5ECF6",
                      "caxis": {
                        "gridcolor": "white",
                        "linecolor": "white",
                        "ticks": ""
                      }
                    },
                    "title": {
                      "x": 0.05
                    },
                    "xaxis": {
                      "automargin": true,
                      "gridcolor": "white",
                      "linecolor": "white",
                      "ticks": "",
                      "title": {
                        "standoff": 15
                      },
                      "zerolinecolor": "white",
                      "zerolinewidth": 2
                    },
                    "yaxis": {
                      "automargin": true,
                      "gridcolor": "white",
                      "linecolor": "white",
                      "ticks": "",
                      "title": {
                        "standoff": 15
                      },
                      "zerolinecolor": "white",
                      "zerolinewidth": 2
                    }
                  }
                },
                "title": {
                  "text": "Relación entre Cantidad de Servicios y Cliente Perdido"
                },
                "xaxis": {
                  "anchor": "y",
                  "domain": [
                    0,
                    1
                  ],
                  "title": {
                    "text": "Número de Servicios Contratados"
                  }
                },
                "yaxis": {
                  "anchor": "x",
                  "domain": [
                    0,
                    1
                  ],
                  "title": {
                    "text": "Tasa de Cliente Perdido"
                  }
                }
              }
            }
          },
          "metadata": {},
          "output_type": "display_data"
        }
      ],
      "source": [
        "# Visualizamos los datos\n",
        "import plotly.express as px\n",
        "\n",
        "# Calculamos la tasa de churn para cada cantidad de servicios\n",
        "df_grouped = df.groupby(\"CantidadServicios\")[\"Churn\"].mean().reset_index()\n",
        "\n",
        "# Crear gráfico de líneas\n",
        "fig = px.line(df_grouped, x=\"CantidadServicios\", y=\"Churn\",\n",
        "              title=\"Relación entre Cantidad de Servicios y Cliente Perdido\",\n",
        "              labels={\"CantidadServicios\": \"Número de Servicios Contratados\", \"Churn\": \"Tasa de Cliente Perdido\"},\n",
        "              line_shape=\"linear\", markers=True)\n",
        "fig.update_traces(marker=dict(size=10, symbol=\"circle-open\", color=\"red\"))\n",
        "\n",
        "# Mostramos el gráfico\n",
        "fig.show()"
      ]
    },
    {
      "cell_type": "markdown",
      "metadata": {},
      "source": [
        "- Usamos un gráfico de lineas para ver si los clientes con más servicios tienen una tasa de  cancelación menor"
      ]
    },
    {
      "cell_type": "markdown",
      "metadata": {},
      "source": []
    },
    {
      "cell_type": "code",
      "execution_count": 28,
      "metadata": {},
      "outputs": [
        {
          "data": {
            "image/png": "[encoded data removed]",
            "text/plain": [
              "<Figure size 900x700 with 2 Axes>"
            ]
          },
          "metadata": {},
          "output_type": "display_data"
        }
      ],
      "source": [
        "# Matriz de correlacion entre el \"Cliente perdido\" y las variables que lo afectan\n",
        "\n",
        "# Selección de las variables de interés\n",
        "variables_importantes = [\n",
        "    \"Churn\", \n",
        "    \"customer.tenure\", \n",
        "    \"account.Charges.Monthly\", \n",
        "    \"account.Charges.Total\", \n",
        "    \"account.DailyCharges\", \n",
        "    \"CantidadServicios\"\n",
        "]\n",
        "\n",
        "# Calcular la matriz de correlación\n",
        "corr_matrix = df[variables_importantes].corr()\n",
        "\n",
        "# Visualizar la matriz de correlación usando un heatmap\n",
        "plt.figure(figsize=(9, 7))\n",
        "sns.heatmap(\n",
        "    corr_matrix, \n",
        "    annot=True, \n",
        "    cmap=\"coolwarm\", \n",
        "    fmt=\".2f\", \n",
        "    square=True, \n",
        "    cbar_kws={\"shrink\": .75}\n",
        ")\n",
        "plt.title(\"Matriz de Correlación: Cliente Perdido y Variables Importantes\", fontsize=16, fontweight=\"bold\")\n",
        "plt.xticks(fontsize=12)\n",
        "plt.yticks(fontsize=12)\n",
        "sns.despine() \n",
        "plt.show()"
      ]
    },
    {
      "cell_type": "code",
      "execution_count": null,
      "metadata": {},
      "outputs": [],
      "source": []
    },
    {
      "cell_type": "markdown",
      "metadata": {
        "id": "v-WzfSvTmaw9"
      },
      "source": [
        "#📄Informe final"
      ]
    },
    {
      "cell_type": "markdown",
      "metadata": {},
      "source": [
        "### 1. Introducción\n",
        "\n",
        "Después de haber sido contratado como asistente de análisis de datos en TelecomX y de formar parte del equipo encargado del proyecto 'Churn de Clientes', la empresa logró identificar, mediante un exhaustivo análisis de sus indicadores de gestión, una elevada tasa de cancelación de servicios. Esta situación ha generado una preocupación significativa, ya que es fundamental comprender los diversos factores que contribuyen a la pérdida de clientes. La empresa reconoce que entender estas dinámicas no solo es crucial para desarrollar estrategias efectivas de retención, sino que también tiene un impacto directo en sus resultados financieros. Por lo tanto, se requiere un enfoque metódico y analítico para investigar las causas subyacentes de la cancelación y así implementar soluciones que mejoren la satisfacción del cliente y, en consecuencia, la rentabilidad de la empresa.\n",
        "\n",
        "\n",
        "\n",
        "### 2. Limpieza y tratamiento de los datos\n",
        "\n",
        "Se realizaron varios procesos clave para garantizar que la información estuviera lista para su análisis y modelado:\n",
        "Inspección general del dataset\n",
        "\n",
        "Se analizó la cantidad de registros, tipos de datos y valores únicos para detectar posibles problemas iniciales.\n",
        "\n",
        "Mostrar  las filas del dataset, Verificar tipos de datos y valores nulos, Descripción estadística de las variables numéricas, etc\n",
        "\n",
        "\n",
        "•  Eliminación de valores nulos y duplicados: Se identificaron registros con datos faltantes o duplicados y se tomaron decisiones sobre cómo manejarlos,   ya sea eliminándolos o imputando valores.\n",
        "\n",
        "•  Corrección de inconsistencias: Se revisaron las variables para corregir errores tipográficos, formatos incorrectos y valores fuera de rango.\n",
        "\n",
        "•  Transformación de datos categóricos y numéricos: Se realizó la codificación de variables categóricas (por ejemplo, convertir nombres de planes en valores numéricos) y la normalización/escalamiento de variables numéricas para mejorar la eficiencia del modelo.\n",
        "\n",
        "•  Creación de nuevas variables: Se generaron nuevas características a partir de las existentes, como tasas de uso, segmentaciones de clientes y métricas de interacción.\n",
        "\n",
        "•  Eliminación de ruido e información irrelevante: Se descartaron variables que no aportaban valor al análisis o que podían introducir sesgos.\n",
        "\n",
        "•  Manejo de datos desbalanceados: Se aplicaron técnicas como el sobremuestreo o submuestreo para equilibrar la cantidad de clientes que abandonaron vs. los que permanecieron.\n",
        "\n",
        "Estos procesos fueron esenciales para garantizar que los datos fueran confiables y estuvieran optimizados para predecir la probabilidad de que un cliente abandone el servicio.\n",
        "\n",
        "\n",
        "### 3.  Analisis exploratorio de Datos\n",
        "\n",
        "Se realizaron diversas técnicas para comprender la estructura, distribución y características clave de los datos\n",
        "\n",
        "###   Factores claves en la cancelación de clientes\n",
        "\n",
        "•   Clientes con menor 'tenure' ( meses de contrato del cliente) tienen mayor tasa de 'Churn' (si el cliente dejó o no la empresa).\n",
        "\n",
        "•\t Los clientes que han estado menos de 12 meses en la empresa presentan una tasa de abandono más alta.\n",
        "\n",
        "•\t Clientes con contratos mes a mes tienen una mayor probabilidad de cancelar.\n",
        "\n",
        "•   El tipo de Internet influye en el abandono.\n",
        "\n",
        "•\t Clientes con DSL tienen una tasa de cancelación más alta en comparación con Fibra Óptica.\n",
        "\n",
        "•   Los servicios adicionales ayudan a reducir la cancelación:\n",
        "\n",
        "•\t OnlineSecurity, OnlineBackup, DeviceProtection y TechSupport están correlacionados con tasas más bajas de abandono.\n",
        "\n",
        "•   El método de pago impacta en la retención.\n",
        "\n",
        "•\t Los clientes que pagan con Electronic Check presentan mayor tasa de cancelación que aquellos con pagos automáticos.\n",
        "\n",
        "\n",
        "###  Características del perfil de clientes propensos a cancelar\n",
        "\n",
        "•   Clientes sin pareja y sin dependientes tienen mayor tasa de Churn.\n",
        "\n",
        "•\t Los clientes con familia tienden a permanecer más tiempo con la empresa.\n",
        "\n",
        "\n",
        "### Los clientes con facturas digitales (PaperlessBilling) tienden a cancelar más rápido.\n",
        "\n",
        "•\t Puede deberse a una falta de contacto directo con la empresa.\n",
        "\n",
        "\n",
        "### El monto mensual influye en la cancelación.\n",
        "\n",
        "•\t Clientes con tarifas altas (>80 USD) muestran una mayor tasa de abandono.\n",
        "\n",
        "\n",
        "### Variable de  Interés\n",
        " \n",
        " La variable de mayor interés en este análisis es ***Churn***, ya que representa la cancelación de clientes, y es clave para entender que factores influyen en su abandono. Tras estudiar las variables numéricas y categóricas, se identificaron las más relevantes que afectan el Churn, ordenadas de mayor a menor impacto:\n",
        "\n",
        "1️. tenure: Los clientes con menos tiempo en la empresa (≤12 meses) tienen una tasa de cancelación más alta. La fidelización temprana es crucial.\n",
        "\n",
        "2️. Contract: Los contratos mes a mes están altamente relacionados con el abandono; los de plazo fijo retienen mejor a los clientes.\n",
        "\n",
        "3️. Charges.Monthly: Los clientes con tarifas altas (≥80 USD) presentan mayor riesgo de cancelación, sugiriendo que el precio influye significativamente.\n",
        "\n",
        "4️. InternetService: Aquellos con DSL tienen mayor tasa de Churn, mientras que Fibra Óptica retiene mejor a los clientes.\n",
        "\n",
        "5️. Servicios adicionales (OnlineSecurity, TechSupport, etc.): Clientes con estos servicios tienen menor probabilidad de abandonar.\n",
        "\n",
        "6️. PaymentMethod: Los pagos automáticos reducen la cancelación, mientras que Electronic Check tiene la tasa más alta.\n",
        "\n",
        "### 4. Conclusiones e Insight\n",
        "\n",
        "1.\tEl monto facturado y el tiempo de uso son indicadores fuertes del churn\n",
        "\n",
        "   • Clientes con facturación baja tienden a cancelar el servicio.\n",
        "   •\tUsuarios con menor tiempo de uso también muestran mayor probabilidad de churn.\n",
        "\n",
        "2.\tPlanes de bajo costo tienen a una mayor tasa de cancelación\n",
        "\n",
        "   •\tUsuarios en planes económicos muestran menos compromiso y mayor propensión a cambiar de proveedor.\n",
        "\n",
        "3.\tClientes con poca interacción con la empresa muestran mayor tasa de cancelación\n",
        "\n",
        "   •\tUsuarios que no han contactado soporte o usado beneficios tienen más probabilidades de dejar el servicio.\n",
        "\n",
        "4.\tPatrones de pago y retrasos afectan la retención\n",
        "\n",
        "   •\tMorosidad frecuente está asociada a clientes que eventualmente abandonan el servicio.\n",
        "\n",
        "5.\tSegmentos específicos muestran más vulnerabilidad al abandono del servicios\n",
        "\n",
        "   •\tMorosidad frecuente está asociada a clientes que eventualmente abandonan el servicio.\n",
        "    \tPor ejemplo, clientes nuevos tienen mayor tasa de abandono en los primeros meses.\n",
        " \n",
        "\n",
        "### 5. Recomendaciones\n",
        "\n",
        "### a.  Implementar estrategias de retención basadas en el uso y la facturación \n",
        "\n",
        "\n",
        "\n",
        "   •\tOfrecer descuentos progresivos a clientes con alto riesgo de churn.\n",
        "\n",
        "   •\tIncentivar consumo mediante paquetes de beneficios exclusivos.\n",
        "   \n",
        "   •  Ofrecer paquetes atractivos que integren múltiples servicios para aumentar la retención.\n",
        "\n",
        "\n",
        "### b. Optimizar planes y ofertas para mejorar la fidelización \n",
        "\n",
        "\n",
        "\n",
        "   •\tRediseñar planes económicos con beneficios adicionales para evitar el abandono.\n",
        "\n",
        "   •\tPromover upgrades a planes superiores con incentivos atractivos.\n",
        "\n",
        "\n",
        "### c. Mejorar la comunicación y experiencia con clientes de alto riesgo \n",
        "\n",
        "\n",
        "\n",
        "   •\tCampañas de engagement con usuarios que no han interactuado recientemente.\n",
        "\n",
        "   •\tFacilitar acceso a soporte proactivo para resolver dudas antes de que cancelen.\n",
        "\n",
        "\n",
        "### d. Incentivar pagos puntuales para reducir churn por morosidad \n",
        "\n",
        "\n",
        "\n",
        "   •\tOfrecer recompensas por pagos a tiempo.\n",
        "\n",
        "   •\tImplementar recordatorios automáticos y opciones de pago flexibles.\n",
        "\n",
        "\n",
        "### e. Enfocar estrategias en nuevos clientes para reducir su abandono inicial \n",
        "\n",
        "\n",
        "\n",
        "   •\tPlanes de bienvenida con beneficios en los primeros meses.\n",
        "\n",
        "   •\tSeguimiento más cercano a los clientes recién incorporados.\n",
        "   \n",
        "   •  La diferenciación mediante servicios adicionales es clave para la retención:\n",
        "\n",
        "\n",
        "## Estos resultados coinciden con la idea general de que ofrecer valor agregado y mejorar la experiencia del cliente reduce la tasa de \"Churn\"\n",
        "\n"
      ]
    }
  ],
  "metadata": {
    "colab": {
      "provenance": []
    },
    "kernelspec": {
      "display_name": "Python 3",
      "name": "python3"
    },
    "language_info": {
      "codemirror_mode": {
        "name": "ipython",
        "version": 3
      },
      "file_extension": ".py",
      "mimetype": "text/x-python",
      "name": "python",
      "nbconvert_exporter": "python",
      "pygments_lexer": "ipython3",
      "version": "3.13.0"
    }
  },
  "nbformat": 4,
  "nbformat_minor": 0
}
